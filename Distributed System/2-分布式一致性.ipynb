{
 "cells": [
  {
   "cell_type": "markdown",
   "metadata": {},
   "source": [
    "# <center>Consistency models in modern distributed systems. </center>\n",
    "\n",
    "### $\\S$ 1. Introduction\n",
    "1. CAP理论说明, 一个高可用系统, 在各个网络分区中的数据副本, 不可能是即连贯又一致(conherent and consistant)的.  \n",
    "2. 最终一致性的定义:   \n",
    "   在一个不再存在update操作的系统中, 系统的\"静态状态\"是这样一种状态:\"所有的update操作都已经被传播, 在所有数据副本上执行read操作, 返回的结果是一样的\". 这个定义也被理解为收敛性(convergence property): 系统中的所有数据副本, 最终都会保存一个相同的值"
   ]
  },
  {
   "cell_type": "markdown",
   "metadata": {},
   "source": []
  },
  {
   "cell_type": "code",
   "execution_count": null,
   "metadata": {},
   "outputs": [],
   "source": []
  }
 ],
 "metadata": {
  "kernelspec": {
   "display_name": "Python 3",
   "language": "python",
   "name": "python3"
  },
  "language_info": {
   "codemirror_mode": {
    "name": "ipython",
    "version": 3
   },
   "file_extension": ".py",
   "mimetype": "text/x-python",
   "name": "python",
   "nbconvert_exporter": "python",
   "pygments_lexer": "ipython3",
   "version": "3.6.5"
  }
 },
 "nbformat": 4,
 "nbformat_minor": 2
}
