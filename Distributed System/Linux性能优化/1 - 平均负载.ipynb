{
 "cells": [
  {
   "cell_type": "markdown",
   "metadata": {},
   "source": [
    "#### 1. 查看系统平均负载\n",
    "```shell\n",
    "➜  uptime\n",
    "11:20  up 3 days, 18:14, 3 users, load averages: 1.87 1.81 1.75\n",
    "```\n",
    "这几列分别是: \n",
    "* 系统当前时间\n",
    "* 系统已启动的时间\n",
    "* 当前用登陆的用户数\n",
    "* 近1分钟,5分钟,15分钟的平均负载"
   ]
  },
  {
   "cell_type": "markdown",
   "metadata": {},
   "source": [
    "#### 2. 什么是平均负载\n",
    "平均负载是指: 单位时间内, 处于可运行态和不可中断态的进程数量\n",
    "* 可运行态: 正在使用CPU或等待CPU时间片的进程数量\n",
    "* 不可中断态: 这些进程不可被打断(interrupt), 指在内核态关键流程中的进行. 比如等待硬件设备IO的进程"
   ]
  },
  {
   "cell_type": "markdown",
   "metadata": {},
   "source": [
    "#### 3. 平均负载与CPU使用率的区别\n",
    "* CPU使用率代表CPU核数使用的比率;   \n",
    " 而平均负载不仅包括正在使用CPU的进程数量, 还包括等待CPU和等待I/O的进程的数量\n",
    "* CPU使用率和平均负载不一定完全成正比 : \n",
    "    * CPU密集型进程:  \n",
    "     使用大量CPU,导致平均负载升高, 此时呈正比\n",
    "    * IO密集型进程:  \n",
    "     大量进程等待硬件IO, CPU使用率不高. 但是平均负载很高\n",
    "    * 大量等待CPU进程调度也会导致平均负载升高, 此时的CPU使用率也会比较高/\n",
    "    "
   ]
  },
  {
   "cell_type": "code",
   "execution_count": null,
   "metadata": {},
   "outputs": [],
   "source": []
  }
 ],
 "metadata": {
  "kernelspec": {
   "display_name": "Python 3",
   "language": "python",
   "name": "python3"
  },
  "language_info": {
   "codemirror_mode": {
    "name": "ipython",
    "version": 3
   },
   "file_extension": ".py",
   "mimetype": "text/x-python",
   "name": "python",
   "nbconvert_exporter": "python",
   "pygments_lexer": "ipython3",
   "version": "3.7.0"
  }
 },
 "nbformat": 4,
 "nbformat_minor": 2
}
