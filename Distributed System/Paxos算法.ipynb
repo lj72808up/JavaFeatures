{
 "cells": [
  {
   "cell_type": "markdown",
   "metadata": {},
   "source": [
    "本文来自[paxos simple](https://lamport.azurewebsites.net/pubs/paxos-simple.pdf)\n",
    "-------"
   ]
  },
  {
   "cell_type": "markdown",
   "metadata": {},
   "source": [
    "### 1.1 共识算法 - consensus algorithm\n",
    "\n",
    "#### 一. 问题提出\n",
    "1. 假设有一个进程集合, 每个进程都能提出一个值(propose a value). 因此, 这个集合会提出多个不同的值.   \n",
    " 共识算法, 就是要从这些建议的值中, 选择一个作为最终结果. 且集合中的每个进程都能学习到这个最终值\n",
    "2. 共识算法的三种agent角色  \n",
    "  1. proposers\n",
    "  2. acceptors\n",
    "  3. learners  \n",
    "工程实现上, 3个角色并非分成独立的进程, 一个进程可以同时是这3种角色\n",
    "\n",
    "#### 二. 共识算法啊的基本假设  \n",
    "1. 三种agent角色的处理速度任意快慢, 并可能宕机重启. 所有的agent都可能在最终值产生后宕机和重启, 这种情况只能让agent能够记录自己宕机和重启前的值  \n",
    "2. agent之间可以传递任意长的消息, 且消息可能由于网络原因而导致重复, 丢失, 但消息不会被篡改而错乱\n",
    "\n",
    "#### 三. 如何选择值\n",
    "1. 最简单的情形 - 只有一个acceptor agent  \n",
    " 这种情况只需让acceptor agent选择第一次收到的来自于某个proposer的提案即可.  \n",
    " 但1个acceptor agent会带来单点故障问题, 失去分布式的安全性"
   ]
  },
  {
   "cell_type": "code",
   "execution_count": null,
   "metadata": {},
   "outputs": [],
   "source": []
  }
 ],
 "metadata": {
  "kernelspec": {
   "display_name": "Python 3",
   "language": "python",
   "name": "python3"
  },
  "language_info": {
   "codemirror_mode": {
    "name": "ipython",
    "version": 3
   },
   "file_extension": ".py",
   "mimetype": "text/x-python",
   "name": "python",
   "nbconvert_exporter": "python",
   "pygments_lexer": "ipython3",
   "version": "3.6.5"
  }
 },
 "nbformat": 4,
 "nbformat_minor": 2
}
