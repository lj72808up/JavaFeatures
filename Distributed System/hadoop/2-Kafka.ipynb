{
 "cells": [
  {
   "cell_type": "markdown",
   "metadata": {},
   "source": [
    "kafka不支持事务, 不管消费者消费成功与否.\n",
    "消息被消费以后, 不会被立刻删除, 默认缓存一周.\n",
    "\n",
    "kafka只支持拉的原因\n",
    "    * 削峰平谷: 数据量突然很大时, 直推的方式会把consumer压垮\n",
    "    * 效率高: 数据量攒到一定程度时去拉取数据\n",
    "    \n",
    "* 客户端自己维护读到的offset\n",
    "* 不同partition, consumer消费数据的顺序不能保证"
   ]
  },
  {
   "cell_type": "markdown",
   "metadata": {},
   "source": [
    "#### kafka应用场景\n",
    "1. 在线和离线的连接\n",
    "live data center -->   kafka   -->  kafka   --> batch process\n",
    "                    ( online )    (offline)\n",
    "                      \n",
    "flume agent                  --> spark streaming\n",
    "\n",
    "kafka producer   -->  Kafka  -->gobblin-->  hdfs\n",
    "\n",
    "kafka producer               --> 监控系统"
   ]
  },
  {
   "cell_type": "code",
   "execution_count": null,
   "metadata": {},
   "outputs": [],
   "source": []
  }
 ],
 "metadata": {
  "kernelspec": {
   "display_name": "Python 3",
   "language": "python",
   "name": "python3"
  },
  "language_info": {
   "codemirror_mode": {
    "name": "ipython",
    "version": 3
   },
   "file_extension": ".py",
   "mimetype": "text/x-python",
   "name": "python",
   "nbconvert_exporter": "python",
   "pygments_lexer": "ipython3",
   "version": "3.6.5"
  }
 },
 "nbformat": 4,
 "nbformat_minor": 2
}
