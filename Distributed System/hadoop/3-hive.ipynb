{
 "cells": [
  {
   "cell_type": "markdown",
   "metadata": {},
   "source": [
    "#### 1. Hive不支持什么\n",
    "* Hive不是一个OLAP\n",
    "* Hive弱化事务\n",
    "\n",
    "#### 2. Hive命令行\n",
    "* Hive CLI\n",
    "* Hive Beeline\n",
    "    \n",
    "#### 3. Hive数据模型\n",
    "DataBase -> Table -> Partition \n",
    "\n",
    "#### 4. Hive数据类型\n",
    "* int\n",
    "* small int\n",
    "* Struct\n",
    "* Map\n",
    "* List\n",
    "\n",
    "#### 5. Hive日志存放位置\n",
    "* Hive运行日志在metastore.log和hiveserver2.log中\n",
    "\n",
    "#### 6. 数据校验方式\n",
    "* 传统数据库  \n",
    " 写时校验模式\n",
    "* Hive: 读时校验  \n",
    "    * 在load时不检查数据是否满足schema  \n",
    "      (如果load的时候逐条校验, hive的大数据量导入会导致效率低下)\n",
    "    * 读的时候检查, 解析具体的数据字段, schema"
   ]
  },
  {
   "cell_type": "markdown",
   "metadata": {},
   "source": [
    "#### 1. 数据模型-分区\n",
    "* 为减少不必要的暴力扫描数据, 可以对表进行分区\n",
    "* 为避免产生过多小文件, 使用离散值的字段分区\n",
    "\n",
    "#### 2. 外部表\n",
    "* external关键字\n",
    "* 删除外部表时, 外部表只删除元数据, 不删除数据\n",
    "* 更加安全"
   ]
  },
  {
   "cell_type": "markdown",
   "metadata": {},
   "source": [
    "### 不同的文件格式\n",
    "1. parquet文件  \n",
    "    [是什么]()\n",
    "2. RCFile  \n",
    "   `(row column file)`\n",
    "2. ORC文件 (optimized row column file)   \n",
    "  1. 如何创建ORC文件\n",
    "    * 原始数据(存储在hdfs) -> load成hive的临时表(text或sequencefile) -> insert成orc文件\n",
    "    * 代码过程\n",
    "    ```shell\n",
    "    # 1. 建表\n",
    "    create table if not exists record_orc ( rid STRING,\n",
    "    uid STRING,\n",
    "    bid STRING,\n",
    "    price INT,\n",
    "    source_province STRING, target_province STRING, site STRING, express_number STRING, express_company STRING, trancation_date DATE\n",
    "    )\n",
    "    stored as orc;\n",
    "    # 2. 导入数据(从另外一个表中导入数据)\n",
    "    insert into table record_orc select * from record;\n",
    "    ```\n",
    "    是什么  \n",
    "3. sequencefile\n",
    "4. avro\n",
    "5. textfile\n",
    "6. 挂载hbase的表  \n",
    "```sql\n",
    "  STORED BY 'storage.handler.class.name' [WITH SEDEPROPERTIES](...)\n",
    "```\n",
    "\n",
    "#### 1. 行式存储\n",
    "* 数据按行存储\n",
    "* 没有索引的查询部分列,会使用大量IO\n",
    "* 建立索引和物化视图需要花费大量时间和资源\n",
    "* 面向查询的需求, 数据库必须被大量膨胀才能满足性能需求\n",
    "\n",
    "\n",
    "#### 2. 列式存储\n",
    "* 数据按列存储\n",
    "* 数据由于是单列的, 所以数据就是索引\n",
    "* 指定访问查询设计的列-大量降低系统IO\n",
    "* 每一列都由一个线程来处理, 适合查询的并发处理\n",
    "* 数据类型一致, 数据特征相似-高效压缩"
   ]
  },
  {
   "cell_type": "code",
   "execution_count": null,
   "metadata": {},
   "outputs": [],
   "source": []
  }
 ],
 "metadata": {
  "kernelspec": {
   "display_name": "Python 3",
   "language": "python",
   "name": "python3"
  },
  "language_info": {
   "codemirror_mode": {
    "name": "ipython",
    "version": 3
   },
   "file_extension": ".py",
   "mimetype": "text/x-python",
   "name": "python",
   "nbconvert_exporter": "python",
   "pygments_lexer": "ipython3",
   "version": "3.6.5"
  }
 },
 "nbformat": 4,
 "nbformat_minor": 2
}
