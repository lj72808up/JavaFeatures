{
 "cells": [
  {
   "cell_type": "markdown",
   "id": "101a9f25",
   "metadata": {},
   "source": [
    "1. 只要环境变量中有 HADOOP_CLASSPATH , 就可以启动 Flink on yarn\n",
    "```shell\n",
    "# 示例\n",
    "[@10.18.17.54 /opt/scripts/flink/streaming]$ echo $HADOOP_HOME\n",
    "/opt/hadoop/hadoop\n",
    "[@10.18.17.54 /opt/scripts/flink/streaming]$ ls /opt/hadoop/hadoop\n",
    "bin  etc  hs_err_pid550.log  include  lib  libexec  LICENSE.txt  NOTICE.txt  README.txt  sbin  share  TestDFSIO_results.log\n",
    "```\n",
    "\n",
    "2. 推荐使用 Application Mode, 可以更好地资源隔离. (相比 session mode)    \n",
    "  Application Mode会启动一个 Flink 集群在 YARN 上, 集群启动后, 可以用命令行交互  \n",
    "```shell\n",
    "# List running job on the cluster\n",
    "./bin/flink list -t yarn-application -Dyarn.application.id=application_XXXX_YY\n",
    "# Cancel running job\n",
    "./bin/flink cancel -t yarn-application -Dyarn.application.id=application_XXXX_YY <jobId>\n",
    "```\n",
    "\n",
    "3. `flink --help` 查看启动参数的 shortcut\n",
    "\n",
    "4. 关于 yarn jobmanager 的 HA\n",
    "[zk HA配置](https://nightlies.apache.org/flink/flink-docs-release-1.16/docs/deployment/ha/zookeeper_ha/). 不配 HA 的话, yarn 更在意 jobmanager 的失败重启策略. 最大重启次数收2个影响  \n",
    "```shell\n",
    "yarn.application-attempts=2 # ApplicationMaster 的重启次数, 会让整个 flink 集群重启, client 连接也会断开\n",
    "                   # 这个值受 yarn 的 yarn.resourcemanager.am.max-attempts=2 配置限制\n",
    "```\n",
    "\n",
    "5. 启动命令示例\n",
    "\n",
    "```shell\n",
    "nohup \\\n",
    "flink run \\\n",
    "-d \\   # yarn application detach mode\n",
    "-p 20 \\ # --parallelism: 执行任务的并行度\n",
    "-m yarn-cluster \\ # jobManager的连接地址, 可以覆盖默认配置\n",
    "-yjm 1G \\       # jobManager 内存大小\n",
    "-ytm 4G \\       # taskManager container 大小\n",
    "-yn 12 \\       # 开启几个 yarncontainer, 也就是 taskManager 的数量. 因为 flink 集群的 jobmanager 是单点的, 即使配置了 zk HA\n",
    "-ys 2 \\        # 每个 taskmanager 的 slots 数量\n",
    "-ynm \"APP_STATISTICS\" \\ # yarn 应用的名字\n",
    "-yqu root.yarn \\     # yarn 应用的队列名\n",
    "-yD env.java.opts.taskmanager=\"-Djasypt.encryptor.password=tPpGsLBEIcVwx4y2\" \\  # -yD <property=value> 指定参数名\n",
    "-c com.sohu.tv.stream.overview.app.APPStatistics \\  # main class\n",
    "$dir/flink-stream-1.0-SNAPSHOT.jar\n",
    "```\n",
    "\n",
    "6. slot数量和并行度大小   \n",
    " 二者应该设置的一样大. 至少 slot数量 > 并行度, 否则集群启动不来   \n",
    " [flink-architecture](https://nightlies.apache.org/flink/flink-docs-release-1.16/docs/concepts/flink-architecture/)   \n",
    " [job_scheduling](https://nightlies.apache.org/flink/flink-docs-release-1.16/docs/internals/job_scheduling/)"
   ]
  },
  {
   "cell_type": "markdown",
   "id": "96deab5b",
   "metadata": {},
   "source": []
  }
 ],
 "metadata": {
  "kernelspec": {
   "display_name": "Python 3 (ipykernel)",
   "language": "python",
   "name": "python3"
  },
  "language_info": {
   "codemirror_mode": {
    "name": "ipython",
    "version": 3
   },
   "file_extension": ".py",
   "mimetype": "text/x-python",
   "name": "python",
   "nbconvert_exporter": "python",
   "pygments_lexer": "ipython3",
   "version": "3.9.12"
  }
 },
 "nbformat": 4,
 "nbformat_minor": 5
}
