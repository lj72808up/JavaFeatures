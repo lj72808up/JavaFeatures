{
 "cells": [
  {
   "cell_type": "markdown",
   "metadata": {},
   "source": [
    "## Introduction\n",
    "#### What is Apache Flink?\n",
    "* Flink是工作在无界(Unbounded streams)和有界数据流(Bounded streams)上的计算引擎  \n",
    "* 所有种类的数据, 都能被看做由事件流(stream of events)产生的: 像信用卡交易,机器日志,用户在手机和网页上的交互动作等\n",
    "* Unbounded streams: \n",
    "    * 无界流数据要被迅速处理, 不等企图等待所有数据到达以后再处理, 因为无界数据流不会停止, 有开始, 无结束\n",
    "    * 处理无界数据需要事件(event)以某种顺序抵达\n",
    "* Bounded streams:\n",
    "    * 指通常的批处理, 有开始和结束\n",
    "    * 有界数据流不需要事件按顺序到达, 因为有界数据可能已经被排序\n",
    "* Flink精通于同时处理有界和无界数据. Flink对时间和状态的精确控制, 使得其可在无界数据流上运行各种应用;  \n",
    "  同时专门为有界数据流设计了数据结构和算法来加速处理\n",
    "  \n",
    "#### Run Applications at any Scale\n",
    "* Flink的异步性, 和持续增加的chaeck point机制, 会使得处理延迟带来的影响到最小, 保证处理数据是exactly-once一致性\n",
    "\n",
    "#### Building Blocks for Streaming Applications\n",
    "流处理框架主要看如何处理streams, state, time; 下面依次介绍\n",
    "* Streams\n",
    "    * Bounded and unbounded streams: Flink可以处理有界和无界数据\n",
    "    * Real-time and recorded streams: Flink可以对数据进行实时处理和先记录再处理\n",
    "* State\n",
    "* Time\n",
    "    * 重要的是, 应用如何处理event-time和processing-time\n",
    "    * Event-time Mode:\n",
    "    * Watermark Support:\n",
    "    * Late Data Handling:\n",
    "    * Processing-time Mode:\n",
    "    \n",
    "#### DeployMode\n",
    "* **Start a Local Flink Cluster**  \n",
    "\n",
    "```bash \n",
    "$ ./bin/start-cluster.sh  # Start Flink\n",
    "$ ./bin/stop-cluster.sh   # Stop Flink\n",
    "```\n",
    "\n",
    "* **Create YARN Session**  \n",
    " YARN session是在Hadoop YARN环境下启动一个Flink cluster集群，里面的资源是可以共享给其他的Flink作业。 \n",
    "```bash  \n",
    "$ ./bin/yarn-session.sh -n 4 -tm 8192 -s 8\n",
    " # 上面命令启动了4个TaskManager，每个TaskManager内存为8G且占用了8个核\n",
    "```\n",
    "\n",
    "```bash\n",
    "$ ./bin/flink run ./examples/batch/WordCount.jar\n",
    "```\n",
    "\n",
    "* **Run a single Flink job on YARN**   \n",
    " 我们还可以在YARN上启动一个Flink作业。这里我们还是使用./bin/flink，但是不需要事先启动YARN session：\n",
    "```shell\n",
    "$ ./bin/flink run -m yarn-cluster -yn 2 ./examples/batch/WordCount.jar \n",
    "```\n",
    "\n",
    "* **Scala REPL**\n",
    "```shell\n",
    "bin/start-scala-shell.sh local\n",
    "bin/start-scala-shell.sh yarn -n 2 # Yarn Scala Shell cluster\n",
    "bin/start-scala-shell.sh yarn      # Yarn session\n",
    "```"
   ]
  },
  {
   "cell_type": "markdown",
   "metadata": {},
   "source": [
    "## 应用场景\n",
    "\n",
    "[https://flink.apache.org/zh/usecases.html](https://flink.apache.org/zh/usecases.html)\n",
    "* 事件驱动型应用\n",
    "* 数据分析应用\n",
    "* 数据管道应用\n"
   ]
  },
  {
   "cell_type": "markdown",
   "metadata": {},
   "source": [
    "## Concepts\n",
    "[https://ci.apache.org/projects/flink/flink-docs-release-1.8/concepts/programming-model.html](https://ci.apache.org/projects/flink/flink-docs-release-1.8/concepts/programming-model.html)"
   ]
  },
  {
   "cell_type": "code",
   "execution_count": null,
   "metadata": {},
   "outputs": [],
   "source": []
  }
 ],
 "metadata": {
  "kernelspec": {
   "display_name": "Python 3",
   "language": "python",
   "name": "python3"
  },
  "language_info": {
   "codemirror_mode": {
    "name": "ipython",
    "version": 3
   },
   "file_extension": ".py",
   "mimetype": "text/x-python",
   "name": "python",
   "nbconvert_exporter": "python",
   "pygments_lexer": "ipython3",
   "version": "3.7.3"
  }
 },
 "nbformat": 4,
 "nbformat_minor": 2
}
