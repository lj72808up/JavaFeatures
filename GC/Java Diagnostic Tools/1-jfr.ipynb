{
 "cells": [
  {
   "cell_type": "markdown",
   "metadata": {},
   "source": [
    "### 一. Introduction\n",
    "#### 1. java诊断工具依据功能分为4类\n",
    "* `事后诊断`:   用于在程序崩溃宕掉后进行诊断\n",
    "* `进程挂起`:   用于发现挂起或死锁的线程\n",
    "* `监控`:      用于监控一个正在运行的程序\n",
    "* `其它`:      用于诊断其它问题\n",
    "\n",
    "#### 2. Java Mission Control\n",
    "* Java Mission Control (JMC)是基于HotSpot虚拟机上的测绘和诊断平台. JMC由JMX,JFR和其他插件组成\n",
    "* JMX: (Java Management Extensions), 是一个管理和监控各种资源, 如java应用, 设备, 服务, Java虚拟机的标准API\n",
    "* 插件包括 WLS, DTrace, JOverflow\n",
    "    * DTrace插件: 使用DScript语言描述监控事件, 提供和Flight Recorder近似的可视化界面\n",
    "    * JOverflow插件: 分析堆内存浪费的(空集合/稀疏集合), 使用hprof dump堆内存\n",
    "    \n",
    "#### 3. JFR (Java飞行记录器)\n",
    "* Java Flight Recoder记录了java runtime和java应用的详细信息. 负责记录的线程几乎没有开销\n",
    "* 当创建飞行记录器(flight recording)时, 先要创建记录器模板(flight template), 表示对哪些信息进行记录\n",
    "* 记录的种类\n",
    "    * 1. 持续记录: 可以持续记录日志几个小时, 可用于debug出现频率很低的错误\n",
    "    * 2. 侧写记录: 记录短时间下的侧写, 提供更多的事件类型记录, 通常开销要大于持续记录. \n",
    "           * 一般的侧写记录: 运行次数最多的方法, 创建对象对多的类\n",
    "           * 找到一个类, 使用越来越多的内存, 直到内存泄漏\n",
    "           * 查找因同步问题而导致的瓶颈\n",
    "* 启动参数加上如下, 允许采集jfr\n",
    "```shell\n",
    " -XX:+UnlockCommercialFeatures -XX:+FlightRecorder\n",
    "```\n",
    "* 重点菜单栏\n",
    "    * `code | hot method` : 热点方法   \n",
    "    如下热点方法, List的indexof方法    \n",
    "    <img src=\"../img/hotmethod.png\">\n",
    "    \n"
   ]
  },
  {
   "cell_type": "markdown",
   "metadata": {},
   "source": [
    "* `Event | Graph` : 图示线程事件(wait,block,running,sleep)   \n",
    "如下事件, 多个线程频繁处于等待状态  \n",
    "<img src=\"../img/event.png.2\">\n",
    "The moral of this exercise is that bad synchronization can and will kill the performance and responsiveness of your application."
   ]
  },
  {
   "cell_type": "markdown",
   "metadata": {},
   "source": [
    "* `Memory | Garbage Collections` : 有关gc频次,gc前后堆大小  \n",
    "如下图一, gc频繁发生;  \n",
    "如下图二, `allocator`标签, 显示了快表中存储的地址最多的类, 查看调用链, 是`Allocator.go()`方法初始化了整数数组\n",
    "<img src=\"../img/gc.png\">    \n",
    "图1\n",
    "<img src=\"../img/allocator.png.2\">   \n",
    "图2"
   ]
  },
  {
   "cell_type": "markdown",
   "metadata": {},
   "source": [
    "* `Exeption`"
   ]
  }
 ],
 "metadata": {
  "kernelspec": {
   "display_name": "Python 3",
   "language": "python",
   "name": "python3"
  },
  "language_info": {
   "codemirror_mode": {
    "name": "ipython",
    "version": 3
   },
   "file_extension": ".py",
   "mimetype": "text/x-python",
   "name": "python",
   "nbconvert_exporter": "python",
   "pygments_lexer": "ipython3",
   "version": "3.7.3"
  }
 },
 "nbformat": 4,
 "nbformat_minor": 2
}
