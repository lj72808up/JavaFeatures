{
 "cells": [
  {
   "cell_type": "markdown",
   "metadata": {},
   "source": [
    "GCRoots\n",
    "\n",
    "一句话, 只要对象被`方法的局部变量`，`类的静态变量`引用，就不会回收他们\n",
    "\n",
    "* 强引用\n",
    "* 软引用\n",
    "   \n",
    "* 弱引用\n",
    "\n",
    "* 虚引用\n",
    "\n",
    "常用的是强引用和软引用"
   ]
  },
  {
   "cell_type": "markdown",
   "metadata": {},
   "source": [
    "#### G1收集器\n",
    "1. G1的特点\n",
    "    1. 划分Region :   \n",
    "       G1收集器不再对堆内存分代, 而是划分为多个大小相同的region. 划分方式有有2种 : \n",
    "        1. 指定每个region的大小. 通过`-XX:G1HeapRegionSize`, 大小区间在1M和32M之间, 但要是2的幂\n",
    "        2. 不指定参数时, 默认把堆内存等分成2048份\n",
    "    2. 为Region标记  \n",
    "        G1对每个Region进行标记为4中类型: `Eden, Survivor, Old, Hunmongous`. Humongous用于存放大小超过region大小一半的大对象. 如果1个Region存不下这个大对象, G1会找来连续的H区域装下这个对象, 为了找到连续的H区域可能会不得不切换成serialOldGC进行全堆扫描(eden, survivor, old, hunmongous)  \n",
    "    3. 属于\"标记-整理\"算法\n",
    "    4. 用户客户可以指定gc停顿时间\n",
    "        \n",
    "\n",
    "2. G1的收集模式\n",
    "    1. YoungGC  \n",
    "       正在分配非巨型对象(在eden去分配的对象)时,  如果发现Eden区满了则会触发YoungGC. 每次YoungGC都会回收Eden region和Survivor region, 然后一部分对象将进入old region. YoungGC过程如下  \n",
    "    2. MixedGC\n",
    "       当老年代(old region)消耗殆尽时, 会触发混合gc(MixedGC), 会回收整个young region和一部分的old region.而选择哪部分old region收集是通过用户指定的参数`-XX:MaxGCPauseMillis`推导而来. 改参数时用户设置的gc停顿时间, 选择那些预估gc时间和用户设置时间相近的old region进行gc\n",
    "\n",
    "\n",
    "3. G1垃圾回收的步骤: \n",
    "    1. 初始标记\n",
    "    2. 并发标记\n",
    "    3. 最终标记\n",
    "    4. 筛选清除"
   ]
  },
  {
   "cell_type": "markdown",
   "metadata": {},
   "source": [
    "### 二. GC日志\n",
    "1. `-XX:+PrintGCDetails`  \n",
    "   该参数告诉虚拟机在进行gc时打印内存回收日志, 并在进程退出时打印各个区的分配情况. 配合该参数的2个额外功能 : \n",
    "    1. `-XX:+PrintGCDateStamps` : 打印GC日志时带上时间\n",
    "    2. `-Xloggc:<file_name>` : 将gc日志打印到文件中\n",
    "2. GC日志格式  \n",
    "   如下代码产生了如下的gc日志:\n",
    "    1. 2019-09-24T00:03:18.695+0800 : gc发生时间\n",
    "    2. GC (Allocation Failure) : gc类型\n",
    "    3. PSYoungGen: 8113K->824K(9216K) : 青年代gc后由8113K减小到824K, 共9216K\n",
    "    4. 8113K->6976K(19456K), 0.0037173 secs : 总堆内存大小变化和gc耗时\n",
    "   \n",
    "```java\n",
    "/** GC日志 */\n",
    "2019-09-24T00:03:18.695+0800: [GC (Allocation Failure) [PSYoungGen: 8113K->824K(9216K)] 8113K->6976K(19456K), 0.0037173 secs] [Times: user=0.00 sys=0.00, real=0.00 secs] \n",
    "2019-09-24T00:03:18.699+0800: [Full GC (Ergonomics) [PSYoungGen: 824K->0K(9216K)] [ParOldGen: 6152K->6764K(10240K)] 6976K->6764K(19456K), [Metaspace: 3222K->3222K(1056768K)], 0.0053386 secs] [Times: user=0.00 sys=0.00, real=0.01 secs] \n",
    "\n",
    "/** 进程退出时打印的各个区分配情况 */\n",
    "Heap\n",
    " PSYoungGen      total 9216K, used 2266K [0x00000000ff600000, 0x0000000100000000, 0x0000000100000000)\n",
    "  eden space 8192K, 27% used [0x00000000ff600000,0x00000000ff836b50,0x00000000ffe00000)\n",
    "  from space 1024K, 0% used [0x00000000ffe00000,0x00000000ffe00000,0x00000000fff00000)\n",
    "  to   space 1024K, 0% used [0x00000000fff00000,0x00000000fff00000,0x0000000100000000)\n",
    " ParOldGen       total 10240K, used 6764K [0x00000000fec00000, 0x00000000ff600000, 0x00000000ff600000)\n",
    "  object space 10240K, 66% used [0x00000000fec00000,0x00000000ff29b0e8,0x00000000ff600000)\n",
    " Metaspace       used 3228K, capacity 4496K, committed 4864K, reserved 1056768K\n",
    "  class space    used 350K, capacity 388K, committed 512K, reserved 1048576K\n",
    "\n",
    "```"
   ]
  },
  {
   "cell_type": "markdown",
   "metadata": {},
   "source": [
    "### 三. 对象的内存分配策略\n",
    "Java自动内存管理分为2部分: 自动回收内存(gc)和自动分配内存(对象内存分配); 前面介绍了自动回收内存, 下面介绍自动发分配内存的几点\n",
    "#### 1. 优先在Eden区分配, minor gc时Servivor存不下的对象直接进入老年代\n",
    "\n",
    "#### 2. 大对象直接进入老年代 (-XX:PretenureSizeThreshold)\n",
    "1. 大对象是指占用大量连续的内存空间的java对象, 比如大数组类型对象. 这种大对象当超过-XX:PretenureSizeThreshold配置时会直接在老年代生成. 原因是避免minor gc时反复从eden, survivor0, survivor1之间相互拷贝  \n",
    "2. 最影响性能的就是那些\"朝生夕灭\"的大对象  \n",
    "\n",
    "#### 3. Serial中的对象何时进入老年代?\n",
    "1. Serial中高年龄对象进入老年代 (-XX:MaxTenuringThresholdSize)\n",
    "2. minor gc时Servivor存不下的对象直接进入老年代\n",
    "2. 当Survivor对象中大于一半的对象有相同的age时, 大于等于该age的对象直接进入老年代\n",
    "\n",
    "#### 4. 老年代的空间担保, 担保失败会进入full gc\n",
    "每次minorGC之前, 先检查老年代剩余空间是否大于新生代所有对象之和(eden+某个survivor区)\n",
    "1. 是(老年代剩余空间>新生代所有对象之和):  \n",
    "进行一次minorGC, 此时, survivor中存不下的对象会进入老年代   \n",
    "2. 否(老年代剩余空间<新生代所有对象之和):   \n",
    "此时可能发生一个问题, 如果新生代的对象在gc后全部进入老年代, 那老年代的空间不是不够了吗? 所以此时会检查一个参数`-XX:-HandlePromotionFailure`是否开启(大多数情况会加上这个参数)?\n",
    "    1. 开启了: 此时老年代剩余空间和\"历次gc进入老年代的对象的平均大小\"作对比\n",
    "        1. \"老年代剩余空间\" > \"历次gc进入老年代的对象的平均大小\" : 进行minorGC\n",
    "        2. \"老年代剩余空间\" < \"历次gc进入老年代的对象的平均大小\" : 先进行full gc(老年代和青年代都gc)\n",
    "    2. 未开启: 进行一次full gc(老年代和青年代都gc)\n",
    "    \n",
    "上述过程产生的full gc后, 如果仍然有新生代的对象存不下, 则系统OOM"
   ]
  }
 ],
 "metadata": {
  "kernelspec": {
   "display_name": "Python 3",
   "language": "python",
   "name": "python3"
  },
  "language_info": {
   "codemirror_mode": {
    "name": "ipython",
    "version": 3
   },
   "file_extension": ".py",
   "mimetype": "text/x-python",
   "name": "python",
   "nbconvert_exporter": "python",
   "pygments_lexer": "ipython3",
   "version": "3.7.3"
  }
 },
 "nbformat": 4,
 "nbformat_minor": 2
}
