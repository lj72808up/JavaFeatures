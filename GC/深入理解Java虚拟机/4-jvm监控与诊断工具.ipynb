{
 "cells": [
  {
   "cell_type": "markdown",
   "metadata": {},
   "source": [
    "#### 1. jstat工具\n",
    "1.\n",
    "```jstat -<option> [-t] [-h<lines>] <vmid> [<interval> [<count>]]  ```\n",
    "2. \n",
    "3. 如下分别展示了2个gc统计相关命令 (tomcat8的启动后)\n",
    "    1. gcutil : 关注各个代空间占比, ygc,fgc次数和时间\n",
    "    2. gccause : 与gcutiil输出一致, 但会加上上一次gc产生的原因\n",
    "    \n",
    "```bash\n",
    "PS D:\\Users\\lj\\Downloads\\apache-tomcat-8.5.46\\bin> jstat -gccause 8064 1000 10                                                                                                                                                                                                    S0     S1     E      O      M     CCS    YGC     YGCT    FGC    FGCT     GCT    LGCC                 GCC                                                                                                                                                                        0.00   0.00  44.18  15.46  97.28  90.40      2    0.019     1    0.030    0.050 Metadata GC Threshold No GC                                                                                                                                                                     0.00   0.00  44.18  15.46  97.28  90.40      2    0.019     1    0.030    0.050 Metadata GC Threshold No GC                                                                                                                                                                     0.00   0.00  44.18  15.46  97.28  90.40      2    0.019     1    0.030    0.050 Metadata GC Threshold No GC                                                                                                                                                                     0.00   0.00  44.18  15.46  97.28  90.40      2    0.019     1    0.030    0.050 Metadata GC Threshold No GC                                                                                                                                                                     0.00   0.00  44.18  15.46  97.28  90.40      2    0.019     1    0.030    0.050 Metadata GC Threshold No GC                                                                                                                                                                     0.00   0.00  44.18  15.46  97.28  90.40      2    0.019     1    0.030    0.050 Metadata GC Threshold No GC                                                                                                                                                                     0.00   0.00  44.18  15.46  97.28  90.40      2    0.019     1    0.030    0.050 Metadata GC Threshold No GC                                                                                                                                                                     0.00   0.00  44.18  15.46  97.28  90.40      2    0.019     1    0.030    0.050 Metadata GC Threshold No GC                                                                                                                                                                     0.00   0.00  44.18  15.46  97.28  90.40      2    0.019     1    0.030    0.050 Metadata GC Threshold No GC                                                                                                                                                                     0.00   0.00  44.18  15.46  97.28  90.40      2    0.019     1    0.030    0.050 Metadata GC Threshold No GC                                                                                                                                                                   PS D:\\Users\\lj\\Downloads\\apache-tomcat-8.5.46\\bin> jstat -gcutil 8064 1000 10                                                                                                                                                                                                     S0     S1     E      O      M     CCS    YGC     YGCT    FGC    FGCT     GCT                                                                                                                                                                                                    0.00   0.00  45.06  15.46  97.28  90.40      2    0.019     1    0.030    0.050\n",
    "  0.00   0.00  45.06  15.46  97.28  90.40      2    0.019     1    0.030    0.050\n",
    "  0.00   0.00  45.06  15.46  97.28  90.40      2    0.019     1    0.030    0.050\n",
    "  0.00   0.00  45.06  15.46  97.28  90.40      2    0.019     1    0.030    0.050\n",
    "  0.00   0.00  45.06  15.46  97.28  90.40      2    0.019     1    0.030    0.050\n",
    "  0.00   0.00  45.06  15.46  97.28  90.40      2    0.019     1    0.030    0.050\n",
    "  0.00   0.00  45.06  15.46  97.28  90.40      2    0.019     1    0.030    0.050\n",
    "  0.00   0.00  45.06  15.46  97.28  90.40      2    0.019     1    0.030    0.050\n",
    "  0.00   0.00  45.06  15.46  97.28  90.40      2    0.019     1    0.030    0.050\n",
    "  0.00   0.00  45.06  15.46  97.28  90.40      2    0.019     1    0.030    0.050\n",
    "```\n",
    "\n",
    "#### 2. jinfo - 显示进程jvm的配置信息\n",
    "1. jinfo可以显示用户启动java进程时指定的jvm参数, 和hvm的默认参数    \n",
    "    ```jinfo [option] <pid>  ```\n",
    "    \n",
    "2.  使用 jinfo -flag查看启动参数\n",
    "\n",
    "```bash\n",
    "PS D:\\Users\\lj\\Downloads\\apache-tomcat-8.5.46\\bin> jinfo -flags 8064                                                                                                                                                                                                            Attaching to process ID 8064, please wait...                                                                                                                                                                                                                                    Debugger attached successfully.                                                                                                                                                                                                                                                 Server compiler detected.                                                                                                                                                                                                                                                       JVM version is 25.221-b11                                                                                                                                                                                                                                                       Non-default VM flags: -XX:CICompilerCount=4 -XX:InitialHeapSize=268435456 -XX:MaxHeapSize=4284481536 -XX:MaxNewSize=1428160512 -XX:MinHeapDeltaBytes=524288 -XX:NewSize=89128960 -XX:OldSize=179306496 -XX:+UseCompressedClassPointers -XX:+UseCompressedOops -XX:+UseFastUnorderedTimeStamps -XX:-UseLargePagesIndividualAllocation -XX:+UseParallelGC                                                                                                                                                                                                         Command line:  -Djava.util.logging.config.file=D:\\Users\\lj\\Downloads\\apache-tomcat-8.5.46\\conf\\logging.properties -Djava.util.logging.manager=org.apache.juli.ClassLoaderLogManager -Djdk.tls.ephemeralDHKeySize=2048 -Djava.protocol.handler.pkgs=org.apache.catalina.webresources -Dignore.endorsed.dirs= -Dcatalina.base=D:\\Users\\lj\\Downloads\\apache-tomcat-8.5.46 -Dcatalina.home=D:\\Users\\lj\\Downloads\\apache-tomcat-8.5.46 -Djava.io.tmpdir=D:\\Users\\lj\\Downloads\\apache-tomcat-8.5.46\\temp    \n",
    "```\n",
    "\n",
    "\n",
    "#### 3. jmap - jvm内存映像工具\n",
    "\n",
    "2. 可选参数   \n",
    "    * -heap : 显示Java堆使用了那种gc收集器, 参数配置, 分代情况等```jmap -heap 8064```   \n",
    "    * -histo : 显示堆的直方图 ```jmap -histo 8064```   \n",
    "    * -dump : 生成堆内存映像文件 ```jmap -dump:format=b,file=dump.bin 8064 ```\n",
    "    \n",
    "3. dump文件导入jvisualvm中查看  \n",
    "  \"文件 - 装入 - 选择dump文件\" , 即可将dump文件导入到jvisualvm中\n",
    "<img src=\"img/dump1.png\">\n",
    "\n",
    "4. 对比jfr dump的飞行日志     \n",
    "   dump JFR飞行日志的步骤:\n",
    "    1. 解锁JFR商用功能 ```jcmd 8064 VM.unlock_commercial_features```\n",
    "    2. 使用jcmd开始JFR记录, 要指定一个时间段 ``` jcmd 8064 JFR.start name=myrecording duration=2m filename=111.jfr```\n",
    "    3. 期间可以查看JFR是否记录完毕 ```jcmd 8064 JFR.check```  \n",
    "    \n",
    "   <img src=\"img/jfr2.png\"> \n",
    "   发现JFR的日志包含的信息比jmap dump出来的要多, 不只是堆内存的分配, 还包括了[\"热点代码跟踪\",\"线程状态dump\",\"这段时间发生的gc情况, gc时最大的对象是什么, 跟踪调用链查看这个对象是哪个代码生成的\", \"异常信息\"]()等\n",
    "    \n",
    "#### 4. jstack"
   ]
  },
  {
   "cell_type": "code",
   "execution_count": null,
   "metadata": {},
   "outputs": [],
   "source": []
  }
 ],
 "metadata": {
  "kernelspec": {
   "display_name": "Python 3",
   "language": "python",
   "name": "python3"
  },
  "language_info": {
   "codemirror_mode": {
    "name": "ipython",
    "version": 3
   },
   "file_extension": ".py",
   "mimetype": "text/x-python",
   "name": "python",
   "nbconvert_exporter": "python",
   "pygments_lexer": "ipython3",
   "version": "3.7.0"
  }
 },
 "nbformat": 4,
 "nbformat_minor": 2
}
