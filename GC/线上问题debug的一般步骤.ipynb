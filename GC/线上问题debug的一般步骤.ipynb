{
 "cells": [
  {
   "cell_type": "markdown",
   "metadata": {},
   "source": [
    "#### 1. CPU使用负载国道的查询步骤\n",
    "1. 4个步骤进行排查   \n",
    "\n",
    "```bash\n",
    "1. top oder by with P：1040   # 首先按进程负载排序找到  axLoad(pid)\n",
    "2. top -Hp 进程PID：1073       # 找到相关负载 线程PID\n",
    "3. printf “0x%x\\n”线程PID： 0x431   # 将线程PID转换为 16进制，为后面查找 jstack 日志做准备\n",
    "4. jstack  进程PID | vim +/十六进制线程PID -        # 例如：jstack 1040|vim +/0x431 -  ; 定位到代码行\n",
    "```\n",
    "\n",
    "2. top命令\n",
    "    * 关于load average: 一定程度上表示cpu负载, top分别输出1分钟,5分钟, 15分钟的平均坤负载情况  \n",
    "       但是linux下负载不仅记录了running状态的进程, 还记录了sleep状态的进程; 前者占用cpu, 后者往往是因为io阻塞. 所以该数值在linux下不能100%表示cpu的负载  \n",
    "    * -P : 按照cpu使用排序\n",
    "    * -M : 按照内存使用排序"
   ]
  },
  {
   "cell_type": "code",
   "execution_count": null,
   "metadata": {},
   "outputs": [],
   "source": []
  }
 ],
 "metadata": {
  "kernelspec": {
   "display_name": "Python 3",
   "language": "python",
   "name": "python3"
  },
  "language_info": {
   "codemirror_mode": {
    "name": "ipython",
    "version": 3
   },
   "file_extension": ".py",
   "mimetype": "text/x-python",
   "name": "python",
   "nbconvert_exporter": "python",
   "pygments_lexer": "ipython3",
   "version": "3.7.3"
  }
 },
 "nbformat": 4,
 "nbformat_minor": 2
}
