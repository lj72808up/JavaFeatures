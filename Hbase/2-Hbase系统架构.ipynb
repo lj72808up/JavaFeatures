{
 "cells": [
  {
   "cell_type": "markdown",
   "metadata": {},
   "source": [
    "#### 一. 过滤器\n",
    "1. Filter简介  \n",
    "    * hbase为scan和get操作提供更加高级的filter  \n",
    "    * Filter可以根据qualifier,列簇,版本等条件对行进行过滤.减少返回的结果数量, 降低网络传输压力  \n",
    "    * 过滤操作在RegionServer上执行\n",
    "2. SingleColumnValueFilter: 实现列簇/列上的where语义  \n",
    "3. RowFilter, 实现row key的正则表达式过滤\n",
    "4. FamilyFilter, \n",
    "5. QualifierFilter, \n",
    "6. FilterList, 实现查询条件and语法  \n",
    "[各种过滤器](https://www.cnblogs.com/similarface/p/5805973.html)\n",
    "[布隆过滤器](https://en.wikipedia.org/wiki/Bloom_filter)\n",
    "[Hbase架构](https://mapr.com/blog/in-depth-look-hbase-architecture/#.VdMxvWSqqko)"
   ]
  },
  {
   "cell_type": "code",
   "execution_count": null,
   "metadata": {},
   "outputs": [],
   "source": []
  }
 ],
 "metadata": {
  "kernelspec": {
   "display_name": "Python 3",
   "language": "python",
   "name": "python3"
  },
  "language_info": {
   "codemirror_mode": {
    "name": "ipython",
    "version": 3
   },
   "file_extension": ".py",
   "mimetype": "text/x-python",
   "name": "python",
   "nbconvert_exporter": "python",
   "pygments_lexer": "ipython3",
   "version": "3.6.5"
  }
 },
 "nbformat": 4,
 "nbformat_minor": 2
}
