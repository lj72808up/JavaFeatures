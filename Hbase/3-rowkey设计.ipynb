{
 "cells": [
  {
   "cell_type": "markdown",
   "metadata": {},
   "source": [
    "### Hbase的数据结构\n",
    "\n",
    "#### 1. Rowkey\n",
    "唯一标识一行记录的主键, Hbase按照RowKey的字典顺序全局排序\n",
    "#### 2. 稀疏矩阵\n",
    "Hbase中表的数据按照稀疏方式存储. 因为不想传统数据库组织数据形式, Hbase的列组成很灵活, 行与行之间不遵循相同的列定义\n",
    "#### 3. Region\n",
    "Hbase不同于spark的hash code分区, 使用\"key range\"划分子表\"Region\". Region是Hbase负载均衡的基本单元, Region增大到一定大小后会自动分裂\n",
    "#### 4. column family\n",
    "Region是对Hbase表的横向切割, 则Column Family是对表的纵向切割. 每个column都要归属于一个Column Family, 这个归属关系是在写数据时指定的而不是建表时预先定义的\n",
    "#### 5. kv形式存储\n",
    "Hbase中每行的每一列数据都以key-value形式存储. key相同的任意数量的独立key-value形成逻辑上的一行数据\n",
    "\n",
    "[一条数据的HBase之旅，简明HBase入门教程-开篇](https://mp.weixin.qq.com/s/CXsGcbbsKTMXotlwRFQ5xw)"
   ]
  },
  {
   "cell_type": "markdown",
   "metadata": {},
   "source": [
    "### Hbase行键设计\n",
    "\n",
    "往往组合多个字段在一起作为rowkey, RowKey中的第一个字段称之为\"先导字段\"\n",
    "\n",
    "#### 1. 反转\n",
    "如果先到字段本身会带来热点问题, 但该字段的尾部却具有良好的随机性; 此时可将先导字段做反转处理\n",
    "\n",
    "#### 2. 加盐\n",
    "在rowkey前面加上长度固定的随机Bytes\n",
    "\n",
    "#### 3. 哈希\n",
    "将rowkey哈希后生成固定长度的byte串. 由于hash有很好的离散度, 所以可保障数据被均匀分散到各个region. hash rowkey既适合于随机写入, 也适合于知道rowkey后的随机查询, 带在查询一个范围内的rowkey时会有性能问题, 因为原本连续的rowkeyhash后被离散到多个region\n",
    "\n",
    "\n",
    "### 列的设计\n",
    "hbase中的每一列都是key-value形式的. 定义列就是要定义出列簇和列标识符. 列簇和列标识符应该尽量短\n",
    "<img src=\"img/liecu.PNG\" height=\"50%\" width=\"50%\">\n"
   ]
  }
 ],
 "metadata": {
  "kernelspec": {
   "display_name": "Python 3",
   "language": "python",
   "name": "python3"
  },
  "language_info": {
   "codemirror_mode": {
    "name": "ipython",
    "version": 3
   },
   "file_extension": ".py",
   "mimetype": "text/x-python",
   "name": "python",
   "nbconvert_exporter": "python",
   "pygments_lexer": "ipython3",
   "version": "3.7.0"
  }
 },
 "nbformat": 4,
 "nbformat_minor": 2
}
