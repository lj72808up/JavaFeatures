{
 "cells": [
  {
   "cell_type": "markdown",
   "metadata": {},
   "source": [
    "33-39\n",
    "### 一. 为什么要把一个系统拆分成分布式系统? 为什么选择dubbo?\n",
    "#### 1. 为什么要拆分?  \n",
    "* 如果不拆分: \n",
    "    * 几十个人维护一个几十万行的代码时, 经常会产生代码冲突, 需要花费大量时间进行冲突代码的合并等. 一旦有一个人改动了代码, 很可能影响了其它人代码的功能\n",
    "    * 由于代码高度耦合, 每当改了一个功能后, 测试人员很可能要重新测试所有功能\n",
    "    * 有时想把系统某个依赖包升级, 比如升级spring到4.0, 但是其他人依赖的时spring3.0, 所以导致无法升级\n",
    "        \n",
    "        \n",
    "#### 2. 为什么要用dubbo?   \n",
    "首先, 如果只考虑服务之间通信, 使用spring mvc进行http通信也是可以的, 但有很多问题没有解决: \n",
    "1. 服务的超时重试\n",
    "2. 服务的负载均衡\n",
    "    "
   ]
  },
  {
   "cell_type": "markdown",
   "metadata": {},
   "source": [
    "### 二. dubbo的工作原理是啥?\n",
    "\n",
    "#### 1. "
   ]
  },
  {
   "cell_type": "markdown",
   "metadata": {},
   "source": [
    "#### 如何设计一个类似dubbo的RPC系统?\n",
    "1. 服务注册中心\n",
    "2. "
   ]
  },
  {
   "cell_type": "code",
   "execution_count": null,
   "metadata": {},
   "outputs": [],
   "source": []
  }
 ],
 "metadata": {
  "kernelspec": {
   "display_name": "Python 3",
   "language": "python",
   "name": "python3"
  },
  "language_info": {
   "codemirror_mode": {
    "name": "ipython",
    "version": 3
   },
   "file_extension": ".py",
   "mimetype": "text/x-python",
   "name": "python",
   "nbconvert_exporter": "python",
   "pygments_lexer": "ipython3",
   "version": "3.7.0"
  }
 },
 "nbformat": 4,
 "nbformat_minor": 2
}
