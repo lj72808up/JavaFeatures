{
 "cells": [
  {
   "cell_type": "markdown",
   "metadata": {},
   "source": [
    "### 一. 什么是数据倾斜, 如何处理\n",
    "* **什么是数据倾斜**  \n",
    "大量相同的key被partition到一台机器, 造成这台机器计算任务量极大, 而其他机器计算量任务极小  \n",
    "* **即是数据倾斜, UDAF函数也可能不产生效率低下的问题?**  \n",
    "像sum, max, min, count等UDAF不怕数据倾斜, 因为会在map端进行一次数据聚合  \n",
    "* **count(distinct)最受数据倾斜影响?**  \n",
    "因为count(distinct)要先按照group by分组, 再按distinct排序. 一般这中语句是很倾斜的;  \n",
    "比如男uv，女uv，淘宝一天30亿的pv，如果按性别分组，分配2个reduce，每个reduce处理15亿数据。   \n",
    "* **如何处理**\n",
    "    1. key上加上随机数打散, 然后最后计算结果时恢复成原来的key\n",
    "    2. 过滤空值, 或者将空值变成一个字符串并加上随机前缀, 由于随机的key找不到相同的而执行失败\n",
    "    3. 将倾斜的key拿出来单独处理, 最后和其它结果union all在一起(不去重不排序)\n",
    "    4. 开启参数`hive.groupby.skewindata=true`  \n",
    "       这会生成2个任务:   \n",
    "        1. 第一个任务: map的输出结果随机的分配到reduce上, 每个reduce按照key做第一次聚合\n",
    "        2. 第二个任务: 将相同的key分不到同一个partition上, 再做第二次聚合  \n",
    "    5. 将`count(distinct)`替换成`sum() group by`\n",
    "    \n",
    "#### 2. "
   ]
  },
  {
   "cell_type": "code",
   "execution_count": null,
   "metadata": {},
   "outputs": [],
   "source": []
  }
 ],
 "metadata": {
  "kernelspec": {
   "display_name": "Python 3",
   "language": "python",
   "name": "python3"
  },
  "language_info": {
   "codemirror_mode": {
    "name": "ipython",
    "version": 3
   },
   "file_extension": ".py",
   "mimetype": "text/x-python",
   "name": "python",
   "nbconvert_exporter": "python",
   "pygments_lexer": "ipython3",
   "version": "3.7.0"
  }
 },
 "nbformat": 4,
 "nbformat_minor": 2
}
