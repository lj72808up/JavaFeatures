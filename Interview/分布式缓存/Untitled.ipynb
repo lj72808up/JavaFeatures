{
 "cells": [
  {
   "cell_type": "markdown",
   "metadata": {},
   "source": [
    "#### 一. 使用缓存的目的是什么？\n",
    "1. 高性能（缓存的数据要求一段时间内不发生变化）\n",
    "     * 不使用用缓存：一个用户访user1问查询接口， 接口直接查询数据库（加入耗时800毫秒）；此后user2再次查询同一条数据， 则又会耗时800毫秒；假设数据在10分钟内没有变化，10分钟内有1000个用户查询的话， 就会耗时1000个800毫秒；\n",
    "     * 使用缓存后： 第一次查询时，缓存中没有，则需要查询数据库，耗时800毫秒；但由于数据在十分钟内没有变化，因此此后的999次查询都可以从内存中直接查询， 每次耗时10ms，共耗时999个10毫秒；\n",
    "     * 或者某些复杂查询可能很耗时，缓存后可以直接查出\n",
    "2. 高并发  \n",
    "   * 数据库如果每秒4000个请求，则数据库可能会宕机；   \n",
    "     如果对每个query，先在缓存中查询，查不到再使用数据库查询；这种方法会让4000个请求分散成3000次缓存查询+1000次数据库查询\n",
    "   * 为什么缓存比数据库更能支持高并发？   \n",
    "     因为缓存是内存查询，支持高并发查询；而数据库需要磁盘，一般建议每秒查询次数一般不超过2000次\n",
    "     \n",
    "#### 二. 使用缓存后带来了哪些问题？\n",
    "1. \n",
    "\n",
    "\n",
    "\n",
    "#### 三. 为什么redis这种单线程模型比多线程的memcache有更高的性能？\n",
    "1. redis与memcached的区别？  \n",
    "   redis支持的数据类型比memcached更多，更能支持复杂应用     \n",
    "   memcached没有原声的分布式集群， 需要客户端进行分片后再写；redis原生支持cluster模式 \n",
    "2. **redis的线程模型？**   \n",
    "    1. 文件时间处理器。 io多路复用， 同时监控多个socket\n"
   ]
  },
  {
   "cell_type": "code",
   "execution_count": null,
   "metadata": {},
   "outputs": [],
   "source": []
  }
 ],
 "metadata": {
  "kernelspec": {
   "display_name": "Python 3",
   "language": "python",
   "name": "python3"
  },
  "language_info": {
   "codemirror_mode": {
    "name": "ipython",
    "version": 3
   },
   "file_extension": ".py",
   "mimetype": "text/x-python",
   "name": "python",
   "nbconvert_exporter": "python",
   "pygments_lexer": "ipython3",
   "version": "3.7.0"
  }
 },
 "nbformat": 4,
 "nbformat_minor": 2
}
