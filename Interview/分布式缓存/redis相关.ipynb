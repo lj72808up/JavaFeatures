{
 "cells": [
  {
   "cell_type": "markdown",
   "metadata": {},
   "source": [
    "#### 一. 使用缓存的目的是什么？\n",
    "1. 高性能（缓存的数据要求一段时间内不发生变化）\n",
    "     * 不使用用缓存：一个用户访user1问查询接口， 接口直接查询数据库（加入耗时800毫秒）；此后user2再次查询同一条数据， 则又会耗时800毫秒；假设数据在10分钟内没有变化，10分钟内有1000个用户查询的话， 就会耗时1000个800毫秒；\n",
    "     * 使用缓存后： 第一次查询时，缓存中没有，则需要查询数据库，耗时800毫秒；但由于数据在十分钟内没有变化，因此此后的999次查询都可以从内存中直接查询， 每次耗时10ms，共耗时999个10毫秒；\n",
    "     * 或者某些复杂查询可能很耗时，缓存后可以直接查出\n",
    "2. 高并发  \n",
    "   * 数据库如果每秒4000个请求，则数据库可能会宕机；   \n",
    "     如果对每个query，先在缓存中查询，查不到再使用数据库查询；这种方法会让4000个请求分散成3000次缓存查询+1000次数据库查询\n",
    "   * 为什么缓存比数据库更能支持高并发？   \n",
    "     因为缓存是内存查询，支持高并发查询；而数据库需要磁盘，一般建议每秒查询次数一般不超过2000次\n",
    "     \n",
    "#### 二. 使用缓存后带来了哪些问题？\n",
    "1. \n",
    "\n",
    "\n",
    "\n",
    "#### 三. 为什么redis这种单线程模型比多线程的memcache有更高的性能？\n",
    "1. redis与memcached的区别？  \n",
    "   redis支持的数据类型比memcached更多，更能支持复杂应用     \n",
    "   memcached没有原声的分布式集群， 需要客户端进行分片后再写；redis原生支持cluster模式 \n",
    "2. **redis的线程模型？**   \n",
    "    1. redis基于io多路复用的网络模型进行IO, 使用一个叫做\"文件事件处理器\"的东西处理接受连接,可读,可写,关闭事件:  \n",
    "       即可理解为serversocketChannel注册了4种状态的selectionkey, 用selector轮询检查\n",
    "        * key.isReadable()\n",
    "        * key.isWriteable()\n",
    "        * key.isAccept()\n",
    "        * key.isClose()\n",
    "    2. 上面注册的4种状态的socket会被放入对应的四种队列中, selector选择一种状态的socket后, 文件事件处理器的4个不同部分会做出处理, 由于文件事件处理器是单线程的, 即处理完1个socket才能处理下一个socket, 所以redis是单线程的  \n",
    "    \n",
    "#### 四. redis有哪些数据类型, 有哪些应用场景\n",
    "(面向初级开发者)  \n",
    "1. "
   ]
  },
  {
   "cell_type": "code",
   "execution_count": null,
   "metadata": {},
   "outputs": [],
   "source": []
  }
 ],
 "metadata": {
  "kernelspec": {
   "display_name": "Python 3",
   "language": "python",
   "name": "python3"
  },
  "language_info": {
   "codemirror_mode": {
    "name": "ipython",
    "version": 3
   },
   "file_extension": ".py",
   "mimetype": "text/x-python",
   "name": "python",
   "nbconvert_exporter": "python",
   "pygments_lexer": "ipython3",
   "version": "3.7.0"
  }
 },
 "nbformat": 4,
 "nbformat_minor": 2
}
