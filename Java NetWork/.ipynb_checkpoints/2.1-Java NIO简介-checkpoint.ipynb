{
 "cells": [
  {
   "cell_type": "markdown",
   "metadata": {},
   "source": [
    "### 2.1 NIO简介\n",
    "#### 一. NIO特点\n",
    "* API的区别   \n",
    "标准IO中, 使用字节流/字符流操作数据进行IO; NIO中, 数据是从一个Channel中读入到Buffer, 或是从一个Buffer中写入到Channel\n",
    "* 非阻塞性   \n",
    "当一个线程使用NIO从Channel中读取数据到Buffer,或把Buffer的数据写入Channel的时候, 该线程可以进行其他操作\n",
    "* Selector    \n",
    "Selector是一个object, 可以监控多个Channel上发生的时间; 例如\"打开连接\",\"数据抵达\"等. 因此, 一个线程可以监控到多个Channel的数据  \n",
    "如下图, 有3个Channel注册到了Selector上,当Seletor对象调用select方法后, 会一直阻塞, 直到这3个Channel中的任意一个有数据抵达才会返回, 然后该线程继续处理这些数据\n",
    "<img src=\"img/overview-selectors.png\" width=\"30%\" height=\"30%\">\n",
    "\n",
    "#### 二. NIO核心概念\n",
    "* Channel\n",
    "* Buffer\n",
    "* Selector"
   ]
  },
  {
   "cell_type": "markdown",
   "metadata": {},
   "source": []
  },
  {
   "cell_type": "code",
   "execution_count": null,
   "metadata": {},
   "outputs": [],
   "source": []
  }
 ],
 "metadata": {
  "kernelspec": {
   "display_name": "Scala",
   "language": "scala",
   "name": "scala"
  },
  "language_info": {
   "codemirror_mode": "text/x-scala",
   "file_extension": ".scala",
   "mimetype": "text/x-scala",
   "name": "scala211",
   "nbconvert_exporter": "script",
   "pygments_lexer": "scala",
   "version": "2.11.11"
  }
 },
 "nbformat": 4,
 "nbformat_minor": 2
}
