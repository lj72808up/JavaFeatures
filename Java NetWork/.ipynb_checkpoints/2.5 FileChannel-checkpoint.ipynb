{
 "cells": [
  {
   "cell_type": "markdown",
   "metadata": {},
   "source": [
    "#### 一. 打开FileCHannel\n",
    "1. FIleChannel的获取方式有2种:\n",
    "    * 输入流, 输出流\n",
    "    * 从RandomAccessFile中获取\n",
    "```java\n",
    "RandomAccessFile aFile     = new RandomAccessFile(\"data/nio-data.txt\", \"rw\");\n",
    "FileChannel      inChannel = aFile.getChannel();\n",
    "```    \n",
    "    \n",
    "#### 二. read data from FileChanel\n",
    "1. `FileChannel.read()`方法, 返回的int表示读了多少字节的数据到buffer中\n",
    "2. 如果`FileChannel.read()`方法返回-1, 则表示已经读到了文件末尾\n",
    "```java\n",
    "ByteBuffer buf = ByteBuffer.allocate(48);\n",
    "int bytesRead = inChannel.read(buf);\n",
    "```\n",
    "\n",
    "#### 三. Writing Data to a FileChannel\n",
    "1. ` FileChannel.write()`方法并不是一次性将buffer中的所有字节写入channel, 而是每次写入一点. 因此, ` FileChannel.write()`方法应该写在循环内部, 判断条件是`buffer.hasRemaining`\n",
    "```java\n",
    "buf.flip();\n",
    "while(buf.hasRemaining()) {\n",
    "    channel.write(buf);\n",
    "}\n",
    "```\n",
    "\n",
    "#### 四. Closing a FileChannel与FileChannel Size\n",
    "1. 使用`channel.close()`关闭Channel\n",
    "2. 使用`channel.truncate(1024);`\n",
    "\n",
    "#### 五. FileChannel Force\n",
    "1. 使用`FileChannel.force()`方法, 强制将channel中未写入磁盘的数据写入磁盘. \n",
    "2. 为什么使用这个方法?  \n",
    "   因为操作系统的设计, 往往会用一个缓存缓冲写入磁盘的数据, 调用这个方法可以强制将魂村中的数据写入磁盘, 来保证数据完整性"
   ]
  },
  {
   "cell_type": "markdown",
   "metadata": {},
   "source": [
    "#### 用FileChannel完成文件复制\n",
    "```java\n",
    "String dir = \"/Users/lj/IdeaProjects/JavaFeatures/Java NetWork/\";\n",
    "RandomAccessFile fromFile = new RandomAccessFile(dir+\"data/from.txt\",\"r\");\n",
    "FileChannel fromChannel = fromFile.getChannel();\n",
    "RandomAccessFile toFile = new RandomAccessFile(dir+\"data/to.txt\", \"rw\");\n",
    "FileChannel toChannel = toFile.getChannel();\n",
    "\n",
    "long count = fromChannel.size();\n",
    "System.out.println(\"count is:\"+count);\n",
    "\n",
    "ByteBuffer buffer = ByteBuffer.allocate(32);  // 申请一块内存缓冲\n",
    "int hasRead ;\n",
    "while((hasRead=fromChannel.read(buffer))!=-1){\n",
    "    buffer.flip();  // 准备进入读模式\n",
    "    while(buffer.hasRemaining()){\n",
    "        toChannel.write(buffer);\n",
    "    }\n",
    "    buffer.clear(); // 准备进入写模式\n",
    "}\n",
    "\n",
    "toChannel.force(true); // 强制刷新channel中未写出的数据到磁盘\n",
    "```"
   ]
  }
 ],
 "metadata": {
  "kernelspec": {
   "display_name": "Python 3",
   "language": "python",
   "name": "python3"
  },
  "language_info": {
   "codemirror_mode": {
    "name": "ipython",
    "version": 3
   },
   "file_extension": ".py",
   "mimetype": "text/x-python",
   "name": "python",
   "nbconvert_exporter": "python",
   "pygments_lexer": "ipython3",
   "version": "3.6.5"
  }
 },
 "nbformat": 4,
 "nbformat_minor": 2
}
