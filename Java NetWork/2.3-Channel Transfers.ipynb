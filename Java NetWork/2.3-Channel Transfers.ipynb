{
 "cells": [
  {
   "cell_type": "markdown",
   "metadata": {},
   "source": [
    "#### 一. Channel之间的读写\n",
    "1. NIO中, 如果有2个Channel, 其中一个Channel是`FileChannel`, 则数据可以直接从一个Channel读入/写出到另一个Channel中  \n",
    "2. `FileChannel`实现了`transferFrom`和`transferTo`\n",
    "\n",
    "#### 二. transferFrom()\n",
    "1. 如下打开两个文件channel,把数据从一个文件写入到另一个文件.\n",
    "    * 下面的position和count用来描述源文件.\n",
    "        * position: 从toChannel的哪个位置开始写\n",
    "        * count: 从fromChannel中读多少数据写入 \n",
    "        \n",
    " <img src=\"img/transforfrom.png\" width=\"70%\">\n",
    "    \n",
    "    \n",
    "2. 如果FileChannel的transferFrom是SocketChannel,那么当调用transferFrom()方法时, 会立刻把数据从socket的缓冲区中读取出来; 即便读取的大小没到count指定的大小, 且后续仍会有数据从socket中来, 也不能再次写入到FileChannel中\n",
    "\n",
    "#### 三. transferTo()\n",
    "1. 同上述功能一样, 将数据从fromChannel拷贝到toChannel\n",
    "    * position: 从fromChannel的那个位置开始读\n",
    "    * count: 从fromChannel中读多少数据\n",
    "2. 如果fromChannel是SocketChannel, 一样会存在transferFrom的问题: 立刻读取, 且后续即使有数据到来也不能继续读取\n",
    "    <img src=\"img/transforto.png\" width=\"70%\">"
   ]
  }
 ],
 "metadata": {
  "kernelspec": {
   "display_name": "Python 3",
   "language": "python",
   "name": "python3"
  },
  "language_info": {
   "codemirror_mode": {
    "name": "ipython",
    "version": 3
   },
   "file_extension": ".py",
   "mimetype": "text/x-python",
   "name": "python",
   "nbconvert_exporter": "python",
   "pygments_lexer": "ipython3",
   "version": "3.7.0"
  }
 },
 "nbformat": 4,
 "nbformat_minor": 2
}
