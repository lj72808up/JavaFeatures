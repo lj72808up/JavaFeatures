{
 "cells": [
  {
   "cell_type": "markdown",
   "metadata": {},
   "source": [
    "## 一. 读到partial message\n",
    "&nbsp;&nbsp;&nbsp;&nbsp;当从SelectableChannel中读取一块数据时,并不知道这块数据是比1条message的数据多还是少. \n",
    "一个数据块可能包含3种数据: 部分信息(短于1条message),正好一条message, 多于1条message; 处理partial message要注意两点:\n",
    "<img src=\"img/non-blocking-server-6.png\" width=\"48%\" height=\"48%\" align=\"right\">\n",
    "     1. 如何发现数据块中是否包含一条完整的message\n",
    "     2. 在其他数据到来之前,如何处理这些partial message\n",
    "\n",
    "&nbsp;&nbsp;&nbsp;&nbsp;对于第一点, 只要发现数据块中的数据大于或等于一条完整message, 这个message就会被发送到pipeline中处理. 检查是否包含完整message的动作要反复执行; 对于第二点, 读到partial message时要将他保存, 直到其余信息到达channel中.    \n",
    "  \n",
    "&nbsp;&nbsp;&nbsp;&nbsp;检查full messages和保存partial messages都是Message Reader的职责, 为了避免从不同channel中读取的消息混在一起, 对每一个channel使用一个Message Reader. 这种设计看起来如右图:  \n",
    "  \n",
    "当然, Message Reader需要满某种特定协议, 协议用来描述将要读取到的message的格式.如果想要Message Reader支持多种消息格式, 则需要Message Reader实现可配置协议的功能."
   ]
  },
  {
   "cell_type": "markdown",
   "metadata": {},
   "source": [
    "## 二. 保存partial message\n",
    "### 1. Resize by Copy\n",
    "一旦一个message被pipeline完全处理完毕, 就要去释放其buffer占用的内存, 下次从这个连接中收到数据时, 再次从最小的buffer size开始\n",
    "\n",
    "### 3. TLV加密信息\n",
    "&nbsp;&nbsp;&nbsp;&nbsp;TLV格式(type,length,value).一些协议支持把message封装成TLV格式, 这意味着, message的头部存储着mesage的长度, 接收端立刻就能知道为该mesage分配多大的内存来存储  \n",
    "&nbsp;&nbsp;&nbsp;&nbsp;TLV格式让内存管理变得很容易, 且没有一点内存浪费.   \n",
    "&nbsp;&nbsp;&nbsp;&nbsp;TLV格式的一个缺点是, 在消息全部抵达接收端以前, 就为该message分配全部内存; 如果一个速度很慢的连接发送一个长度很大的message', 会让接受者立刻分配其剩余的所有内存, 导致服务无响应\n"
   ]
  },
  {
   "cell_type": "markdown",
   "metadata": {},
   "source": [
    "## 三. Writing Partial Messages"
   ]
  },
  {
   "cell_type": "code",
   "execution_count": null,
   "metadata": {},
   "outputs": [],
   "source": []
  }
 ],
 "metadata": {
  "kernelspec": {
   "display_name": "Python 3",
   "language": "python",
   "name": "python3"
  },
  "language_info": {
   "codemirror_mode": {
    "name": "ipython",
    "version": 3
   },
   "file_extension": ".py",
   "mimetype": "text/x-python",
   "name": "python",
   "nbconvert_exporter": "python",
   "pygments_lexer": "ipython3",
   "version": "3.7.0"
  }
 },
 "nbformat": 4,
 "nbformat_minor": 2
}
