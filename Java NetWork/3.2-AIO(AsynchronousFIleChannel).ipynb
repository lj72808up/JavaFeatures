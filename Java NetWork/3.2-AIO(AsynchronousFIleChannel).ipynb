{
 "cells": [
  {
   "cell_type": "markdown",
   "metadata": {},
   "source": [
    "#### 一. 什么是AsynchronousFileChannel\n",
    "1. `AsynchronousFileChannel`是1.7加入NIO包中的, 它使得文件的读写操作变成异步的\n",
    "    * 异步的意思是指, 对于文件的写, 只要指定数据来源的ByteBuffer和文件; 对于文件的读, 只要指定读到哪个ByteBuffer后, 进程就可以继续执行其他任务, 等到文件读写完毕后会通知该进程\n",
    "    * 异步调用通知的方式: \n",
    "        1. 轮训: 进程反复检查文件读写返回的Future对象, 确定的当前状态\n",
    "        2. 回调: 设置回调函数, 文件读写完毕后自动调用回调函数(CompletionHandler)\n",
    "        \n",
    "        \n",
    "2. 创建`AsynchronousFileChannel`   \n",
    "   使用`AsynchronousFileChannel`的静态方法open()创建\n",
    "    * 第一个参数为Path实例, 表示对那个文件进行操作\n",
    "    * 第二个参数为对文件操作类型,下例中, `StandardOpenOption.READ`表示读  \n",
    "    \n",
    "<img src=\"img/asfilechannel1.png\" width=\"90%\">\n",
    "    \n",
    "    \n",
    "3. 使用`AsynchronousFileChannel`进行异步写   \n",
    "   异步写有两种方式, 两种方式都要调用`write`方法. 值得注意的是, 写的文件必须提前创建出来 : \n",
    "    1. 通过轮训返回的future对象的状态\n",
    "    2. 通过回调函数`CompleteHandler` \n",
    "<img src=\"img/fileasychannel.png\" width=\"100%\">\n",
    "\n",
    "\n",
    "4. 使用`AsynchronousFileChannel`进行异步读   \n",
    "   异步读和异步写一样, 同样分为轮训和回调两种方式\n",
    "   \n",
    "<img src=\"img/asynfilechannel.png\" width=\"90%\">"
   ]
  }
 ],
 "metadata": {
  "kernelspec": {
   "display_name": "Python 3",
   "language": "python",
   "name": "python3"
  },
  "language_info": {
   "codemirror_mode": {
    "name": "ipython",
    "version": 3
   },
   "file_extension": ".py",
   "mimetype": "text/x-python",
   "name": "python",
   "nbconvert_exporter": "python",
   "pygments_lexer": "ipython3",
   "version": "3.7.0"
  }
 },
 "nbformat": 4,
 "nbformat_minor": 2
}
