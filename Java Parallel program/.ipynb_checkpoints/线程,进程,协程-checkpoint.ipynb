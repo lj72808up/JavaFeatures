{
 "cells": [
  {
   "cell_type": "markdown",
   "metadata": {},
   "source": [
    "#### 1. 进程\n",
    "进程是操作系统进行资源分配的一个独立资源. \"资源\"是指:用户的地址空间, 已打开的文件和已申请到的设备, 由核心进程控制的地址映射表"
   ]
  },
  {
   "cell_type": "markdown",
   "metadata": {},
   "source": [
    "#### 2. 线程\n",
    "线程是操作系统进行调度的基本单位"
   ]
  },
  {
   "cell_type": "markdown",
   "metadata": {},
   "source": [
    "#### 3. 协程\n",
    "协程是非抢占式的用户态轻量线程, 由于不在内核态, 所以不受操作系统调度, 而是由编译运行时系统或程序员控制的调度.  \n",
    "协程会主动让出控制权给其他协程, 是单线程内控制权的流转  \n",
    "python使用yield显式交出控制权"
   ]
  }
 ],
 "metadata": {
  "kernelspec": {
   "display_name": "Python 3",
   "language": "python",
   "name": "python3"
  },
  "language_info": {
   "codemirror_mode": {
    "name": "ipython",
    "version": 3
   },
   "file_extension": ".py",
   "mimetype": "text/x-python",
   "name": "python",
   "nbconvert_exporter": "python",
   "pygments_lexer": "ipython3",
   "version": "3.6.5"
  }
 },
 "nbformat": 4,
 "nbformat_minor": 2
}
