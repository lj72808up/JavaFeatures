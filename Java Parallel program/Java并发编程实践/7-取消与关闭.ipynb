{
 "cells": [
  {
   "cell_type": "markdown",
   "metadata": {},
   "source": [
    "#### 1. 中断"
   ]
  },
  {
   "cell_type": "markdown",
   "metadata": {},
   "source": [
    "```java\n",
    "public static void main(String[] args) throws InterruptedException {\n",
    "    Thread t1 = new Thread(new Runnable() {\n",
    "        private boolean flag = false;\n",
    "        @Override\n",
    "        public void run() {\n",
    "//                System.out.println(\"haha\");\n",
    "            while(!Thread.currentThread().isInterrupted() && !flag){\n",
    "                System.out.println(\"haha\");\n",
    "                try {\n",
    "                    Thread.sleep(500);\n",
    "                    // Thread.sleep检查到由其他线程调用中断后, 会返回且执行一个Thread.interrupted静态方法(重置interrupt状态为false), 说明已检测到中断, 再抛出中断异常告知上层调用者\n",
    "                    // 因此, 如果上层调用者调用了Thread.sleep, 不能再通过Thread.currentThread().isInterrupted()检查中断位, 而是应该在捕获sleep抛出异常后,用自己的标记位进行中断标记\n",
    "                } catch (InterruptedException e) {\n",
    "                    e.printStackTrace();\n",
    "                    System.out.println(\"after sleep , interupt state:\"+Thread.currentThread().isInterrupted());  // out: after sleep , interupt state:false\n",
    "                    flag = true;\n",
    "                    Thread.interrupted();\n",
    "                }\n",
    "            }\n",
    "        }\n",
    "    });\n",
    "    t1.start();\n",
    "    Thread.sleep(2000);\n",
    "    t1.interrupt();\n",
    "    System.out.println(t1.isInterrupted());\n",
    "}\n",
    "```"
   ]
  }
 ],
 "metadata": {
  "kernelspec": {
   "display_name": "Python 3",
   "language": "python",
   "name": "python3"
  },
  "language_info": {
   "codemirror_mode": {
    "name": "ipython",
    "version": 3
   },
   "file_extension": ".py",
   "mimetype": "text/x-python",
   "name": "python",
   "nbconvert_exporter": "python",
   "pygments_lexer": "ipython3",
   "version": "3.7.0"
  }
 },
 "nbformat": 4,
 "nbformat_minor": 2
}
