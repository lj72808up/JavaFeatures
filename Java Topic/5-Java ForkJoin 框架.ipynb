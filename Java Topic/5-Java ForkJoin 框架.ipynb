{
 "cells": [
  {
   "cell_type": "markdown",
   "metadata": {},
   "source": [
    "#### 一. 简介  \n",
    "1. 简介   \n",
    " fork/join 是 work-stealing 框架的一个变种, 同时又是一种并行编程的风格, 它迭代的把任务划分成多个子任务, 等待子任务并行的执行完毕, 最后组合这些任务的结果\n",
    " \n",
    "2. fork/join 的特点\n",
    "    * 不用监控线程的阻塞  \n",
    "      fork/join 任务产生的DAG, 比普遍目标的 threads 具有更高效的调度策略. 比如, fork/join 任务从来不会阻塞(除了等待子任务返回); 因此, 像普通 thread 中, 跟踪阻塞线程的开支这种操作在 fork/join 中是浪费的  \n",
    "    * 注意任务的粒度   \n",
    "      应该注意调整 fork/join 任务的粒度. 因为太小的粒度会让构建和管理线程的开销比线程执行任务本身还大; 相反, 太粗粒度的任务使得线程更重且阻碍并行性.\n",
    "      \n",
    " 简言之, 标准的线程框架如果用来实现 fork/join 任务会显得太重. (因为 fork/join 会迭代的产生大量小的子任务), 且如果只为了实现 fork/join 的任务调度方式, 而删去标准线程框架之中的某些消耗也是不现实的"
   ]
  },
  {
   "cell_type": "code",
   "execution_count": null,
   "metadata": {},
   "outputs": [],
   "source": []
  }
 ],
 "metadata": {
  "kernelspec": {
   "display_name": "Python 3",
   "language": "python",
   "name": "python3"
  },
  "language_info": {
   "codemirror_mode": {
    "name": "ipython",
    "version": 3
   },
   "file_extension": ".py",
   "mimetype": "text/x-python",
   "name": "python",
   "nbconvert_exporter": "python",
   "pygments_lexer": "ipython3",
   "version": "3.7.4"
  }
 },
 "nbformat": 4,
 "nbformat_minor": 2
}
