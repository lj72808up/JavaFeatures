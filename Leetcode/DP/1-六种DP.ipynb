{
 "cells": [
  {
   "cell_type": "markdown",
   "metadata": {},
   "source": [
    "#### 1. 为什么使用动态编程\n",
    "* 降低时间复杂度.   \n",
    "    DP的问题通常也可以使用递归求解, 单递归求解时间复杂度在指数级, 所以使用DP将$2^n$的时间复杂度降低为多项式的时间复杂度\n",
    "* 完成counting的功能  \n",
    "    完成某项功能有几种方法\n",
    "* Optimazation  \n",
    "    求完成某个任务的最优解. 如买到这些东西至少花多少钱\n",
    "    \n",
    "#### 2. 什么是DP\n",
    "\n",
    "DP需要进行padding, 来处理边界case  \n",
    "记忆化递归不需要padding, 在数组越界时返回特定值    \n",
    "DP要求之前的子问题已经求解过了, 而记忆化递归不需要, 如果子问题没被求解过, 会自动去求解\n",
    "\n",
    "#### 3. DP的模板\n",
    "```python\n",
    "DP \n",
    "dp = ...    # 创建dp数组\n",
    "            # 增加padding, 如果需要的话\n",
    "dp[0][0] =  # 初始化dp数组\n",
    "            # 初始化base cases\n",
    "                 \n",
    "for i ...\n",
    "    for j ...\n",
    "        ...\n",
    "        dp[i][j] = ... # transition\n",
    "# 最难的地方在于transition\n",
    "```"
   ]
  },
  {
   "cell_type": "markdown",
   "metadata": {},
   "source": [
    "#### 4. 六种DP的类型和编程模板  \n",
    "- 如下例子中  \n",
    "    * 1.1~1.4是一维输入\n",
    "    * 2.1~2.2是二维输入\n"
   ]
  },
  {
   "cell_type": "markdown",
   "metadata": {},
   "source": [
    "* 1.1  \n",
    "\n",
    "<img src=\"img/dp1.1.png\" height=\"90%\" width=\"90%\" align=\"left\">"
   ]
  },
  {
   "cell_type": "markdown",
   "metadata": {},
   "source": [
    "* 1.2  \n",
    "\n",
    "<img src=\"img/dp1.2.png\" height=\"80%\" width=\"80%\" align=\"left\">"
   ]
  },
  {
   "cell_type": "markdown",
   "metadata": {},
   "source": [
    "* 1.3  \n",
    "\n",
    "\n",
    "<img src=\"img/dp1.3.png\" height=\"90%\" width=\"90%\" align=\"left\">"
   ]
  },
  {
   "cell_type": "markdown",
   "metadata": {},
   "source": [
    "* 1.4  \n",
    "\n",
    "<img src=\"img/dp1.4.png\" height=\"90%\" width=\"90%\" align=\"left\">"
   ]
  },
  {
   "cell_type": "markdown",
   "metadata": {},
   "source": [
    "* 2.1 \n",
    "    * 题目: 62 63 64\n",
    "    \n",
    "<img src=\"img/dp2.1.png\" height=\"80%\" width=\"80%\" align=\"left\">"
   ]
  },
  {
   "cell_type": "markdown",
   "metadata": {},
   "source": [
    "* 2.2\n",
    "    * 题目: 688 576\n",
    "\n",
    "<img src=\"img/dp2.2.png\" height=\"90%\" width=\"90%\" align=\"left\">"
   ]
  },
  {
   "cell_type": "code",
   "execution_count": null,
   "metadata": {},
   "outputs": [],
   "source": []
  }
 ],
 "metadata": {
  "kernelspec": {
   "display_name": "Python 3",
   "language": "python",
   "name": "python3"
  },
  "language_info": {
   "codemirror_mode": {
    "name": "ipython",
    "version": 3
   },
   "file_extension": ".py",
   "mimetype": "text/x-python",
   "name": "python",
   "nbconvert_exporter": "python",
   "pygments_lexer": "ipython3",
   "version": "3.7.0"
  }
 },
 "nbformat": 4,
 "nbformat_minor": 2
}
