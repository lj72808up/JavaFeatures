{
 "cells": [
  {
   "cell_type": "markdown",
   "metadata": {},
   "source": [
    "#### 一. 0-1背包问题\n",
    "1. 问题描述:\n",
    "    * N个物品\n",
    "    * `w[i]`是第i个物品的重量\n",
    "    * `v[i]`是第i个物品的价值\n",
    "    * 求背包内重量不大于W的情况下, 能装到物品的最大价值. 每个物品只能被选0或1次"
   ]
  },
  {
   "cell_type": "markdown",
   "metadata": {},
   "source": [
    "2. 背包问题是NP完全问题\n",
    "    * 不确定能否在多项式时间内找到一个解, 但要能在多项式时间内验证一个解是不是正确"
   ]
  },
  {
   "cell_type": "markdown",
   "metadata": {},
   "source": [
    "3. Solution1 - Search Recursion\n",
    "    * 每个物品只能选或不选, 因此递归内包含两个分支. 递归函数的参数包括3个(从第几个物品开始选,当前价值,当前重量)  \n",
    "      递归内部, 当重量超过W时, 记录下当前的V. 最后从所有递归解中找到最大的那个\n",
    "    * 每个数组在O(n)内可以确定是否为最优解\n",
    "    * 只能在N很小时使用"
   ]
  },
  {
   "cell_type": "markdown",
   "metadata": {},
   "source": [
    "4. `dp(i,j)`定义\n",
    "    * i: 前i个物品\n",
    "    * j: 背包剩余重量"
   ]
  },
  {
   "cell_type": "markdown",
   "metadata": {},
   "source": [
    "5. Solution2 - DP\n",
    "    * 递归求解时, 存在overlap的情况, 因次可以考虑记忆化递归和动态规划\n",
    "    * 由于不知道"
   ]
  },
  {
   "cell_type": "code",
   "execution_count": null,
   "metadata": {},
   "outputs": [],
   "source": []
  },
  {
   "cell_type": "code",
   "execution_count": null,
   "metadata": {},
   "outputs": [],
   "source": []
  },
  {
   "cell_type": "code",
   "execution_count": null,
   "metadata": {},
   "outputs": [],
   "source": []
  },
  {
   "cell_type": "code",
   "execution_count": null,
   "metadata": {},
   "outputs": [],
   "source": []
  }
 ],
 "metadata": {
  "kernelspec": {
   "display_name": "Python 3",
   "language": "python",
   "name": "python3"
  },
  "language_info": {
   "codemirror_mode": {
    "name": "ipython",
    "version": 3
   },
   "file_extension": ".py",
   "mimetype": "text/x-python",
   "name": "python",
   "nbconvert_exporter": "python",
   "pygments_lexer": "ipython3",
   "version": "3.7.0"
  }
 },
 "nbformat": 4,
 "nbformat_minor": 2
}
