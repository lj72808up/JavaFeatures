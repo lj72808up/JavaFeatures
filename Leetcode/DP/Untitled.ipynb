{
 "cells": [
  {
   "cell_type": "markdown",
   "metadata": {},
   "source": [
    "#### 1. 为什么使用动态编程\n",
    "* 降低时间复杂度.   \n",
    "    DP的问题通常也可以使用地柜求解, 单递归求解时间复杂度在指数级, 所以使用DP将$2^n$的时间复杂度降低为多项式的时间复杂度\n",
    "* 完成counting的功能  \n",
    "    完成某项功能有几种方法\n",
    "* Optimazation  \n",
    "    求完成某个任务的最优解. 如买到这些东西至少花多少钱\n",
    "    \n",
    "#### 2. 什么是DP\n",
    "\n",
    "DP需要进行padding, 来处理边界case  \n",
    "记忆化递归不需要padding, 在数组越界时返回特定值    \n",
    "DP要求之前的子问题已经求解过了, 而记忆化递归不需要, 如果子问题没被求解过, 会自动去求解\n",
    "\n",
    "#### 3. DP的模板\n",
    "DP \n",
    "dp = ... # 创建dp数组\n",
    "            # 增加padding, 如果需要的话\n",
    "dp[0][0] = # 初始化dp数组\n",
    "                 # base cases\n",
    "                 \n",
    "for i ...\n",
    "    for j ...\n",
    "        ...\n",
    "        dp[i][j] = ... # transition\n",
    "最难的地方在于transition"
   ]
  },
  {
   "cell_type": "code",
   "execution_count": null,
   "metadata": {},
   "outputs": [],
   "source": []
  }
 ],
 "metadata": {
  "kernelspec": {
   "display_name": "Python 3",
   "language": "python",
   "name": "python3"
  },
  "language_info": {
   "codemirror_mode": {
    "name": "ipython",
    "version": 3
   },
   "file_extension": ".py",
   "mimetype": "text/x-python",
   "name": "python",
   "nbconvert_exporter": "python",
   "pygments_lexer": "ipython3",
   "version": "3.6.5"
  }
 },
 "nbformat": 4,
 "nbformat_minor": 2
}
