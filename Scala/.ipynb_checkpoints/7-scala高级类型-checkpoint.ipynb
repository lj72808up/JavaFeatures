{
 "cells": [
  {
   "cell_type": "markdown",
   "metadata": {},
   "source": [
    "#### 1. 单例类型  \n",
    "调用一个`对象.type`,将返回这个对象的类型. 称为单例类型. 有2个使用场景:  \n",
    "1. 子类继承时, 为形成链式调用, 让父类的方法返回`this.type`"
   ]
  },
  {
   "cell_type": "code",
   "execution_count": 2,
   "metadata": {},
   "outputs": [
    {
     "data": {
      "text/plain": [
       "defined \u001b[32mclass\u001b[39m \u001b[36mDocument\u001b[39m\n",
       "defined \u001b[32mclass\u001b[39m \u001b[36mBook\u001b[39m\n",
       "\u001b[36mres1_2\u001b[39m: \u001b[32mwrapper\u001b[39m.\u001b[32mwrapper\u001b[39m.\u001b[32mBook\u001b[39m = $sess.cmd1Wrapper$Helper$Book@bf034b4"
      ]
     },
     "execution_count": 2,
     "metadata": {},
     "output_type": "execute_result"
    }
   ],
   "source": [
    "class Document{\n",
    "    def setTitle(title:String):this.type = this\n",
    "}\n",
    "class Book extends Document{\n",
    "    def addChapter(chapter:String) = this\n",
    "}\n",
    "\n",
    "// 如果Document的setTitle方法不声明称this.tag,则如链式调用不成立\n",
    "new Book().setTitle(\"title1\").addChapter(\"chapter1\")"
   ]
  },
  {
   "cell_type": "markdown",
   "metadata": {},
   "source": [
    "2. 当方法的参数为半生对象时, 需要用`对象.type`指定参数类型"
   ]
  },
  {
   "cell_type": "code",
   "execution_count": 4,
   "metadata": {},
   "outputs": [
    {
     "data": {
      "text/plain": [
       "defined \u001b[32mobject\u001b[39m \u001b[36mTitle\u001b[39m\n",
       "defined \u001b[32mfunction\u001b[39m \u001b[36mset\u001b[39m"
      ]
     },
     "execution_count": 4,
     "metadata": {},
     "output_type": "execute_result"
    }
   ],
   "source": [
    "object Title\n",
    "// 如果参数为(title:Title),编译不通过. 因为Title是对象,而不是类型\n",
    "def set(title:Title.type) = \"success\""
   ]
  },
  {
   "cell_type": "markdown",
   "metadata": {},
   "source": [
    "#### 2. 类型投影\n",
    "因为scala的内部类从属于外部类的对象, 当我们想表示任意外部类对象的内部类类型时, 就要使用类型投影: `Outter#Inner`:  "
   ]
  },
  {
   "cell_type": "code",
   "execution_count": 5,
   "metadata": {},
   "outputs": [
    {
     "data": {
      "text/plain": [
       "defined \u001b[32mclass\u001b[39m \u001b[36mOuter\u001b[39m\n",
       "defined \u001b[32mfunction\u001b[39m \u001b[36mfun\u001b[39m"
      ]
     },
     "execution_count": 5,
     "metadata": {},
     "output_type": "execute_result"
    }
   ],
   "source": [
    "class Outer{\n",
    "    class Inner\n",
    "}\n",
    "def fun(a:Outer#Inner) = 1"
   ]
  },
  {
   "cell_type": "markdown",
   "metadata": {},
   "source": [
    "#### 3. 给类型起别名\n",
    "1. 当类型很复杂时, 可以给类型其别名减小书写量. 使用符号`type`  \n",
    "2. 类型别名只能卸载类/对象的内部,不能出现在文件顶层(类/对象的外部)"
   ]
  },
  {
   "cell_type": "code",
   "execution_count": 7,
   "metadata": {},
   "outputs": [
    {
     "data": {
      "text/plain": [
       "defined \u001b[32mclass\u001b[39m \u001b[36mA\u001b[39m"
      ]
     },
     "execution_count": 7,
     "metadata": {},
     "output_type": "execute_result"
    }
   ],
   "source": [
    "class A{\n",
    "    type M = scala.collection.mutable.HashMap[String,Int]\n",
    "    def fun(map:M) = map\n",
    "}"
   ]
  },
  {
   "cell_type": "markdown",
   "metadata": {},
   "source": [
    "#### 4. 结构类型\n",
    "1. 有时我们想宽泛的定义函数参数的类型, 表示为'只要该参数有某个方法即可'. 此时就使用结构类型定义.  \n",
    " 这比定义一个特质,再让参数的类继承这个特质的写法要简便\n",
    "2. 结构类型在运行时使用反射调用该参数的方法, 因此, 除非想抓取那些无法共享成一个特质的类的共同方法时, 才使用结构类型"
   ]
  },
  {
   "cell_type": "code",
   "execution_count": 8,
   "metadata": {},
   "outputs": [
    {
     "data": {
      "text/plain": [
       "defined \u001b[32mfunction\u001b[39m \u001b[36mappendLines\u001b[39m"
      ]
     },
     "execution_count": 8,
     "metadata": {},
     "output_type": "execute_result"
    }
   ],
   "source": [
    "def appendLines(lines:Iterable[String],target:{def append(str:String):Any}) = {\n",
    "    for(l <- lines){\n",
    "        target.append(l)\n",
    "    }\n",
    "}"
   ]
  },
  {
   "cell_type": "markdown",
   "metadata": {},
   "source": [
    "#### 5. 符合类型\n",
    "使用`T1 with T2 with T3`表示的符合类型"
   ]
  },
  {
   "cell_type": "code",
   "execution_count": 9,
   "metadata": {},
   "outputs": [
    {
     "data": {
      "text/plain": [
       "\u001b[36marr\u001b[39m: \u001b[32mArray\u001b[39m[\u001b[32mjava\u001b[39m.\u001b[32mawt\u001b[39m.\u001b[32mShape\u001b[39m with \u001b[32mjava\u001b[39m.\u001b[32mio\u001b[39m.\u001b[32mSerializable\u001b[39m] = \u001b[33mArray\u001b[39m(null, null)"
      ]
     },
     "execution_count": 9,
     "metadata": {},
     "output_type": "execute_result"
    }
   ],
   "source": [
    "val arr = new Array[java.awt.Shape with java.io.Serializable](2)"
   ]
  },
  {
   "cell_type": "markdown",
   "metadata": {},
   "source": [
    "#### 6. 中置类型\n",
    "使用中置表达式表示的类型"
   ]
  },
  {
   "cell_type": "code",
   "execution_count": 11,
   "metadata": {},
   "outputs": [
    {
     "name": "stdout",
     "output_type": "stream",
     "text": [
      "Map(a -> 1)"
     ]
    },
    {
     "data": {
      "text/plain": [
       "defined \u001b[32mfunction\u001b[39m \u001b[36mfun\u001b[39m"
      ]
     },
     "execution_count": 11,
     "metadata": {},
     "output_type": "execute_result"
    }
   ],
   "source": [
    "//String Map Int = Map[String,Int]\n",
    "def fun(m: String Map Int) = m\n",
    "print(fun(Map(\"a\"->1)))"
   ]
  },
  {
   "cell_type": "markdown",
   "metadata": {},
   "source": [
    "#### 7. 存在类型\n",
    "1. 当泛型的界定非常复杂时, 可使用存在类型对泛型进行限定,卸载参数的后面. 符号表示:   \n",
    "`forSome {type T ...}`  \n",
    "2. scala的类型通配符, 就是存在类型的语法糖. 如下两种表示等价:  \n",
    "```scala\n",
    "Array[_<:JComponent]  \n",
    "Array[T] forSome {type T <: Jomponent} \n",
    "```"
   ]
  },
  {
   "cell_type": "code",
   "execution_count": 15,
   "metadata": {},
   "outputs": [
    {
     "name": "stdout",
     "output_type": "stream",
     "text": [
      "Map(a -> 1)"
     ]
    },
    {
     "data": {
      "text/plain": [
       "defined \u001b[32mfunction\u001b[39m \u001b[36mfun\u001b[39m"
      ]
     },
     "execution_count": 15,
     "metadata": {},
     "output_type": "execute_result"
    }
   ],
   "source": [
    "def fun[T,U](m:Map[T,U] forSome{type T<:String;type U<:Int}) = m\n",
    "print(fun(Map(\"a\"->1)))"
   ]
  },
  {
   "cell_type": "markdown",
   "metadata": {},
   "source": [
    "#### 8. 自身类型  \n",
    "自身类型限制该特质只能被混入那些类的及其子类中. 符号为\n",
    "```scala\n",
    "this:TypeName => \n",
    "def fun() = ...\n",
    "```"
   ]
  },
  {
   "cell_type": "code",
   "execution_count": 17,
   "metadata": {},
   "outputs": [
    {
     "data": {
      "text/plain": [
       "defined \u001b[32mtrait\u001b[39m \u001b[36mLoggedException\u001b[39m"
      ]
     },
     "execution_count": 17,
     "metadata": {},
     "output_type": "execute_result"
    }
   ],
   "source": [
    "trait LoggedException{\n",
    "    this:Exception =>  // 只能混入Exception及其子类\n",
    "    def log() = print(this.getMessage)\n",
    "}"
   ]
  },
  {
   "cell_type": "markdown",
   "metadata": {},
   "source": [
    "#### 9. 抽象类型\n",
    "1. 特质或抽象类中, 可以包含为具体化的抽象类, 以便在子类中实现不同类型. 使用符号`type`  \n",
    "2. 抽象类型和泛型哪种方式更好?  \n",
    "  1. 如果类型在实例化时给出, 则使用泛型  \n",
    "  2. 如果类型在子类给出, 使用抽象类型"
   ]
  },
  {
   "cell_type": "code",
   "execution_count": 18,
   "metadata": {},
   "outputs": [
    {
     "data": {
      "text/plain": [
       "\u001b[32mimport \u001b[39m\u001b[36mscala.io.Source\n",
       "\u001b[39m\n",
       "defined \u001b[32mtrait\u001b[39m \u001b[36mReader\u001b[39m\n",
       "defined \u001b[32mclass\u001b[39m \u001b[36mStringReader\u001b[39m"
      ]
     },
     "execution_count": 18,
     "metadata": {},
     "output_type": "execute_result"
    }
   ],
   "source": [
    "import scala.io.Source\n",
    "trait Reader{\n",
    "    type Contents\n",
    "    def read(fileName:String):Contents\n",
    "}\n",
    "\n",
    "class StringReader extends Reader{\n",
    "    type Contents = String\n",
    "    override def read(fileName:String):Contents = Source.fromFile(fileName).mkString\n",
    "}"
   ]
  },
  {
   "cell_type": "markdown",
   "metadata": {},
   "source": [
    "#### 11. 家族多态"
   ]
  },
  {
   "cell_type": "markdown",
   "metadata": {},
   "source": [
    "#### 12. 高等类型"
   ]
  }
 ],
 "metadata": {
  "kernelspec": {
   "display_name": "Scala",
   "language": "scala",
   "name": "scala"
  },
  "language_info": {
   "codemirror_mode": "text/x-scala",
   "file_extension": ".scala",
   "mimetype": "text/x-scala",
   "name": "scala211",
   "nbconvert_exporter": "script",
   "pygments_lexer": "scala",
   "version": "2.11.11"
  }
 },
 "nbformat": 4,
 "nbformat_minor": 2
}
