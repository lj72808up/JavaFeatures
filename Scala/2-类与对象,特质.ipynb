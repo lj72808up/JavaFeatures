{
 "cells": [
  {
   "cell_type": "markdown",
   "metadata": {},
   "source": [
    "### 2.1 类的属性\n",
    "#### 1. scala类自动生成无参构造  \n",
    "#### 2. var声明的属性自动变为public的, 可以通过`对象.属性名`取值和改值  "
   ]
  },
  {
   "cell_type": "code",
   "execution_count": 8,
   "metadata": {},
   "outputs": [
    {
     "data": {
      "text/plain": [
       "defined \u001b[32mclass\u001b[39m \u001b[36mP\u001b[39m"
      ]
     },
     "execution_count": 8,
     "metadata": {},
     "output_type": "execute_result"
    }
   ],
   "source": [
    "class P{\n",
    "    var age = 0\n",
    "}"
   ]
  },
  {
   "cell_type": "code",
   "execution_count": 9,
   "metadata": {},
   "outputs": [
    {
     "data": {
      "text/plain": [
       "\u001b[36mp\u001b[39m: \u001b[32mP\u001b[39m = $sess.cmd7Wrapper$Helper$P@71bb4403"
      ]
     },
     "execution_count": 9,
     "metadata": {},
     "output_type": "execute_result"
    }
   ],
   "source": [
    "val p = new P()\n",
    "p.age = 10"
   ]
  },
  {
   "cell_type": "markdown",
   "metadata": {},
   "source": [
    "#### 3. val声明的属性, 只能取值, 不能改值"
   ]
  },
  {
   "cell_type": "code",
   "execution_count": 10,
   "metadata": {},
   "outputs": [
    {
     "data": {
      "text/plain": [
       "defined \u001b[32mclass\u001b[39m \u001b[36mMsg\u001b[39m"
      ]
     },
     "execution_count": 10,
     "metadata": {},
     "output_type": "execute_result"
    }
   ],
   "source": [
    "class Msg{\n",
    "    val ts = new java.util.Date()\n",
    "}"
   ]
  },
  {
   "cell_type": "code",
   "execution_count": 11,
   "metadata": {},
   "outputs": [
    {
     "data": {
      "text/plain": [
       "\u001b[36mmsg\u001b[39m: \u001b[32mMsg\u001b[39m = $sess.cmd9Wrapper$Helper$Msg@193a4c68\n",
       "\u001b[36mres10_1\u001b[39m: \u001b[32mjava\u001b[39m.\u001b[32mutil\u001b[39m.\u001b[32mDate\u001b[39m = Wed Aug 29 14:25:11 CST 2018"
      ]
     },
     "execution_count": 11,
     "metadata": {},
     "output_type": "execute_result"
    }
   ],
   "source": [
    "val msg = new Msg()\n",
    "msg.ts  // 取值"
   ]
  },
  {
   "cell_type": "markdown",
   "metadata": {},
   "source": [
    "#### 4. 若要生成类的私有字段, 则应在字段前面加上private\n",
    "#### 5. private[this]声明的属性, 即使是该类的方法, 其参数也是该类的对象, 也不能使用other.属性名访问"
   ]
  },
  {
   "cell_type": "code",
   "execution_count": 12,
   "metadata": {},
   "outputs": [
    {
     "data": {
      "text/plain": [
       "defined \u001b[32mclass\u001b[39m \u001b[36mP\u001b[39m"
      ]
     },
     "execution_count": 12,
     "metadata": {},
     "output_type": "execute_result"
    }
   ],
   "source": [
    "class P{\n",
    "    private var age = 0\n",
    "    def increment():Unit = this.age+=1\n",
    "    def isLess(other:P) = this.age<other.age\n",
    "}"
   ]
  },
  {
   "cell_type": "code",
   "execution_count": 12,
   "metadata": {},
   "outputs": [
    {
     "name": "stderr",
     "output_type": "stream",
     "text": [
      "cmd12.sc:5: value age is not a member of Helper.this.P\n",
      "    def isLess(other:P) = this.age<other.age\n",
      "                                         ^"
     ]
    },
    {
     "ename": "",
     "evalue": "",
     "output_type": "error",
     "traceback": [
      "Compilation Failed"
     ]
    }
   ],
   "source": [
    "class P{\n",
    "    private[this] var age = 0\n",
    "    def increment():Unit = this.age+=1\n",
    "    // 编译失败, 因为private[this]限制该属性不能被其他对象的方法访问, 即不能使用other.属性名\n",
    "    def isLess(other:P) = this.age<other.age\n",
    "}"
   ]
  },
  {
   "cell_type": "markdown",
   "metadata": {},
   "source": [
    "### 2.2 类的构造器\n",
    "\n",
    "#### 一. 辅助构造器  \n",
    "1. scala的辅助构造器名称为`def this()`, 避免类名修改带来方法名修改的麻烦.  \n",
    "2. 因为构造器需要对属性赋值, 因此需要设成私有化的var  \n",
    "3. 辅助构造函数内部, 第一行以其它辅助构造/ 主构造开头"
   ]
  },
  {
   "cell_type": "code",
   "execution_count": 13,
   "metadata": {},
   "outputs": [
    {
     "data": {
      "text/plain": [
       "defined \u001b[32mclass\u001b[39m \u001b[36mPerson\u001b[39m"
      ]
     },
     "execution_count": 13,
     "metadata": {},
     "output_type": "execute_result"
    }
   ],
   "source": [
    "class Person{\n",
    "    private var name = \"\"\n",
    "    def this(name:String) = {\n",
    "        this()\n",
    "        this.name = name\n",
    "    }\n",
    "}"
   ]
  },
  {
   "cell_type": "code",
   "execution_count": 14,
   "metadata": {},
   "outputs": [
    {
     "data": {
      "text/plain": [
       "\u001b[36mp1\u001b[39m: \u001b[32mPerson\u001b[39m = $sess.cmd12Wrapper$Helper$Person@b4180e5\n",
       "\u001b[36mp2\u001b[39m: \u001b[32mPerson\u001b[39m = $sess.cmd12Wrapper$Helper$Person@4cdad59a"
      ]
     },
     "execution_count": 14,
     "metadata": {},
     "output_type": "execute_result"
    }
   ],
   "source": [
    "val p1 = new Person()\n",
    "val p2 = new Person(\"zhangsan\")"
   ]
  },
  {
   "cell_type": "markdown",
   "metadata": {},
   "source": [
    "#### 二. 主构造器\n",
    "1. 主构造器: 是放在类名后面的参数列表\n",
    "2. 主构造器的参数通常为`参数名:类型`, 不带val/var修饰, 表示为`private[this]`的字段  \n",
    "3. 带var/val的主构造器参数, 默认是public的, 可通过private加修饰限定\n",
    "4. 主构造器私有:  \n",
    "  ```scala\n",
    "    class Person private(name:String) .. \n",
    "  ```\n",
    "  此时只能通过辅助构造器实例化对象"
   ]
  },
  {
   "cell_type": "code",
   "execution_count": 6,
   "metadata": {},
   "outputs": [
    {
     "data": {
      "text/plain": [
       "defined \u001b[32mclass\u001b[39m \u001b[36mPerson\u001b[39m"
      ]
     },
     "execution_count": 6,
     "metadata": {},
     "output_type": "execute_result"
    }
   ],
   "source": [
    "class Person(name:String,var age:Int){\n",
    "    def say():Unit = {\n",
    "        println(this.name+\",\"+this.age)\n",
    "    }\n",
    "    \n",
    "    def compare(other:Person) = {\n",
    "        // 编译失败, name是private[this]的, 无法获取属性name\n",
    "        //this.name.size < other.name.size\n",
    "        this.age<other.age\n",
    "    }\n",
    "}"
   ]
  },
  {
   "cell_type": "code",
   "execution_count": 7,
   "metadata": {},
   "outputs": [
    {
     "name": "stdout",
     "output_type": "stream",
     "text": [
      "zhangsan,23\n",
      "zhangsan,1\n"
     ]
    },
    {
     "data": {
      "text/plain": [
       "\u001b[36mp1\u001b[39m: \u001b[32mPerson\u001b[39m = $sess.cmd5Wrapper$Helper$Person@4c201ba3\n",
       "\u001b[36mp2\u001b[39m: \u001b[32mPerson\u001b[39m = $sess.cmd5Wrapper$Helper$Person@74241390\n",
       "\u001b[36mres6_3\u001b[39m: \u001b[32mBoolean\u001b[39m = \u001b[32mfalse\u001b[39m"
      ]
     },
     "execution_count": 7,
     "metadata": {},
     "output_type": "execute_result"
    }
   ],
   "source": [
    "val p1 = new Person(\"zhangsan\",23)\n",
    "val p2 = new Person(\"lisi\",23)\n",
    "p1.say()\n",
    "p2.compare(p1)\n",
    "p1.age = 1   // var声明的主构造参数, 默认是共有的, 可被改值\n",
    "p1.say()\n",
    "//p1.name   编译失败, name是private[this]的"
   ]
  },
  {
   "cell_type": "markdown",
   "metadata": {},
   "source": [
    "#### 三. 嵌套类\n",
    "1. 定义在类内部的类, 从属于外部类产生的对象  \n",
    "2. 定义在半生对象中的内部类, 才能通过Outerclass.InnerClass调用"
   ]
  },
  {
   "cell_type": "markdown",
   "metadata": {},
   "source": [
    "### 2.3 类的对象\n",
    "#### 1. 静态属性/方法  \n",
    " scala没有static关键字, 定义在半生对象中的属性.方法, 就是静态的\n",
    " \n",
    "#### 2. 抽象类的写法  \n",
    "  子类必须给出抽象父类的字段"
   ]
  },
  {
   "cell_type": "code",
   "execution_count": null,
   "metadata": {},
   "outputs": [],
   "source": [
    "abstract class A(val desc:String){\n",
    "    def say():Unit\n",
    "}\n",
    "\n",
    "class AA extends A(\"AA\"){\n",
    "    override def say() = {\n",
    "        println(this.desc)\n",
    "    }\n",
    "}\n",
    "\n",
    "val a = new AA()\n",
    "a.say()"
   ]
  },
  {
   "cell_type": "markdown",
   "metadata": {},
   "source": [
    "#### 3. apply方法   \n",
    " 1. apply方法定义在半生对象中   \n",
    " 2. apply与new构造实例属于不同的方式, apply像是工厂模式创建出的对象, 而new是直接实例化出的对象  \n",
    " 3. Array(100)与new Array(100)不同, 前者是一个元素100的数组, 后者是调用this(100),结果是Array[Nothing]  \n",
    " \n",
    "#### 4. 扩展特质, 也是用extends关键子 (scala没有implements关键字)\n",
    "\n",
    "#### 5. 枚举对象  \n",
    "  1. scala没有枚举类, 但是提供了Enumeration类来实现枚举对象    \n",
    "  2. 枚举对象内部使用Value定义属性  \n",
    "  3. Value可指定值和name id . 值默认在上一个属性的基础上家1  "
   ]
  },
  {
   "cell_type": "code",
   "execution_count": 1,
   "metadata": {},
   "outputs": [
    {
     "data": {
      "text/plain": [
       "defined \u001b[32mobject\u001b[39m \u001b[36mColor\u001b[39m"
      ]
     },
     "execution_count": 1,
     "metadata": {},
     "output_type": "execute_result"
    }
   ],
   "source": [
    "object Color extends Enumeration{\n",
    "    val red = Value   // 此时, 枚举对象的类型是Color.Value\n",
    "    val yellow = Value(2,\"yellow\")\n",
    "}"
   ]
  },
  {
   "cell_type": "markdown",
   "metadata": {},
   "source": [
    "#### 6. 枚举对象类型  \n",
    "    以上枚举对象的类型是Color.Value, 当在首行写下`type Color = Value`后, 类型变成`Color.Color`"
   ]
  },
  {
   "cell_type": "code",
   "execution_count": 2,
   "metadata": {},
   "outputs": [
    {
     "data": {
      "text/plain": [
       "defined \u001b[32mobject\u001b[39m \u001b[36mColor\u001b[39m"
      ]
     },
     "execution_count": 2,
     "metadata": {},
     "output_type": "execute_result"
    }
   ],
   "source": [
    "object Color extends Enumeration{\n",
    "    type Color = Value\n",
    "    val red = Value   // 此时, 枚举对象的类型是Color.Value\n",
    "    val yellow = Value(2,\"yellow\")\n",
    "}"
   ]
  },
  {
   "cell_type": "code",
   "execution_count": 3,
   "metadata": {},
   "outputs": [
    {
     "data": {
      "text/plain": [
       "\u001b[32mimport \u001b[39m\u001b[36mColor._\n",
       "\u001b[39m\n",
       "defined \u001b[32mfunction\u001b[39m \u001b[36mdoWhat\u001b[39m"
      ]
     },
     "execution_count": 3,
     "metadata": {},
     "output_type": "execute_result"
    }
   ],
   "source": [
    "import Color._\n",
    "def doWhat(color:Color):Unit = color match {\n",
    "    case red => print(\"red\")\n",
    "    case _ => print(\"None\")\n",
    "}"
   ]
  },
  {
   "cell_type": "code",
   "execution_count": 5,
   "metadata": {},
   "outputs": [
    {
     "name": "stdout",
     "output_type": "stream",
     "text": [
      "red"
     ]
    }
   ],
   "source": [
    "doWhat(Color.red)"
   ]
  },
  {
   "cell_type": "markdown",
   "metadata": {},
   "source": [
    "#### 7. 类型检查  \n",
    "1. 比较该对象是否是某个类或其子类的实例:   \n",
    "  `isInstanceOf[ClassName]`"
   ]
  },
  {
   "cell_type": "code",
   "execution_count": 15,
   "metadata": {},
   "outputs": [
    {
     "data": {
      "text/plain": [
       "\u001b[36mp1\u001b[39m: \u001b[32mPerson\u001b[39m = $sess.cmd12Wrapper$Helper$Person@62b8b359"
      ]
     },
     "execution_count": 15,
     "metadata": {},
     "output_type": "execute_result"
    }
   ],
   "source": [
    "val p1 = new Person()\n",
    "if (p.isInstanceOf[Person]){\n",
    "    val s = p.asInstanceOf[Person]\n",
    "}"
   ]
  },
  {
   "cell_type": "markdown",
   "metadata": {},
   "source": [
    "2. 判断对象是否是该类的实例 (不包括子类)"
   ]
  },
  {
   "cell_type": "code",
   "execution_count": 16,
   "metadata": {},
   "outputs": [
    {
     "data": {
      "text/plain": [
       "\u001b[36mres15\u001b[39m: \u001b[32mBoolean\u001b[39m = \u001b[32mtrue\u001b[39m"
      ]
     },
     "execution_count": 16,
     "metadata": {},
     "output_type": "execute_result"
    }
   ],
   "source": [
    "p1.getClass == classOf[Person]"
   ]
  },
  {
   "cell_type": "markdown",
   "metadata": {},
   "source": [
    "3. match case 模式匹配"
   ]
  },
  {
   "cell_type": "code",
   "execution_count": 17,
   "metadata": {},
   "outputs": [
    {
     "name": "stdout",
     "output_type": "stream",
     "text": [
      "person class"
     ]
    }
   ],
   "source": [
    "p1 match {\n",
    "    case s:Person => print(\"person class\")  \n",
    "    case _ =>\n",
    "}"
   ]
  },
  {
   "cell_type": "markdown",
   "metadata": {},
   "source": [
    "#### 8. 只有主构造器才能调用超累的构造器 \n",
    "继承的写法  \n",
    "```scala\n",
    "class AA(name:String) extends A(name){}\n",
    "```"
   ]
  },
  {
   "cell_type": "code",
   "execution_count": 24,
   "metadata": {},
   "outputs": [
    {
     "data": {
      "text/plain": [
       "defined \u001b[32mclass\u001b[39m \u001b[36mA\u001b[39m\n",
       "defined \u001b[32mclass\u001b[39m \u001b[36mAA\u001b[39m"
      ]
     },
     "execution_count": 24,
     "metadata": {},
     "output_type": "execute_result"
    }
   ],
   "source": [
    "class A{\n",
    "    def this(name:String) = {\n",
    "        this()\n",
    "        print(\"A的辅助构造器\")\n",
    "    }\n",
    "}\n",
    "class AA(name:String) extends A(name){}"
   ]
  },
  {
   "cell_type": "code",
   "execution_count": 25,
   "metadata": {},
   "outputs": [
    {
     "name": "stdout",
     "output_type": "stream",
     "text": [
      "A的辅助构造器"
     ]
    },
    {
     "data": {
      "text/plain": [
       "\u001b[36mres24\u001b[39m: \u001b[32mAA\u001b[39m = $sess.cmd23Wrapper$Helper$AA@1f99fea0"
      ]
     },
     "execution_count": 25,
     "metadata": {},
     "output_type": "execute_result"
    }
   ],
   "source": [
    "new AA(\"aa\")"
   ]
  },
  {
   "cell_type": "markdown",
   "metadata": {},
   "source": [
    "#### 9. AnyRef与AnyVal\n",
    "1. 所有都是AnyRef的子类  \n",
    "2. 所有基本数据类型, 都扩展自AnyVal类  \n",
    "3. Any是scala最顶级的类, 相当于Object, 它定义了isInstanceOf,asInstanceOf方法.  \n",
    "4. 任何引用isInstanceOf[AnyRef]都会返回true  \n",
    " 但AnyVal不能用在isInstanceOf里, 因为AnyVal不是引用"
   ]
  },
  {
   "cell_type": "code",
   "execution_count": 29,
   "metadata": {},
   "outputs": [
    {
     "data": {
      "text/plain": [
       "\u001b[36mres28\u001b[39m: \u001b[32mBoolean\u001b[39m = \u001b[32mtrue\u001b[39m"
      ]
     },
     "execution_count": 29,
     "metadata": {},
     "output_type": "execute_result"
    }
   ],
   "source": [
    "p.isInstanceOf[AnyRef]"
   ]
  },
  {
   "cell_type": "markdown",
   "metadata": {},
   "source": [
    "#### 10. Nothing与Null类\n",
    "1. Nothing类没有实例, 只用于泛型结构   \n",
    " eg: 空列表Nil的类型是`List[Nothing]`  \n",
    "2. None类只有一个实例: null   \n",
    "  null可以赋值给任何引用, 但不能赋值给值型变量"
   ]
  },
  {
   "cell_type": "markdown",
   "metadata": {},
   "source": [
    "#### 11. 对象判等, 重写类的equals方法\n",
    "1. equals()方法的参数是Any类型\n",
    "2. 内部先用asInstance转换, 如下例   \n",
    "  1. 如果对象不是该类的实例, 直接使用asInstance转换会抛出异常  "
   ]
  },
  {
   "cell_type": "code",
   "execution_count": 32,
   "metadata": {},
   "outputs": [
    {
     "data": {
      "text/plain": [
       "defined \u001b[32mclass\u001b[39m \u001b[36mAA\u001b[39m"
      ]
     },
     "execution_count": 32,
     "metadata": {},
     "output_type": "execute_result"
    }
   ],
   "source": [
    "class AA(var desc:String){\n",
    "    final override def equals(other:Any):Boolean = {\n",
    "        val that = other.asInstanceOf[AA]\n",
    "        if(that == null){\n",
    "            false\n",
    "        }else{\n",
    "            this.desc == that.desc\n",
    "        }\n",
    "    }\n",
    "}"
   ]
  },
  {
   "cell_type": "code",
   "execution_count": 36,
   "metadata": {},
   "outputs": [
    {
     "ename": "",
     "evalue": "",
     "output_type": "error",
     "traceback": [
      "\u001b[31mjava.lang.ClassCastException: $sess.cmd7Wrapper$Helper$P cannot be cast to $sess.cmd31Wrapper$Helper$AA\u001b[39m",
      "  $sess.cmd35Wrapper$Helper.<init>(\u001b[32mcmd35.sc\u001b[39m:\u001b[32m1\u001b[39m)",
      "  $sess.cmd35Wrapper.<init>(\u001b[32mcmd35.sc\u001b[39m:\u001b[32m329\u001b[39m)",
      "  $sess.cmd35$.<init>(\u001b[32mcmd35.sc\u001b[39m:\u001b[32m187\u001b[39m)",
      "  $sess.cmd35$.<clinit>(\u001b[32mcmd35.sc\u001b[39m:\u001b[32m-1\u001b[39m)"
     ]
    }
   ],
   "source": [
    "// p不是AA的实例\n",
    "p.asInstanceOf[AA]"
   ]
  },
  {
   "cell_type": "code",
   "execution_count": null,
   "metadata": {},
   "outputs": [],
   "source": []
  }
 ],
 "metadata": {
  "kernelspec": {
   "display_name": "Scala",
   "language": "scala",
   "name": "scala"
  },
  "language_info": {
   "codemirror_mode": "text/x-scala",
   "file_extension": ".scala",
   "mimetype": "text/x-scala",
   "name": "scala211",
   "nbconvert_exporter": "script",
   "pygments_lexer": "scala",
   "version": "2.11.11"
  }
 },
 "nbformat": 4,
 "nbformat_minor": 2
}
