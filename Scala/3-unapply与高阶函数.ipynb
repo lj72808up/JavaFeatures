{
 "cells": [
  {
   "cell_type": "markdown",
   "metadata": {},
   "source": [
    "### 3.1  apply与unapply\n",
    "1. scala所有操作符都是左结合的, 即从左向右求值. 只有以下2种操作符是右结合的:  \n",
    "  1. 赋值操作符  \n",
    "  2. 以冒号(:)结尾的操作符  \n",
    "  ```scala\n",
    "  1::2::Nil 意思是 1::(2::Nil)\n",
    "  ```"
   ]
  },
  {
   "cell_type": "markdown",
   "metadata": {},
   "source": [
    "2. `apply`方法  \n",
    "  1. apply方法用在伴生对象中, 负责实例化对象  \n",
    "  2. 不用new实例化方法"
   ]
  },
  {
   "cell_type": "code",
   "execution_count": 8,
   "metadata": {},
   "outputs": [
    {
     "data": {
      "text/plain": [
       "defined \u001b[32mclass\u001b[39m \u001b[36mFraction\u001b[39m\n",
       "defined \u001b[32mobject\u001b[39m \u001b[36mFraction\u001b[39m\n",
       "\u001b[36mres7_2\u001b[39m: \u001b[32mwrapper\u001b[39m.\u001b[32mwrapper\u001b[39m.\u001b[32mFraction\u001b[39m = $sess.cmd7Wrapper$Helper$Fraction@2aa1bfb1"
      ]
     },
     "execution_count": 8,
     "metadata": {},
     "output_type": "execute_result"
    }
   ],
   "source": [
    "class Fraction(n:Int,d:Int){}\n",
    "object Fraction{\n",
    "    def apply(n:Int,d:Int) = new Fraction(n,d)\n",
    "}\n",
    "\n",
    "new Fraction(2,3)"
   ]
  },
  {
   "cell_type": "markdown",
   "metadata": {},
   "source": [
    "3. `unapply`方法   \n",
    " 1. unapply是伴生对象中, 对apply方法的逆操作, 负责接收一个对象, 提取一个值     \n",
    " 2. unapply提取的值返回Option类型/ Some类型"
   ]
  },
  {
   "cell_type": "code",
   "execution_count": 13,
   "metadata": {},
   "outputs": [
    {
     "data": {
      "text/plain": [
       "defined \u001b[32mclass\u001b[39m \u001b[36mName\u001b[39m\n",
       "defined \u001b[32mobject\u001b[39m \u001b[36mName\u001b[39m\n",
       "\u001b[36mfirst\u001b[39m: \u001b[32mString\u001b[39m = \u001b[32m\"liu\"\u001b[39m\n",
       "\u001b[36mlast\u001b[39m: \u001b[32mString\u001b[39m = \u001b[32m\"jie\"\u001b[39m"
      ]
     },
     "execution_count": 13,
     "metadata": {},
     "output_type": "execute_result"
    }
   ],
   "source": [
    "class Name( f:String, l:String){\n",
    "    private def getF() = f\n",
    "    private def getL() = l\n",
    "}\n",
    "object Name{\n",
    "    // 提取器\n",
    "    def unapply(obj:Name) = {\n",
    "        Some((obj.getF(),obj.getL()))\n",
    "    }\n",
    "}\n",
    "val Name(first,last) = new Name(\"liu\",\"jie\")"
   ]
  },
  {
   "cell_type": "markdown",
   "metadata": {},
   "source": [
    "4. `unapply方法`, 有时只是测试其输入(例如模式匹配). 此时unapply返回Boolean"
   ]
  },
  {
   "cell_type": "code",
   "execution_count": 15,
   "metadata": {},
   "outputs": [
    {
     "name": "stdout",
     "output_type": "stream",
     "text": [
      "one"
     ]
    },
    {
     "data": {
      "text/plain": [
       "defined \u001b[32mobject\u001b[39m \u001b[36mIsCompound\u001b[39m"
      ]
     },
     "execution_count": 15,
     "metadata": {},
     "output_type": "execute_result"
    }
   ],
   "source": [
    "object IsCompound{\n",
    "    def unapply(input:String) = input.contains(\" \")\n",
    "}\n",
    "new Name(\"liu\",\"jie \") match {\n",
    "    case Name(first,last@IsCompound()) => print(\"one\")\n",
    "    case Name(first,last) => print(\"two\")\n",
    "}"
   ]
  },
  {
   "cell_type": "markdown",
   "metadata": {},
   "source": [
    "5. `unapplySeq`方法, 提取任意个数的值  \n",
    " `unapplySeq`返回`Option[Seq[]]`方法"
   ]
  },
  {
   "cell_type": "code",
   "execution_count": 16,
   "metadata": {},
   "outputs": [
    {
     "name": "stdout",
     "output_type": "stream",
     "text": [
      "aa,oo,ss"
     ]
    },
    {
     "data": {
      "text/plain": [
       "defined \u001b[32mobject\u001b[39m \u001b[36mName\u001b[39m"
      ]
     },
     "execution_count": 16,
     "metadata": {},
     "output_type": "execute_result"
    }
   ],
   "source": [
    "object Name{\n",
    "    def unapplySeq(in:String):Option[Seq[String]] = {\n",
    "        if (in.trim==\"\") None else Some(in.trim.split(\" \"))\n",
    "    }\n",
    "}\n",
    "\"aa oo ss\" match {\n",
    "    case Name(f,l) => print(f+\",\"+l)\n",
    "    case Name(f,m,l) => print(f+\",\"+m+\",\"+l)\n",
    "}"
   ]
  },
  {
   "cell_type": "markdown",
   "metadata": {},
   "source": [
    "### 3.2 高阶函数\n",
    "1. 函数是scala的一等公民, 因此可以讲函数作为变量.  \n",
    "2. java中的函数概念不同于方法, 需要使用`function _`将方法转换为函数"
   ]
  },
  {
   "cell_type": "code",
   "execution_count": 25,
   "metadata": {},
   "outputs": [
    {
     "data": {
      "text/plain": [
       "\u001b[32mimport \u001b[39m\u001b[36mscala.math.ceil\n",
       "// 将方法转换为函数\n",
       "\u001b[39m\n",
       "\u001b[36mfun\u001b[39m: \u001b[32mDouble\u001b[39m => \u001b[32mDouble\u001b[39m = <function1>"
      ]
     },
     "execution_count": 25,
     "metadata": {},
     "output_type": "execute_result"
    }
   ],
   "source": [
    "import scala.math.ceil\n",
    "// 将方法转换为函数\n",
    "val fun = ceil _"
   ]
  },
  {
   "cell_type": "code",
   "execution_count": 26,
   "metadata": {},
   "outputs": [
    {
     "data": {
      "text/plain": [
       "\u001b[36mres25\u001b[39m: \u001b[32mDouble\u001b[39m = \u001b[32m2.0\u001b[39m"
      ]
     },
     "execution_count": 26,
     "metadata": {},
     "output_type": "execute_result"
    }
   ],
   "source": [
    "fun(1.1)"
   ]
  },
  {
   "cell_type": "markdown",
   "metadata": {},
   "source": [
    "3. 可以传递匿名函数"
   ]
  },
  {
   "cell_type": "code",
   "execution_count": 27,
   "metadata": {},
   "outputs": [
    {
     "data": {
      "text/plain": [
       "\u001b[36mres26\u001b[39m: \u001b[32mArray\u001b[39m[\u001b[32mDouble\u001b[39m] = \u001b[33mArray\u001b[39m(\u001b[32m9.0\u001b[39m, \u001b[32m42.0\u001b[39m, \u001b[32m4.26\u001b[39m, \u001b[32m6.0\u001b[39m)"
      ]
     },
     "execution_count": 27,
     "metadata": {},
     "output_type": "execute_result"
    }
   ],
   "source": [
    "Array(3,14,1.42,2.0).map(x=>3*x)"
   ]
  },
  {
   "cell_type": "markdown",
   "metadata": {},
   "source": [
    "4. 函数作为参数"
   ]
  },
  {
   "cell_type": "code",
   "execution_count": 32,
   "metadata": {},
   "outputs": [
    {
     "name": "stdout",
     "output_type": "stream",
     "text": [
      "3.0\n"
     ]
    },
    {
     "data": {
      "text/plain": [
       "\u001b[36mfun\u001b[39m: \u001b[32mDouble\u001b[39m => \u001b[32mDouble\u001b[39m = <function1>\n",
       "defined \u001b[32mfunction\u001b[39m \u001b[36mvalue\u001b[39m"
      ]
     },
     "execution_count": 32,
     "metadata": {},
     "output_type": "execute_result"
    }
   ],
   "source": [
    "val fun = ceil _\n",
    "// 函数作为参数\n",
    "def value(f:(Double) => Double) = f(2.5)\n",
    "println(value(fun))"
   ]
  },
  {
   "cell_type": "markdown",
   "metadata": {},
   "source": [
    "5. 高阶函举例"
   ]
  },
  {
   "cell_type": "code",
   "execution_count": 33,
   "metadata": {},
   "outputs": [
    {
     "name": "stdout",
     "output_type": "stream",
     "text": [
      "*\n",
      "**\n",
      "***\n",
      "****\n",
      "*****\n"
     ]
    }
   ],
   "source": [
    "(1 to 5).map(\"*\" * _).foreach(println)"
   ]
  },
  {
   "cell_type": "code",
   "execution_count": 34,
   "metadata": {},
   "outputs": [
    {
     "data": {
      "text/plain": [
       "\u001b[36mres33\u001b[39m: \u001b[32mcollection\u001b[39m.\u001b[32mimmutable\u001b[39m.\u001b[32mIndexedSeq\u001b[39m[\u001b[32mInt\u001b[39m] = \u001b[33mVector\u001b[39m(\u001b[32m2\u001b[39m, \u001b[32m4\u001b[39m, \u001b[32m6\u001b[39m, \u001b[32m8\u001b[39m, \u001b[32m10\u001b[39m)"
      ]
     },
     "execution_count": 34,
     "metadata": {},
     "output_type": "execute_result"
    }
   ],
   "source": [
    "(1 to 10).filter(_ %2 ==0)"
   ]
  },
  {
   "cell_type": "markdown",
   "metadata": {},
   "source": [
    "6. SAM"
   ]
  },
  {
   "cell_type": "markdown",
   "metadata": {},
   "source": [
    "7. 柯里化"
   ]
  },
  {
   "cell_type": "markdown",
   "metadata": {},
   "source": [
    "8. 控制抽象  \n",
    "有时候, 想把一块代码片段作为函数的参数使用, 此时可以把代码块表示为'不带参数,且返回值为unit类型的匿名函数'作为参数\n"
   ]
  },
  {
   "cell_type": "code",
   "execution_count": 36,
   "metadata": {},
   "outputs": [
    {
     "data": {
      "text/plain": [
       "defined \u001b[32mfunction\u001b[39m \u001b[36mrunThread\u001b[39m"
      ]
     },
     "execution_count": 36,
     "metadata": {},
     "output_type": "execute_result"
    }
   ],
   "source": [
    "def runThread(block: =>Unit) = {\n",
    "    new Thread{\n",
    "        override def run(){\n",
    "            block\n",
    "        }\n",
    "    }.start()\n",
    "}\n",
    "// repel模式下, 代码块运行正常\n",
    "runThread({println(\"hi\");Thread.sleep(1000);println(\"bye\")})"
   ]
  },
  {
   "cell_type": "markdown",
   "metadata": {},
   "source": [
    "9. 使用柯里化和控制抽象, 实现条件转移代码块   \n",
    "\n",
    "以下例子, "
   ]
  },
  {
   "cell_type": "code",
   "execution_count": null,
   "metadata": {},
   "outputs": [],
   "source": [
    "def until"
   ]
  }
 ],
 "metadata": {
  "kernelspec": {
   "display_name": "Scala",
   "language": "scala",
   "name": "scala"
  },
  "language_info": {
   "codemirror_mode": "text/x-scala",
   "file_extension": ".scala",
   "mimetype": "text/x-scala",
   "name": "scala211",
   "nbconvert_exporter": "script",
   "pygments_lexer": "scala",
   "version": "2.11.11"
  }
 },
 "nbformat": 4,
 "nbformat_minor": 2
}
