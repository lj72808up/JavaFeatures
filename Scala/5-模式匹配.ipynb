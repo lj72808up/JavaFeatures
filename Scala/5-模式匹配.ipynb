{
 "cells": [
  {
   "cell_type": "markdown",
   "metadata": {},
   "source": [
    "#### 一. switch用法\n",
    "1. scala通过`match...case`语法, 实现switch语义  \n",
    "2. scala模式匹配不会有意外掉入下一个分支的问题, scala的模式匹配只能匹配到其中一项"
   ]
  },
  {
   "cell_type": "code",
   "execution_count": 1,
   "metadata": {},
   "outputs": [
    {
     "name": "stdout",
     "output_type": "stream",
     "text": [
      "+"
     ]
    },
    {
     "data": {
      "text/plain": [
       "\u001b[36mch\u001b[39m: \u001b[32mString\u001b[39m = \u001b[32m\"+\"\u001b[39m"
      ]
     },
     "execution_count": 1,
     "metadata": {},
     "output_type": "execute_result"
    }
   ],
   "source": [
    "val ch = \"+\"\n",
    "ch match{\n",
    "    case \"+\" => print(\"+\")\n",
    "    case _ => print(\"other\")\n",
    "}"
   ]
  },
  {
   "cell_type": "markdown",
   "metadata": {},
   "source": [
    "3. 带条件语句的case匹配"
   ]
  },
  {
   "cell_type": "code",
   "execution_count": 3,
   "metadata": {},
   "outputs": [
    {
     "name": "stdout",
     "output_type": "stream",
     "text": [
      "digit"
     ]
    },
    {
     "data": {
      "text/plain": [
       "\u001b[36mch\u001b[39m: \u001b[32mChar\u001b[39m = \u001b[32m'9'\u001b[39m"
      ]
     },
     "execution_count": 3,
     "metadata": {},
     "output_type": "execute_result"
    }
   ],
   "source": [
    "val ch = '9'\n",
    "ch match{\n",
    "    case '+' => print(\"+\")\n",
    "    case _ if Character.isDigit(ch) => print(\"digit\")\n",
    "    case _ =>\n",
    "}"
   ]
  },
  {
   "cell_type": "markdown",
   "metadata": {},
   "source": [
    "4. 如果case后面跟变量名, 则匹配的表达式会赋值给这个变量"
   ]
  },
  {
   "cell_type": "code",
   "execution_count": 4,
   "metadata": {},
   "outputs": [
    {
     "name": "stdout",
     "output_type": "stream",
     "text": [
      "digit"
     ]
    },
    {
     "data": {
      "text/plain": [
       "\u001b[36mstr\u001b[39m: \u001b[32mString\u001b[39m = \u001b[32m\"asd9asd\"\u001b[39m"
      ]
     },
     "execution_count": 4,
     "metadata": {},
     "output_type": "execute_result"
    }
   ],
   "source": [
    "val str = \"asd9asd\"\n",
    "str(3) match{\n",
    "    case '+' => print(\"+\")\n",
    "    case chi if Character.isDigit(chi) => print(\"digit\")\n",
    "    case _ =>\n",
    "}"
   ]
  },
  {
   "cell_type": "markdown",
   "metadata": {},
   "source": [
    "5. 类型匹配  \n",
    " 我们更倾向于使用match..case语法对变量进行类型匹配, 而不是使用`isInstanceOf`"
   ]
  },
  {
   "cell_type": "code",
   "execution_count": 5,
   "metadata": {},
   "outputs": [
    {
     "name": "stdout",
     "output_type": "stream",
     "text": [
      "a"
     ]
    },
    {
     "data": {
      "text/plain": [
       "\u001b[36mobj\u001b[39m: \u001b[32mAny\u001b[39m = asd"
      ]
     },
     "execution_count": 5,
     "metadata": {},
     "output_type": "execute_result"
    }
   ],
   "source": [
    "val obj:Any = \"asd\"\n",
    "obj match {\n",
    "    case x: Int => print(x)\n",
    "    case s: String => print(s(0))\n",
    "    case _ =>\n",
    "}"
   ]
  },
  {
   "cell_type": "markdown",
   "metadata": {},
   "source": [
    "6. 匹配数组, 元组, 列表"
   ]
  },
  {
   "cell_type": "code",
   "execution_count": 7,
   "metadata": {},
   "outputs": [
    {
     "name": "stdout",
     "output_type": "stream",
     "text": [
      "start with 0"
     ]
    },
    {
     "data": {
      "text/plain": [
       "\u001b[36marr\u001b[39m: \u001b[32mArray\u001b[39m[\u001b[32mInt\u001b[39m] = \u001b[33mArray\u001b[39m(\u001b[32m0\u001b[39m, \u001b[32m1\u001b[39m, \u001b[32m2\u001b[39m, \u001b[32m3\u001b[39m)"
      ]
     },
     "execution_count": 7,
     "metadata": {},
     "output_type": "execute_result"
    }
   ],
   "source": [
    "// 数组匹配\n",
    "val arr = Array(0,1,2,3)\n",
    "arr match {\n",
    "    case Array(0) => print(0)\n",
    "    case Array(0,_*) => print(\"start with 0\")\n",
    "}"
   ]
  },
  {
   "cell_type": "code",
   "execution_count": 9,
   "metadata": {},
   "outputs": [
    {
     "name": "stdout",
     "output_type": "stream",
     "text": [
      "2 elem in list"
     ]
    },
    {
     "data": {
      "text/plain": [
       "\u001b[36mlst\u001b[39m: \u001b[32mList\u001b[39m[\u001b[32mInt\u001b[39m] = \u001b[33mList\u001b[39m(\u001b[32m3\u001b[39m, \u001b[32m9\u001b[39m)"
      ]
     },
     "execution_count": 9,
     "metadata": {},
     "output_type": "execute_result"
    }
   ],
   "source": [
    "// 列表匹配\n",
    "val lst = List(3,9)\n",
    "lst match {\n",
    "    case 0 :: Nil => print(\"0\")\n",
    "    case x::y::Nil => print(\"2 elem in list\")\n",
    "}"
   ]
  },
  {
   "cell_type": "code",
   "execution_count": 9,
   "metadata": {},
   "outputs": [],
   "source": [
    "// 元组匹配"
   ]
  },
  {
   "cell_type": "code",
   "execution_count": 11,
   "metadata": {},
   "outputs": [
    {
     "name": "stdout",
     "output_type": "stream",
     "text": [
      "(1,2)"
     ]
    },
    {
     "data": {
      "text/plain": [
       "\u001b[36mtupl\u001b[39m: (\u001b[32mInt\u001b[39m, \u001b[32mInt\u001b[39m) = (\u001b[32m1\u001b[39m, \u001b[32m2\u001b[39m)\n",
       "\u001b[36mres10_1\u001b[39m: \u001b[32mAny\u001b[39m = ()"
      ]
     },
     "execution_count": 11,
     "metadata": {},
     "output_type": "execute_result"
    }
   ],
   "source": [
    "val tupl = (1,2)\n",
    "tupl match {\n",
    "    case (0,_) => \"(0,_)\"\n",
    "    case (y,2) => print(\"(\"+y+\",2)\")\n",
    "}"
   ]
  },
  {
   "cell_type": "markdown",
   "metadata": {},
   "source": [
    "7. 模式匹配利用了类的提取器, 即`unapply`与`unapplySeq`方法. 前者用于提取固定个数的对象,后者用于提取一个序列  \n",
    "例如: Array对象的`unapplySeq`方法  \n",
    "```scala\n",
    "def unapplySeq[T](x: Array[T]): Option[IndexedSeq[T]] = {\n",
    "    if (x == null) None else Some(x.toIndexedSeq)\n",
    "    // !!! the null check should to be necessary, but without it 2241 fails. Seems to be a bug\n",
    "    // in pattern matcher.  @PP: I noted in #4364 I think the behavior is correct.\n",
    "}\n",
    "```"
   ]
  },
  {
   "cell_type": "markdown",
   "metadata": {},
   "source": [
    "#### 二. case class\n",
    "1. case class有如下特点:  \n",
    "  1. case class的每个参数都自动声明为val的\n",
    "  2. case class自动生成`apply`和`unapply`方法, 因此可以不带new的生成对象, 并可以用于模式匹配  \n",
    "  3. 自动生成toString,equals,copy,hashCode方法\n",
    "2. case class的`copy`方法  \n",
    " `copy`方法用于创建一个与现有值相同的新对象, 可以通过传参修改复制对象的属性值"
   ]
  },
  {
   "cell_type": "code",
   "execution_count": 13,
   "metadata": {},
   "outputs": [
    {
     "name": "stdout",
     "output_type": "stream",
     "text": [
      "Currency(29.95,EUR)\n",
      "Currency(29.95,rmb)\n"
     ]
    },
    {
     "data": {
      "text/plain": [
       "defined \u001b[32mclass\u001b[39m \u001b[36mCurrency\u001b[39m\n",
       "\u001b[36mamt\u001b[39m: \u001b[32mwrapper\u001b[39m.\u001b[32mwrapper\u001b[39m.\u001b[32mCurrency\u001b[39m = \u001b[33mCurrency\u001b[39m(\u001b[32m29.95\u001b[39m, \u001b[32m\"EUR\"\u001b[39m)\n",
       "\u001b[36mprice\u001b[39m: \u001b[32mwrapper\u001b[39m.\u001b[32mwrapper\u001b[39m.\u001b[32mCurrency\u001b[39m = \u001b[33mCurrency\u001b[39m(\u001b[32m29.95\u001b[39m, \u001b[32m\"rmb\"\u001b[39m)"
      ]
     },
     "execution_count": 13,
     "metadata": {},
     "output_type": "execute_result"
    }
   ],
   "source": [
    "case class Currency(value:Double,unit:String)\n",
    "val amt = Currency(29.95,\"EUR\")\n",
    "val price = amt.copy(unit=\"rmb\")\n",
    "println(amt)  // 自动生成toString\n",
    "println(price)"
   ]
  },
  {
   "cell_type": "markdown",
   "metadata": {},
   "source": [
    "3. case class用在模式匹配时, 可使用中置表达式表示"
   ]
  },
  {
   "cell_type": "code",
   "execution_count": 14,
   "metadata": {},
   "outputs": [],
   "source": [
    "amt match {\n",
    "    case v Currency u =>  // 相当于case Currency(v,u)\n",
    "}"
   ]
  },
  {
   "cell_type": "markdown",
   "metadata": {},
   "source": [
    "case class的中置表达式更多用于匹配序列  \n",
    "如scala中的`::`符号就是一个case class, 有如下定义\n",
    "```scala\n",
    "final case class ::[B](override val head: B, private[scala] var tl: List[B]) extends List[B] {\n",
    "  override def tail : List[B] = tl\n",
    "  override def isEmpty: Boolean = false\n",
    "}\n",
    "```"
   ]
  },
  {
   "cell_type": "code",
   "execution_count": 16,
   "metadata": {},
   "outputs": [
    {
     "name": "stdout",
     "output_type": "stream",
     "text": [
      "3 elems"
     ]
    },
    {
     "data": {
      "text/plain": [
       "\u001b[36mlist\u001b[39m: \u001b[32mList\u001b[39m[\u001b[32mInt\u001b[39m] = \u001b[33mList\u001b[39m(\u001b[32m1\u001b[39m, \u001b[32m2\u001b[39m, \u001b[32m3\u001b[39m)"
      ]
     },
     "execution_count": 16,
     "metadata": {},
     "output_type": "execute_result"
    }
   ],
   "source": [
    "val list = List(1,2,3)\n",
    "list match {\n",
    "    case x::y::z => print(\"3 elems\")  // 相当于::(x,::(y,z))\n",
    "}"
   ]
  },
  {
   "cell_type": "markdown",
   "metadata": {},
   "source": [
    "4. 匹配嵌套结构\n",
    "  1. case class的unapply方法, 可以自动析构出为对象的参数  \n",
    "  2. 使用@在模式匹配中, 标识析构出的对象参数"
   ]
  },
  {
   "cell_type": "code",
   "execution_count": 21,
   "metadata": {},
   "outputs": [
    {
     "name": "stdout",
     "output_type": "stream",
     "text": [
      "29.8\n"
     ]
    },
    {
     "data": {
      "text/plain": [
       "defined \u001b[32mclass\u001b[39m \u001b[36mArticle\u001b[39m\n",
       "defined \u001b[32mclass\u001b[39m \u001b[36mBundle\u001b[39m\n",
       "\u001b[36mb\u001b[39m: \u001b[32mwrapper\u001b[39m.\u001b[32mwrapper\u001b[39m.\u001b[32mBundle\u001b[39m = Bundle(itm1,Article(红楼梦,29.8))"
      ]
     },
     "execution_count": 21,
     "metadata": {},
     "output_type": "execute_result"
    }
   ],
   "source": [
    "case class Article(desc:String,price:Double)\n",
    "case class Bundle(desc:String,art:Article)\n",
    "val b = Bundle(\"itm1\",Article(\"红楼梦\",29.8))\n",
    "b match {\n",
    "    case Bundle(_,art@Article(_,_)) => println(art.price)\n",
    "}"
   ]
  },
  {
   "cell_type": "markdown",
   "metadata": {},
   "source": [
    "5. sealed密封类 \n",
    "  1. 若一个雷被声明称sealed的, 则其子类必须全部在该类所在的文件中  \n",
    "  2. 任何写在其他文件中的子类都会编译失败  "
   ]
  },
  {
   "cell_type": "code",
   "execution_count": 25,
   "metadata": {},
   "outputs": [
    {
     "data": {
      "text/plain": [
       "defined \u001b[32mclass\u001b[39m \u001b[36mAmount\u001b[39m\n",
       "defined \u001b[32mclass\u001b[39m \u001b[36mDollar\u001b[39m\n",
       "defined \u001b[32mclass\u001b[39m \u001b[36mCurrency\u001b[39m"
      ]
     },
     "execution_count": 25,
     "metadata": {},
     "output_type": "execute_result"
    }
   ],
   "source": [
    "sealed class Amount  // 标识Amount的子类全在该文件中, 可用于列出所有子case class\n",
    "case class Dollar(value:Double) extends Amount\n",
    "case class Currency(value:Double) extends Amount"
   ]
  },
  {
   "cell_type": "markdown",
   "metadata": {},
   "source": [
    "#### 三. PartialFunction\n",
    "1. 一组case语句构成一个偏函数, 即并非对所有输入值都有定义的函数  \n",
    "2. 所有偏函数都是`PartialFuntion[A,B]`类的实例  \n",
    "  1. 'A': 参数类型  \n",
    "  2. 'B': 返回值类型  "
   ]
  },
  {
   "cell_type": "code",
   "execution_count": 28,
   "metadata": {},
   "outputs": [
    {
     "name": "stdout",
     "output_type": "stream",
     "text": [
      "1\n",
      "0\n"
     ]
    },
    {
     "ename": "",
     "evalue": "",
     "output_type": "error",
     "traceback": [
      "\u001b[31mscala.MatchError: * (of class java.lang.Character)\u001b[39m",
      "  scala.PartialFunction$$anon$1.apply(\u001b[32mPartialFunction.scala\u001b[39m:\u001b[32m253\u001b[39m)",
      "  scala.PartialFunction$$anon$1.apply(\u001b[32mPartialFunction.scala\u001b[39m:\u001b[32m251\u001b[39m)",
      "  $sess.cmd27Wrapper$Helper$$anonfun$1.applyOrElse(\u001b[32mcmd27.sc\u001b[39m:\u001b[32m1\u001b[39m)",
      "  $sess.cmd27Wrapper$Helper$$anonfun$1.applyOrElse(\u001b[32mcmd27.sc\u001b[39m:\u001b[32m1\u001b[39m)",
      "  scala.runtime.AbstractPartialFunction.apply(\u001b[32mAbstractPartialFunction.scala\u001b[39m:\u001b[32m36\u001b[39m)",
      "  $sess.cmd27Wrapper$Helper.<init>(\u001b[32mcmd27.sc\u001b[39m:\u001b[32m8\u001b[39m)",
      "  $sess.cmd27Wrapper.<init>(\u001b[32mcmd27.sc\u001b[39m:\u001b[32m281\u001b[39m)",
      "  $sess.cmd27$.<init>(\u001b[32mcmd27.sc\u001b[39m:\u001b[32m157\u001b[39m)",
      "  $sess.cmd27$.<clinit>(\u001b[32mcmd27.sc\u001b[39m:\u001b[32m-1\u001b[39m)"
     ]
    }
   ],
   "source": [
    "val f:PartialFunction[Char,Int] = {\n",
    "    case '+' => 1\n",
    "    case '-' => 0\n",
    "    //case _ => 99\n",
    "}\n",
    "println(f('+'))\n",
    "println(f('-'))\n",
    "println(f('*'))  // 未在偏函数中定义, 抛出异常"
   ]
  }
 ],
 "metadata": {
  "kernelspec": {
   "display_name": "Scala",
   "language": "scala",
   "name": "scala"
  },
  "language_info": {
   "codemirror_mode": "text/x-scala",
   "file_extension": ".scala",
   "mimetype": "text/x-scala",
   "name": "scala211",
   "nbconvert_exporter": "script",
   "pygments_lexer": "scala",
   "version": "2.11.11"
  }
 },
 "nbformat": 4,
 "nbformat_minor": 2
}
