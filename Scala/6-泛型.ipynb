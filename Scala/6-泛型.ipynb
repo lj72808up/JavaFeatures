{
 "cells": [
  {
   "cell_type": "markdown",
   "metadata": {},
   "source": [
    "#### 1. scala使用中括号表示泛型  \n",
    "#### 2. scala函数也可以指定泛型  \n",
    "#### 3. 可以指定泛型T的上界, 表示T是某个类的子类\n",
    "1. 使用符号`<:`  \n",
    "2. 如下例子, scala的String类实现了Comparable接口, 因此泛型T可以调用`compareTo`接口  \n",
    " 但调用`new Pair(2,1)`就会失败, 因为scala的Int没有实现`Comparable`接口. 解决办法在第5点"
   ]
  },
  {
   "cell_type": "code",
   "execution_count": 9,
   "metadata": {},
   "outputs": [
    {
     "data": {
      "text/plain": [
       "defined \u001b[32mclass\u001b[39m \u001b[36mPair\u001b[39m\n",
       "\u001b[36mres8_1\u001b[39m: \u001b[32mString\u001b[39m = \u001b[32m\"1\"\u001b[39m"
      ]
     },
     "execution_count": 9,
     "metadata": {},
     "output_type": "execute_result"
    }
   ],
   "source": [
    "class Pair[T <: Comparable[T]](first:T,second:T){\n",
    "    def smaller = {\n",
    "        if (first.compareTo(second) <0 ) first else second\n",
    "    }\n",
    "}\n",
    "new Pair(\"2\",\"1\").smaller"
   ]
  },
  {
   "cell_type": "markdown",
   "metadata": {},
   "source": [
    "#### 4. 指定泛型下界, 表示泛型是下界类型的父类\n",
    "使用符号`>:`"
   ]
  },
  {
   "cell_type": "code",
   "execution_count": 4,
   "metadata": {},
   "outputs": [
    {
     "data": {
      "text/plain": [
       "defined \u001b[32mclass\u001b[39m \u001b[36mPair\u001b[39m"
      ]
     },
     "execution_count": 4,
     "metadata": {},
     "output_type": "execute_result"
    }
   ],
   "source": [
    "class Pair[T](first:T,second:T){\n",
    "    //使用T的父类型替换第一个参数\n",
    "    def replaceFirst[R>:T](newFirst:R) = new Pair[R](newFirst,second)\n",
    "}"
   ]
  },
  {
   "cell_type": "markdown",
   "metadata": {},
   "source": [
    "#### 5. 视图界定\n",
    "1. 如第3点所示, scala的Int没有实现`Comparable`接口, 但scala的RichInt实现了`Comparable`接口, 且scala包含Int到RichInt的隐式转换.  \n",
    "2. scala的视图界定, 符号`<%`, 意味泛型T可以通过某种隐式转换后, 变成其上界的子类"
   ]
  },
  {
   "cell_type": "code",
   "execution_count": 10,
   "metadata": {},
   "outputs": [
    {
     "name": "stdout",
     "output_type": "stream",
     "text": [
      "1"
     ]
    },
    {
     "data": {
      "text/plain": [
       "defined \u001b[32mclass\u001b[39m \u001b[36mPair\u001b[39m"
      ]
     },
     "execution_count": 10,
     "metadata": {},
     "output_type": "execute_result"
    }
   ],
   "source": [
    "class Pair[T <% Comparable[T]](first:T,second:T){\n",
    "    def smaller = {\n",
    "        if (first.compareTo(second) <0 ) first else second\n",
    "    }\n",
    "}\n",
    "print(new Pair(2,1).smaller)"
   ]
  },
  {
   "cell_type": "markdown",
   "metadata": {},
   "source": [
    "#### 6. 上下文界定\n",
    "1. 泛型`T:M`, 表示上下文中存在一个类型为`M[T]`的隐式值.  \n",
    "2. 当需要使用这个隐式值时, 通过方法的隐士参数调用这个隐式值"
   ]
  },
  {
   "cell_type": "code",
   "execution_count": 8,
   "metadata": {},
   "outputs": [
    {
     "name": "stdout",
     "output_type": "stream",
     "text": [
      "1"
     ]
    },
    {
     "data": {
      "text/plain": [
       "defined \u001b[32mclass\u001b[39m \u001b[36mPair\u001b[39m"
      ]
     },
     "execution_count": 8,
     "metadata": {},
     "output_type": "execute_result"
    }
   ],
   "source": [
    "class Pair[T:Ordering](first:T,second:T){\n",
    "    def smaller(implicit ord:Ordering[T]) = {\n",
    "        if(ord.compare(first,second)<0) first else second\n",
    "    }\n",
    "}\n",
    "print(new Pair(\"2\",\"1\").smaller)"
   ]
  },
  {
   "cell_type": "markdown",
   "metadata": {},
   "source": [
    "#### 7. Manifest记录数组型泛型\n",
    "1. 因为scala的泛型信息在编译时会被擦除,所以当我们想要构造泛型数组时,类型Array[T]在运行时并不知道T是什么.  \n",
    " 因此应使用Menifest类保存泛型信息,并将这个信息创建成隐士变量.而scala编译器, 会自动为如下2种Manifest类型创建隐士变量:  \n",
    "   1. 利用上下文界定,告知编译器创建存储泛型信息的隐士变量: `[T:Manifest]`  \n",
    "   2. 利用函数的隐士参数, 告知编译器创建存储泛型信息的隐士变量: `(implicit m:Manifest[T])`, 变量名m可变"
   ]
  },
  {
   "cell_type": "code",
   "execution_count": 14,
   "metadata": {},
   "outputs": [
    {
     "name": "stdout",
     "output_type": "stream",
     "text": [
      "1,2,"
     ]
    },
    {
     "data": {
      "text/plain": [
       "defined \u001b[32mclass\u001b[39m \u001b[36mPair\u001b[39m\n",
       "\u001b[36marr\u001b[39m: \u001b[32mArray\u001b[39m[\u001b[32mInt\u001b[39m] = \u001b[33mArray\u001b[39m(\u001b[32m1\u001b[39m, \u001b[32m2\u001b[39m)"
      ]
     },
     "execution_count": 14,
     "metadata": {},
     "output_type": "execute_result"
    }
   ],
   "source": [
    "class Pair[T:Manifest](first:T,second:T){\n",
    "    def makePair() = {\n",
    "        val r = new Array[T](2)\n",
    "        r(0) = first\n",
    "        r(1) = second\n",
    "        r\n",
    "    }\n",
    "}\n",
    "val arr = new Pair(1,2).makePair\n",
    "arr.foreach(x=>print(x+\",\"))"
   ]
  },
  {
   "cell_type": "markdown",
   "metadata": {},
   "source": [
    "2. 作为隐士参数的Menifest举例"
   ]
  },
  {
   "cell_type": "code",
   "execution_count": 15,
   "metadata": {},
   "outputs": [
    {
     "data": {
      "text/plain": [
       "defined \u001b[32mfunction\u001b[39m \u001b[36marr\u001b[39m\n",
       "defined \u001b[32mfunction\u001b[39m \u001b[36marr2\u001b[39m"
      ]
     },
     "execution_count": 15,
     "metadata": {},
     "output_type": "execute_result"
    }
   ],
   "source": [
    "// def arr[T] = new Array[T](0)                          // does not compile, 运行时不知道T是什么\n",
    "def arr[T](implicit m: Manifest[T]) = new Array[T](0) // compiles\n",
    "def arr2[T: Manifest] = new Array[T](0)                // shorthand for the preceding"
   ]
  },
  {
   "cell_type": "markdown",
   "metadata": {},
   "source": [
    "3. Manifest的问题  \n",
    " Manifest是scala2.8推出的, 它虽然能保存泛型信息,  但当泛型是scala的内部类时, 却无法区分不同对象的内部类, 如下例子."
   ]
  },
  {
   "cell_type": "code",
   "execution_count": 8,
   "metadata": {},
   "outputs": [
    {
     "name": "stdout",
     "output_type": "stream",
     "text": [
      "true\n"
     ]
    },
    {
     "data": {
      "text/plain": [
       "defined \u001b[32mclass\u001b[39m \u001b[36mOuter\u001b[39m\n",
       "\u001b[36mout1\u001b[39m: \u001b[32mwrapper\u001b[39m.\u001b[32mwrapper\u001b[39m.\u001b[32mOuter\u001b[39m = $sess.cmd7Wrapper$Helper$Outer@27ccbd7b\n",
       "\u001b[36minner1\u001b[39m: \u001b[32mwrapper\u001b[39m.\u001b[32mwrapper\u001b[39m.\u001b[32mout1\u001b[39m.\u001b[32mInner\u001b[39m = $sess.cmd7Wrapper$Helper$Outer$Inner@33f74ef5\n",
       "\u001b[36mout2\u001b[39m: \u001b[32mwrapper\u001b[39m.\u001b[32mwrapper\u001b[39m.\u001b[32mOuter\u001b[39m = $sess.cmd7Wrapper$Helper$Outer@6e1e184d\n",
       "\u001b[36minner2\u001b[39m: \u001b[32mwrapper\u001b[39m.\u001b[32mwrapper\u001b[39m.\u001b[32mout2\u001b[39m.\u001b[32mInner\u001b[39m = $sess.cmd7Wrapper$Helper$Outer$Inner@1f10e3db\n",
       "defined \u001b[32mfunction\u001b[39m \u001b[36mgetEnv\u001b[39m"
      ]
     },
     "execution_count": 8,
     "metadata": {},
     "output_type": "execute_result"
    }
   ],
   "source": [
    "class Outer{\n",
    "    class Inner{}\n",
    "}\n",
    "\n",
    "val out1 = new Outer\n",
    "val inner1 = new out1.Inner()  // 内部类实例\n",
    "val out2 = new Outer\n",
    "val inner2 = new out2.Inner()  // 内部类实例\n",
    "\n",
    "// 柯里化后, 第二个才能使用第一个参数\n",
    "def getEnv(out:Outer)(inner:out.Inner)(implicit en:Manifest[out.Inner]) = en\n",
    "\n",
    "// 返回True, 这个是错误的, 因为scala的内部类从属于对象, 因此out1.Inner不等于out2.Inner, 应返回False\n",
    "println(getEnv(out1)(inner1) == getEnv(out2)(inner2))"
   ]
  },
  {
   "cell_type": "markdown",
   "metadata": {},
   "source": [
    "4. TypeTag  \n",
    "  为解决内部类路径问题, scala2.10推出TypeTag来修正Manifest的问题."
   ]
  },
  {
   "cell_type": "code",
   "execution_count": 9,
   "metadata": {},
   "outputs": [
    {
     "name": "stdout",
     "output_type": "stream",
     "text": [
      "false\n"
     ]
    },
    {
     "data": {
      "text/plain": [
       "\u001b[32mimport \u001b[39m\u001b[36mscala.reflect.runtime.universe._\n",
       "\u001b[39m\n",
       "defined \u001b[32mclass\u001b[39m \u001b[36mOuter\u001b[39m\n",
       "\u001b[36mout1\u001b[39m: \u001b[32mwrapper\u001b[39m.\u001b[32mwrapper\u001b[39m.\u001b[32mOuter\u001b[39m = $sess.cmd8Wrapper$Helper$Outer@48ed934e\n",
       "\u001b[36minner1\u001b[39m: \u001b[32mwrapper\u001b[39m.\u001b[32mwrapper\u001b[39m.\u001b[32mout1\u001b[39m.\u001b[32mInner\u001b[39m = $sess.cmd8Wrapper$Helper$Outer$Inner@74900dcd\n",
       "\u001b[36mout2\u001b[39m: \u001b[32mwrapper\u001b[39m.\u001b[32mwrapper\u001b[39m.\u001b[32mOuter\u001b[39m = $sess.cmd8Wrapper$Helper$Outer@34dc05f7\n",
       "\u001b[36minner2\u001b[39m: \u001b[32mwrapper\u001b[39m.\u001b[32mwrapper\u001b[39m.\u001b[32mout2\u001b[39m.\u001b[32mInner\u001b[39m = $sess.cmd8Wrapper$Helper$Outer$Inner@49a388e9\n",
       "defined \u001b[32mfunction\u001b[39m \u001b[36mgetEnv\u001b[39m"
      ]
     },
     "execution_count": 9,
     "metadata": {},
     "output_type": "execute_result"
    }
   ],
   "source": [
    "import scala.reflect.runtime.universe._\n",
    "class Outer{\n",
    "    class Inner{}\n",
    "}\n",
    "\n",
    "val out1 = new Outer\n",
    "val inner1 = new out1.Inner()  // 内部类实例\n",
    "val out2 = new Outer\n",
    "val inner2 = new out2.Inner()  // 内部类实例\n",
    "\n",
    "// 柯里化后, 第二个才能使用第一个参数\n",
    "def getEnv(out:Outer)(inner:out.Inner)(implicit en:TypeTag[out.Inner]) = en\n",
    "\n",
    "// 返回False,表明问题已修正\n",
    "println(getEnv(out1)(inner1) == getEnv(out2)(inner2))"
   ]
  },
  {
   "cell_type": "markdown",
   "metadata": {},
   "source": [
    "5. ClassTag  \n",
    "  1. TypeTag可以保存任意深度嵌套的泛型信息, 如List[Set[String]], 而ClassTag只能保存到List[String]  \n",
    "  2. 通常ClassTag已可以解决泛型擦除问题, 而且不存在内部类异常问题  \n",
    "  3. ClassTag与TypeTag是同时推出的"
   ]
  },
  {
   "cell_type": "markdown",
   "metadata": {},
   "source": [
    "#### 8. 多重界定\n",
    "如下`T<: Int: Manifest`表示: T是Int的子类, 且存在Menifest[T]的隐式值记录泛型"
   ]
  },
  {
   "cell_type": "code",
   "execution_count": 22,
   "metadata": {},
   "outputs": [
    {
     "data": {
      "text/plain": [
       "defined \u001b[32mfunction\u001b[39m \u001b[36marr2\u001b[39m"
      ]
     },
     "execution_count": 22,
     "metadata": {},
     "output_type": "execute_result"
    }
   ],
   "source": [
    "def arr2[T<: Int: Manifest]() = new Array[T](1)  "
   ]
  },
  {
   "cell_type": "code",
   "execution_count": 23,
   "metadata": {},
   "outputs": [
    {
     "name": "stdout",
     "output_type": "stream",
     "text": [
      "1"
     ]
    },
    {
     "data": {
      "text/plain": [
       "\u001b[36ma\u001b[39m: \u001b[32mArray\u001b[39m[\u001b[32mInt\u001b[39m] = \u001b[33mArray\u001b[39m(\u001b[32m1\u001b[39m)"
      ]
     },
     "execution_count": 23,
     "metadata": {},
     "output_type": "execute_result"
    }
   ],
   "source": [
    "val a = arr2[Int]\n",
    "a(0) = 1\n",
    "a.foreach(print)"
   ]
  },
  {
   "cell_type": "markdown",
   "metadata": {},
   "source": [
    "#### 9. 泛型测试\n",
    "1. 符号`<:<`,`>:>`,`<%<`  \n",
    "2. 使用场景:  \n",
    "  有时类上的泛型是宽泛的, 但类中的某些方法又要求该泛型满足某些条件才能执行, 这是就可以在方法上定义泛型测试"
   ]
  },
  {
   "cell_type": "code",
   "execution_count": 29,
   "metadata": {},
   "outputs": [
    {
     "data": {
      "text/plain": [
       "defined \u001b[32mclass\u001b[39m \u001b[36mPair\u001b[39m"
      ]
     },
     "execution_count": 29,
     "metadata": {},
     "output_type": "execute_result"
    }
   ],
   "source": [
    "class Pair[T](first:T,second:T){\n",
    "    def smaller(implicit ev: T<:<Ordered[T]) = {\n",
    "        if(first<second) first else second\n",
    "    }\n",
    "}\n",
    "\n",
    "// 如上定义,虽然可以实例化对象类型为Pair[File],但该对象在调用smaller时会报错, 因为FIle无法通过类型测试"
   ]
  },
  {
   "cell_type": "markdown",
   "metadata": {},
   "source": [
    "3. 另一个应用场景:  \n",
    " 泛型测试的另一个应用场景是: 有时方法有2个泛型, 而一个泛型又是.另一个泛型的泛型, 此时比哪一期无法同时推断出这2个泛型的关系.  \n",
    " 此时的解决办法是, 通过柯里化, 分步推断出这2个泛型"
   ]
  },
  {
   "cell_type": "code",
   "execution_count": 30,
   "metadata": {},
   "outputs": [
    {
     "name": "stderr",
     "output_type": "stream",
     "text": [
      "cmd30.sc:3: inferred type arguments [Nothing,List[Int]] do not conform to method firstLast's type parameter bounds [A,C <: Iterable[A]]\n",
      "val res30_1 = firstLast(List(1,2,3))\n",
      "              ^cmd30.sc:3: type mismatch;\n",
      " found   : List[Int]\n",
      " required: C\n",
      "val res30_1 = firstLast(List(1,2,3))\n",
      "                            ^"
     ]
    },
    {
     "ename": "",
     "evalue": "",
     "output_type": "error",
     "traceback": [
      "Compilation Failed"
     ]
    }
   ],
   "source": [
    "// 该定义泛型A是C的泛型, 参数it只依赖泛型C, 因此编译器无法推断出泛型A, 接下来的调用会报错\n",
    "def firstLast[A,C<:Iterable[A]](it:C) = (it.head,it.last)\n",
    "// 报错:推断出的类型[Nothing,List[Int]],不满足泛型绑定[A,C <: Iterable[A]]\n",
    "firstLast(List(1,2,3))"
   ]
  },
  {
   "cell_type": "code",
   "execution_count": 33,
   "metadata": {},
   "outputs": [
    {
     "data": {
      "text/plain": [
       "defined \u001b[32mfunction\u001b[39m \u001b[36mfirstLast\u001b[39m\n",
       "\u001b[36mres32_1\u001b[39m: (\u001b[32mInt\u001b[39m, \u001b[32mInt\u001b[39m) = (\u001b[32m1\u001b[39m, \u001b[32m3\u001b[39m)"
      ]
     },
     "execution_count": 33,
     "metadata": {},
     "output_type": "execute_result"
    }
   ],
   "source": [
    "// 柯里化解决方法\n",
    "def firstLast[A,C](it:C)(implicit ev: C<:<Iterable[A]) = (it.head,it.last)\n",
    "// 编译器先推断出泛型C,在推断出泛型A\n",
    "firstLast(List(1,2,3))"
   ]
  },
  {
   "cell_type": "markdown",
   "metadata": {},
   "source": [
    "#### 10. 泛型协变\n",
    "如下声明: `Pair[+T]`, 表示若Student类是People类的子类, 则Pair[Student]是Pair[People]的子类"
   ]
  },
  {
   "cell_type": "code",
   "execution_count": 36,
   "metadata": {},
   "outputs": [
    {
     "name": "stdout",
     "output_type": "stream",
     "text": [
      "true\n",
      "true\n"
     ]
    },
    {
     "data": {
      "text/plain": [
       "defined \u001b[32mclass\u001b[39m \u001b[36mPeople\u001b[39m\n",
       "defined \u001b[32mclass\u001b[39m \u001b[36mStudent\u001b[39m\n",
       "defined \u001b[32mclass\u001b[39m \u001b[36mPair\u001b[39m\n",
       "\u001b[36ms\u001b[39m: \u001b[32mwrapper\u001b[39m.\u001b[32mwrapper\u001b[39m.\u001b[32mStudent\u001b[39m = $sess.cmd35Wrapper$Helper$Student@5eb4ba2c\n",
       "\u001b[36mpair\u001b[39m: \u001b[32mwrapper\u001b[39m.\u001b[32mwrapper\u001b[39m.\u001b[32mPair\u001b[39m[\u001b[32mwrapper\u001b[39m.\u001b[32mwrapper\u001b[39m.\u001b[32mStudent\u001b[39m] = $sess.cmd35Wrapper$Helper$Pair@2556e4cd"
      ]
     },
     "execution_count": 36,
     "metadata": {},
     "output_type": "execute_result"
    }
   ],
   "source": [
    "class People{}\n",
    "class Student extends People{}\n",
    "class Pair[+T]{}\n",
    "\n",
    "val s = new Student()\n",
    "println(s.isInstanceOf[People])\n",
    "\n",
    "val pair = new Pair[Student]\n",
    "println(pair.isInstanceOf[Pair[People]]) //证明Pair[Student]是Pair[People]的子类"
   ]
  }
 ],
 "metadata": {
  "kernelspec": {
   "display_name": "Apache Toree - Scala",
   "language": "scala",
   "name": "apache_toree_scala"
  },
  "language_info": {
   "codemirror_mode": "text/x-scala",
   "file_extension": ".scala",
   "mimetype": "text/x-scala",
   "name": "scala",
   "pygments_lexer": "scala",
   "version": "2.11.12"
  }
 },
 "nbformat": 4,
 "nbformat_minor": 2
}
