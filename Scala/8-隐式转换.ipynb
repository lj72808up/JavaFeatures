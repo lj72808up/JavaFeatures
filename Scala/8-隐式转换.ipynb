{
 "cells": [
  {
   "cell_type": "markdown",
   "metadata": {},
   "source": [
    "#### 一. 隐式转换函数\n",
    "1. 隐式转换函数:  \n",
    "   1. 指用`implicit`声明的函数, 且该函数只有一个参数  \n",
    "   2. 隐式转换函数把变量从一种转换为另一种类型, 并在需要的地方自动执行(后面介绍什么是需要的地方)"
   ]
  },
  {
   "cell_type": "code",
   "execution_count": 1,
   "metadata": {},
   "outputs": [
    {
     "data": {
      "text/plain": [
       "\u001b[32mimport \u001b[39m\u001b[36mjava.io.File\n",
       "\u001b[39m\n",
       "defined \u001b[32mfunction\u001b[39m \u001b[36mstring2File\u001b[39m"
      ]
     },
     "execution_count": 1,
     "metadata": {},
     "output_type": "execute_result"
    }
   ],
   "source": [
    "import java.io.File\n",
    "implicit def string2File(src:String):File = new File(src)"
   ]
  },
  {
   "cell_type": "markdown",
   "metadata": {},
   "source": [
    "2. 什么是需要的地方  \n",
    "  1. 当参数类型和所传变量类型不一致时  \n",
    "  2. 当对象访问不存在的成员变量/成员函数时  \n",
    "  3. 当表达式类型与预期类型不一致时"
   ]
  },
  {
   "cell_type": "markdown",
   "metadata": {},
   "source": [
    "#### 二. 隐式参数\n",
    "1. 隐式参数  \n",
    "  1. 指被`implicit`修饰的函数的参数  \n",
    "  2. 隐士参数不用在调用方法时显式传入, 编译器会自动查找该类型的变量\n",
    "  \n",
    "2. 转换函数作为隐式参数  \n",
    " 如下例子, 编译器自动查找隐式变量, 这个变量是一个函数, 可以把T类型转换为Ordered[T]"
   ]
  },
  {
   "cell_type": "code",
   "execution_count": 3,
   "metadata": {},
   "outputs": [
    {
     "name": "stdout",
     "output_type": "stream",
     "text": [
      "2"
     ]
    },
    {
     "data": {
      "text/plain": [
       "defined \u001b[32mfunction\u001b[39m \u001b[36msmaller\u001b[39m"
      ]
     },
     "execution_count": 3,
     "metadata": {},
     "output_type": "execute_result"
    }
   ],
   "source": [
    "def smaller[T](a:T,b:T)(implicit order:T => Ordered[T]) = {\n",
    "    if(a<b) a else b\n",
    "}\n",
    "print(smaller(40,2))"
   ]
  },
  {
   "cell_type": "markdown",
   "metadata": {},
   "source": [
    "#### 三. @implicitNotFound注解\n",
    "1. 该注解告诉编译器, 在不能构造出带有该注解类型的参数时, 给出错误提示  \n",
    "2. 如在类`<:<`的定义  \n",
    "```scala\n",
    "  @implicitNotFound(msg = \"Cannot prove that ${From} <:< ${To}.\")\n",
    "  sealed abstract class <:<[-From, +To] extends (From => To) with Serializable\n",
    "```"
   ]
  },
  {
   "cell_type": "markdown",
   "metadata": {},
   "source": [
    "#### 四. canBuildFrom\n",
    "1. `canbuildFrom`方法是广泛存在于所有scala集合类的伴生对象中的隐式转换函数, 在使用集合类时, 自动执行对应伴生对象中的隐式转换  \n",
    "2. `canbuildFrom`隐式转换函数产生`CanBuildFrom`对象  \n",
    " 以下使用Array类举例\n",
    "```scala\n",
    "// Array伴生对象中的canBuildFrom方法\n",
    "implicit def canBuildFrom[T](implicit t: ClassTag[T]): CanBuildFrom[Array[_], T, Array[T]] =\n",
    "  new CanBuildFrom[Array[_], T, Array[T]] {  // CanBuildFrom是trait,有2个抽象方法apply\n",
    "    // apply方法返回Builder类的对象, 每种数据结构都有各自的Builder伴生对象和class, Array对应的ArrayBuilder\n",
    "    def apply(from: Array[_]) = ArrayBuilder.make[T]()(t)   // 返回ArrayBuilder class\n",
    "    def apply() = ArrayBuilder.make[T]()(t)\n",
    "}\n",
    "```\n",
    "```scala\n",
    "// 定义在TraversableLike的map方法\n",
    "def repr: Repr = this.asInstanceOf[Repr]\n",
    "def map[B, That](f: A => B)(implicit bf: CanBuildFrom[Repr, B, That]): That = {\n",
    "    // repr是表现类型, 即数据结构类型, 比如Array. bf在Array中是由canBuildFrom方法产生的CanBuildFrom伴生对象\n",
    "    // bf(repr)即为new CanBuildFrom.apply(Array), 因此b为ArrayBuilder类型\n",
    "      val b = bf(repr) \n",
    "      for (x <- self)\n",
    "        if (p(x)) b += f(x) // 将计算结果追加到ArrayBuilder对象b中\n",
    "      b.result  // 返回结果\n",
    "    }\n",
    "```"
   ]
  }
 ],
 "metadata": {
  "kernelspec": {
   "display_name": "Scala",
   "language": "scala",
   "name": "scala"
  },
  "language_info": {
   "codemirror_mode": "text/x-scala",
   "file_extension": ".scala",
   "mimetype": "text/x-scala",
   "name": "scala211",
   "nbconvert_exporter": "script",
   "pygments_lexer": "scala",
   "version": "2.11.11"
  }
 },
 "nbformat": 4,
 "nbformat_minor": 2
}
