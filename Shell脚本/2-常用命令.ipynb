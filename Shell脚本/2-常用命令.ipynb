{
 "cells": [
  {
   "cell_type": "markdown",
   "metadata": {},
   "source": [
    "### find命令\n",
    "1. 参数\n",
    "    * `-name`: 使用正则匹配文件名\n",
    "    * `-exec`: 对每个匹配到的文件, 执行exec后面的命令; \n",
    "        * 该命令以`\\;`结尾\n",
    "        * `{}`用来在exec中引用文件名\n",
    "    * `-type`: 文件类型\n",
    "        * b : block (buffered) special\n",
    "        * c : character (unbuffered) special\n",
    "        * d : directory\n",
    "        * p : named pipe (FIFO)\n",
    "        * f : regular file\n",
    "        * l : symbolic link; this is never true if the -L option or the -follow option is in effect, unless the symbolic  link  is broken.  If you want to search for symbolic links when -L is in effect, use -xtype.\n",
    "        * s : socket\n",
    "        * D : door (Solaris)\n",
    "        \n",
    "2. 例子\n",
    "    * 某服务器IP更换时, 找到包含该IP的脚本\n",
    "    ```shell\n",
    "    # 打印每一个匹配到的文件中的行\n",
    "    $ find . -name \"*.data\" -exec grep --with-filename \"192.168.0.1\" --color {} \\;\n",
    "        ./11.data:192.168.0.1\n",
    "     # 只打印包含该ip的文件名 \n",
    "     ```\n",
    "    * 列出该目录下所有文件, 不包括文件夹\n",
    "    ```shell\n",
    "     find . -type f -exec ls {} \\;\n",
    "    ```"
   ]
  },
  {
   "cell_type": "markdown",
   "metadata": {},
   "source": [
    "### grep命令\n",
    "1. 参数\n",
    "    * `-i` : 忽略大小写\n",
    "    * `-H, --with-filename` : 打印匹配到的文件名和匹配到的行的内容 \n",
    "    * `-n` : 输出行数\n",
    "    * `-v` : invert-match, 反选\n",
    "    * `-E` : 正则匹配\n",
    "    * `-r` : 递归查找\n",
    "    * `-l` : 只输出文件名\n",
    "    * `-A n` : 显示匹配的字符串及其前n行\n",
    "    * `-B n` : 显示匹配的字符串及其后n行\n",
    "    * `-w` : 匹配整个单词\n",
    "    * `-o` : --only-matching, 仅输出匹配到的字符串, 避免显示整行内容太长没法看\n",
    "    * `-c` : 统计出现的次数, 相当于`wc -l`, 当使用`-v`后, 返回没有匹配的个数\n",
    "    * `--color=auto` : 匹配到的内容变色显示\n",
    "    \n",
    "2. 案例\n",
    "    * 递归查找所有匹配到内容的文件\n",
    "    ```shell\n",
    "    $ grep -rl 192.168 ./*\n",
    "        ./11.data\n",
    "        ./aaa2.bak.bak/cd_charge.log\n",
    "        ./aaa2.bak.bak/CK.txt\n",
    "        ./cd_charge.log\n",
    "    ```\n",
    "    \n",
    "    * 忽略大小写递归查找, 并输出行号\n",
    "    ```shell\n",
    "    $ grep -inr 192.168.0.1 *\n",
    "    11.data:1:192.168.0.1\n",
    "    ```\n",
    "    \n",
    "    * 忽略大小写递归查找输出行号, 并输出其前2行/后2行\n",
    "    ```shell\n",
    "    $ grep -inr 192.168.0.1 * -A 2\n",
    "    11.data:3:192.168.0.1\n",
    "    11.data-4-forth\n",
    "    11.data-5-fifth\n",
    "    \n",
    "    $ grep -inr 192.168.0.1 * -B 2\n",
    "    11.data-1-first\n",
    "    11.data-2-second\n",
    "    11.data:3:192.168.0.1\n",
    "    ```"
   ]
  },
  {
   "cell_type": "code",
   "execution_count": null,
   "metadata": {},
   "outputs": [],
   "source": []
  }
 ],
 "metadata": {
  "kernelspec": {
   "display_name": "Python 3",
   "language": "python",
   "name": "python3"
  },
  "language_info": {
   "codemirror_mode": {
    "name": "ipython",
    "version": 3
   },
   "file_extension": ".py",
   "mimetype": "text/x-python",
   "name": "python",
   "nbconvert_exporter": "python",
   "pygments_lexer": "ipython3",
   "version": "3.7.4"
  }
 },
 "nbformat": 4,
 "nbformat_minor": 2
}
