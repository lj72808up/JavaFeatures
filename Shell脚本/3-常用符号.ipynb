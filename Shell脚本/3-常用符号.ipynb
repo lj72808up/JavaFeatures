{
 "cells": [
  {
   "cell_type": "markdown",
   "metadata": {},
   "source": [
    "###  \\\\$@ 与 \\\\$* \n",
    "\n",
    "1. `$@`与`$*`均表示脚本的输入参数列表, 在不使用`\"\"`的请款下二者完全相同\n",
    "\n",
    "2. 使用`\"\"`包住时, 有以下几个区别\n",
    "    * `\"$*\"`: 强调整体\n",
    "    * `\"$*\"` : 强调个体\n",
    "    \n",
    "3. 示例\n",
    "    * 脚本\n",
    "    ```shell\n",
    "    for i in \"$*\":\n",
    "    do\n",
    "      echo '\"$*\":'$i\n",
    "    done\n",
    "\n",
    "    echo \"=================\"\n",
    "\n",
    "    for i in \"$@\":\n",
    "    do\n",
    "      echo '\"$@\":'$i\n",
    "    done\n",
    "\n",
    "    echo \"=================\"\n",
    "\n",
    "    for i in $*:\n",
    "    do\n",
    "      echo '$*:'$i\n",
    "    done\n",
    "\n",
    "    echo \"=================\"\n",
    "\n",
    "    for i in $@:\n",
    "    do\n",
    "      echo '$@:'$i\n",
    "    done\n",
    "    ```\n",
    "    * 运行 : `bash test.sh 1 2 \"2 3\"`\n",
    "    \n",
    "    * 输出 : \n",
    "```text\n",
    "\"$*\":1 2 2 3:\n",
    "=================\n",
    "\"$@\":1\n",
    "\"$@\":2\n",
    "\"$@\":2 3:\n",
    "=================\n",
    "$*:1\n",
    "$*:2\n",
    "$*:2\n",
    "$*:3:\n",
    "=================\n",
    "$@:1\n",
    "$@:2\n",
    "$@:2\n",
    "$@:3:\n",
    "```"
   ]
  },
  {
   "cell_type": "code",
   "execution_count": null,
   "metadata": {},
   "outputs": [],
   "source": []
  }
 ],
 "metadata": {
  "kernelspec": {
   "display_name": "Python 3",
   "language": "python",
   "name": "python3"
  },
  "language_info": {
   "codemirror_mode": {
    "name": "ipython",
    "version": 3
   },
   "file_extension": ".py",
   "mimetype": "text/x-python",
   "name": "python",
   "nbconvert_exporter": "python",
   "pygments_lexer": "ipython3",
   "version": "3.7.4"
  }
 },
 "nbformat": 4,
 "nbformat_minor": 2
}
