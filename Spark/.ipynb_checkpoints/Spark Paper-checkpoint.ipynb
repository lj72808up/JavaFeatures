{
 "cells": [
  {
   "cell_type": "markdown",
   "metadata": {},
   "source": [
    "Spark Paper  - An Architecture for Fast and General Data Processing on Large Clusters\n",
    "-------------------"
   ]
  },
  {
   "cell_type": "markdown",
   "metadata": {},
   "source": [
    "1. MapReduce 模型的缺陷:在并行计算阶段之间能够高效地 数据共享, 这正是 RDD 具有真知灼见的地方\n",
    "2. 每一个 RDD 都会记住由构建它的那些操作所构成的一个图,类似于批处理计算模型,可以有效地 重新 计算因故障丢失的数据。  "
   ]
  },
  {
   "cell_type": "markdown",
   "metadata": {},
   "source": [
    "### 1.1 分布式弹性数据集\n",
    "\n",
    "#### 一. RDD编程接口\n",
    "1. RDD是一个分区的只读记录集合\n",
    "2. 用户可以控制RDD的2个方面: 持久化和分区\n",
    "3. RDD的2类操作: transform和action\n",
    "\n",
    "#### 二. RDD与分布式共享内存的区别\n",
    "1. RDD的\"写操作\"是粗粒度的\"写\":   \n",
    " 1. RDD的\"写操作\"是粗粒度的\"写\",它只能在分区级别执行批量写, 但这提高了容错性.   \n",
    " 2. 而DSM-分布式共享内存模型允许对每个存储单元读取和写入, 不具备容错性. 因此, RDD不需要检查点, 它可以通过lineage(血统-DAG计算图)重新计算丢失的那部分数据, 而不必回滚整个程序\n",
    "2. RDD可以减少stragglers节点的影响   \n",
    " 1. RDD的不可变性, 让系统像 MapReduce那样用后备任务代替运行缓慢的任务来减少缓慢节点 (stragglers) 的影响。\n",
    " 2. 计算缓慢的节点(straggler), 在DSM系统中会拖累整个计算过程. 因为DSM中任务的2个副本由于要访问相同的存储位置而收到彼此更新的干扰,这样, 后续任务很难执行\n",
    "3. RDD不适合的操作  \n",
    " RDDS最适合对数据集中所有的元素进行相同的操作的批处理类应用.   \n",
    " RDDS不太适用于通过异步细粒度更新来共享状态的应用,比如针对 Web 应用或增量网络爬虫的存储系统。\n",
    " \n",
    "#### 三. RDD操作\n",
    "1. transformations与actions  \n",
    " 1. 我们可以将 transformations 操作理解成一种惰性操作,它只是定义了一个新的 RDD,而不是立即计算它。  \n",
    " 2. 相反, actions 操作则是立即计算,并返回结果给程序,或者将结果写入到外存储中。\n",
    " \n",
    "#### 四. 抽象RDDs\n",
    "1. 5种信息   \n",
    " 我们提供了一个通用接口来抽象每个RDD,该接口提供5种RDD相关信息:  \n",
    " 1. 分区 : 数据集的最小分片  \n",
    " 2. 依赖关系 : 指向其父 RDD  \n",
    " 3. 函数 : 基于父 RDD 进行计算   \n",
    " 4. 划分策略\n",
    " 5. 描述数据位置的元数据\n",
    "2. 依赖关系  \n",
    " 1. 宽窄依赖:    \n",
    "  窄依赖:父RDD的每个分区, 只被子RDD的1个分区使用  \n",
    "  宽依赖:父RDD的每个分区, 被子RDD的多个分区使用\n",
    " 2. map操作是窄依赖, join操作是宽依赖(除非父RDD, 已基于Hash策略被划分过了)\n",
    " 3. 窄依赖允许在单个集群节点上流水线式执行,这个节点可以计算所有父级分区。  \n",
    "  宽依赖, 需要所有的父RDD数据可用, 并且数据已经被重新shuffle过\n",
    "  \n",
    "#### 五. 作业调度\n",
    "1. 调度步骤  \n",
    " 1. 当用户对1个RDD执行actin操作, 调度器会根据该RDD的lineage, 构建一个由若干阶段(stage)组成的DAG计算图来执行计算\n",
    " 2. 每个阶段(stage), 都会最大限度的包含连续的窄依赖转换(transaction)\n",
    " 3. 各个stage之间的划分, 是宽依赖所需的shuffle操作. \n",
    " 4. 此后, 调度器执行多个任务来计算每个stage阶段所需的分区, 直到最终输出RDD\n",
    "2. 如何处理执行失败的任务  \n",
    " 执行失败的任务, 只要其父RDD的信息可用, 就可以在其他节点上重新执行\n",
    "3. straggler处理  \n",
    " 对于处理缓慢的节点, 系统会在其他节点执行任务的拷贝\n",
    " \n",
    "#### 六. 检查点支持\n",
    "虽然 lineage 可用于错误后 RDD 的恢复,但对于很长的 lineage 的 RDD 来说,这样的恢复耗时较长。由此,将某些 RDD 进行检查点操作(Checkpoint)保存到稳定存储上,是有帮助的。\n",
    "\n",
    "#### 七. 总结 \n",
    "1. 容错: 不同于现有的集群存储抽象那样必须要进行数据备份来容错,RDDS 提供基于粗粒度的转换的 API,使用 lineage)数据溯源的方式让数据恢复更加高效。  \n",
    "2. 我们在一个叫 Spark 的系统上实现了 RDDs,它在迭代应用中要比 Hadoop 快 80 倍,并且可以实现在数百GB 的数据上进行交互式查询。"
   ]
  },
  {
   "cell_type": "markdown",
   "metadata": {},
   "source": []
  },
  {
   "cell_type": "markdown",
   "metadata": {},
   "source": []
  },
  {
   "cell_type": "code",
   "execution_count": null,
   "metadata": {},
   "outputs": [],
   "source": []
  }
 ],
 "metadata": {
  "kernelspec": {
   "display_name": "Python 3",
   "language": "python",
   "name": "python3"
  },
  "language_info": {
   "codemirror_mode": {
    "name": "ipython",
    "version": 3
   },
   "file_extension": ".py",
   "mimetype": "text/x-python",
   "name": "python",
   "nbconvert_exporter": "python",
   "pygments_lexer": "ipython3",
   "version": "3.6.5"
  }
 },
 "nbformat": 4,
 "nbformat_minor": 2
}
