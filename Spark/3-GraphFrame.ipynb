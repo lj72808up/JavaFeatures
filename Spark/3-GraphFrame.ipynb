{
 "cells": [
  {
   "cell_type": "markdown",
   "metadata": {},
   "source": [
    "### $\\S$ Start using GraphFrames\n",
    "下面, 创建一个GraphFrame, 并进行pagerank算法"
   ]
  },
  {
   "cell_type": "code",
   "execution_count": 1,
   "metadata": {},
   "outputs": [
    {
     "data": {
      "text/plain": [
       "myspark = org.apache.spark.sql.SparkSession@420355a\n"
      ]
     },
     "metadata": {},
     "output_type": "display_data"
    },
    {
     "data": {
      "text/plain": [
       "org.apache.spark.sql.SparkSession@420355a"
      ]
     },
     "execution_count": 1,
     "metadata": {},
     "output_type": "execute_result"
    }
   ],
   "source": [
    "val myspark = spark\n",
    "import myspark.implicits._"
   ]
  },
  {
   "cell_type": "code",
   "execution_count": 2,
   "metadata": {},
   "outputs": [
    {
     "data": {
      "text/plain": [
       "v = [id: string, name: string ... 1 more field]\n",
       "e = [src: string, dst: string ... 1 more field]\n",
       "g = GraphFrame(v:[id: string, name: string ... 1 more field], e:[src: string, dst: string ... 1 more field])\n"
      ]
     },
     "metadata": {},
     "output_type": "display_data"
    },
    {
     "data": {
      "text/plain": [
       "GraphFrame(v:[id: string, name: string ... 1 more field], e:[src: string, dst: string ... 1 more field])"
      ]
     },
     "execution_count": 2,
     "metadata": {},
     "output_type": "execute_result"
    }
   ],
   "source": [
    "// 顶点集合的dataframe, 用id唯一标识1个顶点\n",
    "val v = Seq((\"a\", \"Alice\", 34),\n",
    "            (\"b\", \"Bob\", 36),\n",
    "            (\"c\", \"Charlie\", 30)\n",
    "           ).toDF(\"id\", \"name\", \"age\")\n",
    "// 创建边的集合,包含\"src\" and \"dst\"\n",
    "val e = Seq((\"a\", \"b\", \"friend\"),\n",
    "            (\"b\", \"c\", \"follow\"),\n",
    "            (\"c\", \"b\", \"follow\")\n",
    "           ).toDF(\"src\", \"dst\", \"relationship\")\n",
    "// 创建GraphFrame\n",
    "import org.graphframes.GraphFrame\n",
    "val g = GraphFrame(v,e)"
   ]
  },
  {
   "cell_type": "code",
   "execution_count": 3,
   "metadata": {},
   "outputs": [
    {
     "name": "stdout",
     "output_type": "stream",
     "text": [
      "+---+--------+\n",
      "| id|inDegree|\n",
      "+---+--------+\n",
      "|  c|       1|\n",
      "|  b|       2|\n",
      "+---+--------+\n",
      "\n"
     ]
    }
   ],
   "source": [
    "// Query: Get in-degree of each vertex.\n",
    "g.inDegrees.show"
   ]
  },
  {
   "cell_type": "code",
   "execution_count": 4,
   "metadata": {},
   "outputs": [
    {
     "data": {
      "text/plain": [
       "2"
      ]
     },
     "execution_count": 4,
     "metadata": {},
     "output_type": "execute_result"
    }
   ],
   "source": [
    "// Query: Count the number of \"follow\" connections in the graph.\n",
    "g.edges.filter(\"relationship='follow'\").count()"
   ]
  },
  {
   "cell_type": "code",
   "execution_count": 5,
   "metadata": {},
   "outputs": [
    {
     "name": "stdout",
     "output_type": "stream",
     "text": [
      "+---+------------------+\n",
      "| id|          pagerank|\n",
      "+---+------------------+\n",
      "|  a|              0.01|\n",
      "|  b|1.0905890109440908|\n",
      "|  c|1.8994109890559092|\n",
      "+---+------------------+\n",
      "\n"
     ]
    },
    {
     "data": {
      "text/plain": [
       "res = GraphFrame(v:[id: string, name: string ... 2 more fields], e:[src: string, dst: string ... 2 more fields])\n"
      ]
     },
     "metadata": {},
     "output_type": "display_data"
    },
    {
     "data": {
      "text/plain": [
       "GraphFrame(v:[id: string, name: string ... 2 more fields], e:[src: string, dst: string ... 2 more fields])"
      ]
     },
     "execution_count": 5,
     "metadata": {},
     "output_type": "execute_result"
    }
   ],
   "source": [
    "// Run PageRank algorithm, and show results.\n",
    "val res = g.pageRank.resetProbability(0.01).maxIter(20).run()\n",
    "res.vertices.select(\"id\",\"pagerank\").show"
   ]
  },
  {
   "cell_type": "markdown",
   "metadata": {},
   "source": [
    "### $\\S$ GraphFrames User Guide\n",
    "\n",
    "#### 2.1 Creating GraphFrames\n",
    "* Vertex DataFrame: 顶点集合必须包含id字段, 用来唯一标识1个顶点\n",
    "* Edge DataFrame: 边集合必须包含\"src\"(source vertex ID of edge) 和\"dst\"(destination vertex ID of edge)字段\n",
    "* 顶点和边的dataframe可以包含任意其他字段  \n",
    "  GraphFrame可以只从边的dataframe构建出来, 顶点的dataframe会被自动推断出来(通过src和dst)"
   ]
  },
  {
   "cell_type": "code",
   "execution_count": 6,
   "metadata": {},
   "outputs": [
    {
     "data": {
      "text/plain": [
       "v = [id: string, name: string ... 1 more field]\n",
       "e = [src: string, dst: string ... 1 more field]\n",
       "g = GraphFrame(v:[id: string, name: string ... 1 more field], e:[src: string, dst: string ... 1 more field])\n"
      ]
     },
     "metadata": {},
     "output_type": "display_data"
    },
    {
     "data": {
      "text/plain": [
       "GraphFrame(v:[id: string, name: string ... 1 more field], e:[src: string, dst: string ... 1 more field])"
      ]
     },
     "execution_count": 6,
     "metadata": {},
     "output_type": "execute_result"
    }
   ],
   "source": [
    "import org.graphframes.GraphFrame\n",
    "// Vertex DataFrame\n",
    "val v = Seq(\n",
    "  (\"a\", \"Alice\", 34),\n",
    "  (\"b\", \"Bob\", 36),\n",
    "  (\"c\", \"Charlie\", 30),\n",
    "  (\"d\", \"David\", 29),\n",
    "  (\"e\", \"Esther\", 32),\n",
    "  (\"f\", \"Fanny\", 36),\n",
    "  (\"g\", \"Gabby\", 60)\n",
    " ).toDF(\"id\", \"name\", \"age\")\n",
    "// Edge DataFrame\n",
    "val e = Seq(\n",
    "  (\"a\", \"b\", \"friend\"),\n",
    "  (\"b\", \"c\", \"follow\"),\n",
    "  (\"c\", \"b\", \"follow\"),\n",
    "  (\"f\", \"c\", \"follow\"),\n",
    "  (\"e\", \"f\", \"follow\"),\n",
    "  (\"e\", \"d\", \"friend\"),\n",
    "  (\"d\", \"a\", \"friend\"),\n",
    "  (\"a\", \"e\", \"friend\")\n",
    " ).toDF(\"src\", \"dst\", \"relationship\")\n",
    "// Create a GraphFrame\n",
    "val g = GraphFrame(v, e)"
   ]
  },
  {
   "cell_type": "markdown",
   "metadata": {},
   "source": [
    "* 上述GraphFrame已在package中自带"
   ]
  },
  {
   "cell_type": "code",
   "execution_count": 7,
   "metadata": {},
   "outputs": [
    {
     "data": {
      "text/plain": [
       "g = GraphFrame(v:[id: string, name: string ... 1 more field], e:[src: string, dst: string ... 1 more field])\n"
      ]
     },
     "metadata": {},
     "output_type": "display_data"
    },
    {
     "data": {
      "text/plain": [
       "GraphFrame(v:[id: string, name: string ... 1 more field], e:[src: string, dst: string ... 1 more field])"
      ]
     },
     "execution_count": 7,
     "metadata": {},
     "output_type": "execute_result"
    }
   ],
   "source": [
    "import org.graphframes.{examples,GraphFrame}\n",
    "val g: GraphFrame = examples.Graphs.friends"
   ]
  },
  {
   "cell_type": "markdown",
   "metadata": {},
   "source": [
    "#### 2.2 简单查询\n",
    "* GraphFrames由边和顶点的DataFrame组成, 通过其vertices和edges属性获得\n",
    "* g.inDegrees得到的也是DataFrame\n",
    "* vertices和edges使用DataFrame的api来查询"
   ]
  },
  {
   "cell_type": "code",
   "execution_count": 8,
   "metadata": {},
   "outputs": [
    {
     "name": "stdout",
     "output_type": "stream",
     "text": [
      "+---+-------+---+\n",
      "| id|   name|age|\n",
      "+---+-------+---+\n",
      "|  a|  Alice| 34|\n",
      "|  b|    Bob| 36|\n",
      "|  c|Charlie| 30|\n",
      "|  d|  David| 29|\n",
      "|  e| Esther| 32|\n",
      "|  f|  Fanny| 36|\n",
      "|  g|  Gabby| 60|\n",
      "+---+-------+---+\n",
      "\n",
      "+---+---+------------+\n",
      "|src|dst|relationship|\n",
      "+---+---+------------+\n",
      "|  a|  b|      friend|\n",
      "|  b|  c|      follow|\n",
      "|  c|  b|      follow|\n",
      "|  f|  c|      follow|\n",
      "|  e|  f|      follow|\n",
      "|  e|  d|      friend|\n",
      "|  d|  a|      friend|\n",
      "|  a|  e|      friend|\n",
      "+---+---+------------+\n",
      "\n",
      "+---+--------+\n",
      "| id|inDegree|\n",
      "+---+--------+\n",
      "|  f|       1|\n",
      "|  e|       1|\n",
      "|  d|       1|\n",
      "|  c|       2|\n",
      "|  b|       2|\n",
      "|  a|       1|\n",
      "+---+--------+\n",
      "\n",
      "+--------+\n",
      "|min(age)|\n",
      "+--------+\n",
      "|      29|\n",
      "+--------+\n",
      "\n"
     ]
    },
    {
     "data": {
      "text/plain": [
       "g = GraphFrame(v:[id: string, name: string ... 1 more field], e:[src: string, dst: string ... 1 more field])\n",
       "vertexInDegrees = [id: string, inDegree: int]\n",
       "numFollows = 4\n"
      ]
     },
     "metadata": {},
     "output_type": "display_data"
    },
    {
     "data": {
      "text/plain": [
       "4"
      ]
     },
     "execution_count": 8,
     "metadata": {},
     "output_type": "execute_result"
    }
   ],
   "source": [
    "import org.graphframes.{examples,GraphFrame}\n",
    "val g: GraphFrame = examples.Graphs.friends  // get example graph\n",
    "\n",
    "// Display the vertex and edge DataFrames\n",
    "g.vertices.show()\n",
    "// +--+-------+---+\n",
    "// |id|   name|age|\n",
    "// +--+-------+---+\n",
    "// | a|  Alice| 34|\n",
    "// | b|    Bob| 36|\n",
    "// | c|Charlie| 30|\n",
    "// | d|  David| 29|\n",
    "// | e| Esther| 32|\n",
    "// | f|  Fanny| 36|\n",
    "// | g|  Gabby| 60|\n",
    "// +--+-------+---+\n",
    "\n",
    "g.edges.show()\n",
    "// +---+---+------------+\n",
    "// |src|dst|relationship|\n",
    "// +---+---+------------+\n",
    "// |  a|  b|      friend|\n",
    "// |  b|  c|      follow|\n",
    "// |  c|  b|      follow|\n",
    "// |  f|  c|      follow|\n",
    "// |  e|  f|      follow|\n",
    "// |  e|  d|      friend|\n",
    "// |  d|  a|      friend|\n",
    "// |  a|  e|      friend|\n",
    "// +---+---+------------+\n",
    "\n",
    "// import Spark SQL package\n",
    "import org.apache.spark.sql.DataFrame\n",
    "\n",
    "// Get a DataFrame with columns \"id\" and \"inDeg\" (in-degree)\n",
    "val vertexInDegrees: DataFrame = g.inDegrees\n",
    "vertexInDegrees.show\n",
    "\n",
    "// Find the youngest user's age in the graph.\n",
    "// This queries the vertex DataFrame.\n",
    "g.vertices.groupBy().min(\"age\").show()\n",
    "\n",
    "// Count the number of \"follows\" in the graph.\n",
    "// This queries the edge DataFrame.\n",
    "val numFollows = g.edges.filter(\"relationship = 'follow'\").count()"
   ]
  },
  {
   "cell_type": "markdown",
   "metadata": {},
   "source": [
    "#### 2.3 模式查找\n",
    "1. 模式查找在GraphFrame中通过DSL(Domain-Specific Language)进行.例如`graph.find(\"(a)-[e]->(b); (b)-[e2]->(a)\")`将要查找一对顶点a,b且这两个顶点存在双向的边. 结果以DataFrame的形式返回, 列名为“a, b, e, e2.”\n"
   ]
  },
  {
   "cell_type": "code",
   "execution_count": 9,
   "metadata": {},
   "outputs": [
    {
     "name": "stdout",
     "output_type": "stream",
     "text": [
      "+---+-------+---+\n",
      "| id|   name|age|\n",
      "+---+-------+---+\n",
      "|  a|  Alice| 34|\n",
      "|  b|    Bob| 36|\n",
      "|  c|Charlie| 30|\n",
      "|  d|  David| 29|\n",
      "|  e| Esther| 32|\n",
      "|  f|  Fanny| 36|\n",
      "|  g|  Gabby| 60|\n",
      "+---+-------+---+\n",
      "\n",
      "+---+---+------------+\n",
      "|src|dst|relationship|\n",
      "+---+---+------------+\n",
      "|  a|  b|      friend|\n",
      "|  b|  c|      follow|\n",
      "|  c|  b|      follow|\n",
      "|  f|  c|      follow|\n",
      "|  e|  f|      follow|\n",
      "|  e|  d|      friend|\n",
      "|  d|  a|      friend|\n",
      "|  a|  e|      friend|\n",
      "+---+---+------------+\n",
      "\n",
      "+----------------+--------------+----------------+--------------+\n",
      "|               a|             e|               b|            e2|\n",
      "+----------------+--------------+----------------+--------------+\n",
      "|    [b, Bob, 36]|[b, c, follow]|[c, Charlie, 30]|[c, b, follow]|\n",
      "|[c, Charlie, 30]|[c, b, follow]|    [b, Bob, 36]|[b, c, follow]|\n",
      "+----------------+--------------+----------------+--------------+\n",
      "\n",
      "+----------------+--------------+------------+--------------+\n",
      "|               a|             e|           b|            e2|\n",
      "+----------------+--------------+------------+--------------+\n",
      "|[c, Charlie, 30]|[c, b, follow]|[b, Bob, 36]|[b, c, follow]|\n",
      "+----------------+--------------+------------+--------------+\n",
      "\n"
     ]
    },
    {
     "data": {
      "text/plain": [
       "g = GraphFrame(v:[id: string, name: string ... 1 more field], e:[src: string, dst: string ... 1 more field])\n",
       "motifs = [a: struct<id: string, name: string ... 1 more field>, e: struct<src: string, dst: string ... 1 more field> ... 2 more fields]\n"
      ]
     },
     "metadata": {},
     "output_type": "display_data"
    },
    {
     "data": {
      "text/plain": [
       "[a: struct<id: string, name: string ... 1 more field>, e: struct<src: string, dst: string ... 1 more field> ... 2 more fields]"
      ]
     },
     "execution_count": 9,
     "metadata": {},
     "output_type": "execute_result"
    }
   ],
   "source": [
    "import org.graphframes.{examples,GraphFrame}\n",
    "val g: GraphFrame = examples.Graphs.friends  // get example graph\n",
    "g.vertices.show()\n",
    "g.edges.show()\n",
    "\n",
    "val motifs = g.find(\"(a)-[e]->(b); (b)-[e2]->(a)\")\n",
    "motifs.show()\n",
    "\n",
    "// More complex queries can be expressed by applying filters.\n",
    "motifs.filter(\"b.age>35\").show"
   ]
  },
  {
   "cell_type": "markdown",
   "metadata": {},
   "source": [
    "2. 大多数例子的图操作是无状态的, 类似上面的简单查找. 现在, 假设要查找4个顶点组成的链,从满足这个条件的链周静筛选符合状态定义的链:\n",
    "    * 在path中初始化状态\n",
    "    * 更新顶点a的状态\n",
    "    * 更新顶点b的状态\n",
    "    * c,d也和a,b一样\n",
    "    * 如果最终状态匹配某些条件, 则这个链被过滤出来\n",
    "    \n",
    "如下, 展示了在4个顶点的链中, 找到关系为\"friends\"的个数大于2的的链"
   ]
  },
  {
   "cell_type": "code",
   "execution_count": 10,
   "metadata": {},
   "outputs": [
    {
     "data": {
      "text/plain": [
       "chain4 = [a: struct<id: string, name: string ... 1 more field>, ab: struct<src: string, dst: string ... 1 more field> ... 5 more fields]\n",
       "condition = CASE WHEN (cd[relationship] = friend) THEN (CASE WHEN (bc[relationship] = friend) THEN (CASE WHEN (ab[relationship] = friend) THEN (0 + 1) ELSE 0 END + 1) ELSE CASE WHEN (ab[relationship] = friend) THEN (0 + 1) ELSE 0 END END + 1) ELSE CASE WHEN (bc[relationship] = friend) THEN (CASE WHEN (ab[relationship] = friend) THEN (0 + 1) ELSE 0 END + 1) ELSE CASE WHEN (ab[relationshi...\n"
      ]
     },
     "metadata": {},
     "output_type": "display_data"
    },
    {
     "data": {
      "text/plain": [
       "sumFriends: (cnt: org.apache.spark.sql.Column, relationshipCol: org.apache.spark.sql.Column)org.apache.spark.sql.Column\n"
      ]
     },
     "metadata": {},
     "output_type": "display_data"
    },
    {
     "data": {
      "text/plain": [
       "CASE WHEN (cd[relationship] = friend) THEN (CASE WHEN (bc[relationship] = friend) THEN (CASE WHEN (ab[relationship] = friend) THEN (0 + 1) ELSE 0 END + 1) ELSE CASE WHEN (ab[relationship] = friend) THEN (0 + 1) ELSE 0 END END + 1) ELSE CASE WHEN (bc[relationship] = friend) THEN (CASE WHEN (ab[relationship] = friend) THEN (0 + 1) ELSE 0 END + 1) ELSE CASE WHEN (ab[relationshi..."
      ]
     },
     "execution_count": 10,
     "metadata": {},
     "output_type": "execute_result"
    }
   ],
   "source": [
    "import org.apache.spark.sql.Column\n",
    "import org.apache.spark.sql.functions.{col, when,lit}\n",
    "\n",
    "// Find chains of 4 vertices.\n",
    "val chain4 = g.find(\"(a)-[ab]->(b);(b)-[bc]->(c);(c)-[cd]->(d)\")\n",
    "\n",
    "// Query on sequence, with state (cnt)\n",
    "//  (a) Define method for updating state given the next element of the motif.\n",
    "def sumFriends(cnt:Column,relationshipCol:Column):Column = {\n",
    "    when(relationshipCol===\"friend\",cnt+1).otherwise(cnt)\n",
    "}\n",
    "\n",
    "//  (b) Use sequence operation to apply method to sequence of elements in motif.\n",
    "//      In this case, the elements are the 3 edges.\n",
    "\n",
    "val condition = { Seq(\"ab\", \"bc\", \"cd\")\n",
    "  //  lit(java.lang.Object literal): Creates a Column of literal value.\n",
    "  .foldLeft(lit(0))((cnt, edgeName) => sumFriends(cnt, col(edgeName)(\"relationship\"))) }\n",
    "\n",
    "//  (c) Apply filter to DataFrame.\n",
    "val chainWith2Friends2 = chain4.where(condition >= 2)\n"
   ]
  },
  {
   "cell_type": "code",
   "execution_count": 11,
   "metadata": {},
   "outputs": [
    {
     "name": "stdout",
     "output_type": "stream",
     "text": [
      "+----------------+--------------+----------------+--------------+----------------+--------------+----------------+\n",
      "|               a|            ab|               b|            bc|               c|            cd|               d|\n",
      "+----------------+--------------+----------------+--------------+----------------+--------------+----------------+\n",
      "|  [a, Alice, 34]|[a, b, friend]|    [b, Bob, 36]|[b, c, follow]|[c, Charlie, 30]|[c, b, follow]|    [b, Bob, 36]|\n",
      "|    [b, Bob, 36]|[b, c, follow]|[c, Charlie, 30]|[c, b, follow]|    [b, Bob, 36]|[b, c, follow]|[c, Charlie, 30]|\n",
      "|[c, Charlie, 30]|[c, b, follow]|    [b, Bob, 36]|[b, c, follow]|[c, Charlie, 30]|[c, b, follow]|    [b, Bob, 36]|\n",
      "|  [f, Fanny, 36]|[f, c, follow]|[c, Charlie, 30]|[c, b, follow]|    [b, Bob, 36]|[b, c, follow]|[c, Charlie, 30]|\n",
      "| [e, Esther, 32]|[e, f, follow]|  [f, Fanny, 36]|[f, c, follow]|[c, Charlie, 30]|[c, b, follow]|    [b, Bob, 36]|\n",
      "| [e, Esther, 32]|[e, d, friend]|  [d, David, 29]|[d, a, friend]|  [a, Alice, 34]|[a, e, friend]| [e, Esther, 32]|\n",
      "| [e, Esther, 32]|[e, d, friend]|  [d, David, 29]|[d, a, friend]|  [a, Alice, 34]|[a, b, friend]|    [b, Bob, 36]|\n",
      "|  [d, David, 29]|[d, a, friend]|  [a, Alice, 34]|[a, e, friend]| [e, Esther, 32]|[e, d, friend]|  [d, David, 29]|\n",
      "|  [d, David, 29]|[d, a, friend]|  [a, Alice, 34]|[a, e, friend]| [e, Esther, 32]|[e, f, follow]|  [f, Fanny, 36]|\n",
      "|  [d, David, 29]|[d, a, friend]|  [a, Alice, 34]|[a, b, friend]|    [b, Bob, 36]|[b, c, follow]|[c, Charlie, 30]|\n",
      "|  [a, Alice, 34]|[a, e, friend]| [e, Esther, 32]|[e, d, friend]|  [d, David, 29]|[d, a, friend]|  [a, Alice, 34]|\n",
      "|  [a, Alice, 34]|[a, e, friend]| [e, Esther, 32]|[e, f, follow]|  [f, Fanny, 36]|[f, c, follow]|[c, Charlie, 30]|\n",
      "+----------------+--------------+----------------+--------------+----------------+--------------+----------------+\n",
      "\n",
      "+---------------+--------------+---------------+--------------+---------------+--------------+----------------+\n",
      "|              a|            ab|              b|            bc|              c|            cd|               d|\n",
      "+---------------+--------------+---------------+--------------+---------------+--------------+----------------+\n",
      "|[e, Esther, 32]|[e, d, friend]| [d, David, 29]|[d, a, friend]| [a, Alice, 34]|[a, e, friend]| [e, Esther, 32]|\n",
      "|[e, Esther, 32]|[e, d, friend]| [d, David, 29]|[d, a, friend]| [a, Alice, 34]|[a, b, friend]|    [b, Bob, 36]|\n",
      "| [d, David, 29]|[d, a, friend]| [a, Alice, 34]|[a, e, friend]|[e, Esther, 32]|[e, d, friend]|  [d, David, 29]|\n",
      "| [d, David, 29]|[d, a, friend]| [a, Alice, 34]|[a, e, friend]|[e, Esther, 32]|[e, f, follow]|  [f, Fanny, 36]|\n",
      "| [d, David, 29]|[d, a, friend]| [a, Alice, 34]|[a, b, friend]|   [b, Bob, 36]|[b, c, follow]|[c, Charlie, 30]|\n",
      "| [a, Alice, 34]|[a, e, friend]|[e, Esther, 32]|[e, d, friend]| [d, David, 29]|[d, a, friend]|  [a, Alice, 34]|\n",
      "+---------------+--------------+---------------+--------------+---------------+--------------+----------------+\n",
      "\n"
     ]
    }
   ],
   "source": [
    "chain4.show\n",
    "chainWith2Friends2.show()"
   ]
  },
  {
   "cell_type": "code",
   "execution_count": null,
   "metadata": {},
   "outputs": [],
   "source": []
  }
 ],
 "metadata": {
  "kernelspec": {
   "display_name": "Apache Toree - Scala",
   "language": "scala",
   "name": "apache_toree_scala"
  },
  "language_info": {
   "codemirror_mode": "text/x-scala",
   "file_extension": ".scala",
   "mimetype": "text/x-scala",
   "name": "scala",
   "pygments_lexer": "scala",
   "version": "2.11.12"
  }
 },
 "nbformat": 4,
 "nbformat_minor": 2
}
