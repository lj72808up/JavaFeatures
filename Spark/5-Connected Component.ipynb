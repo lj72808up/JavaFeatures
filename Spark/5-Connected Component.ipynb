{
 "cells": [
  {
   "cell_type": "markdown",
   "metadata": {},
   "source": [
    "### Pregel\n",
    "\n",
    "#### 一. Pregel需要用户提供三种user defined function\n",
    "1. `Vertex Program`:   \n",
    "Vertex Program在每个顶点运行, 把消息列表作为输入, 并且可以获取当前顶点的属性和顶点id的状态, 输出属性更新的顶点的新状态\n",
    "2. `Send Message Program`:  \n",
    "Send Message Program运行在需要的边上, 把一个三元组作为输入, 从边的源点产生1条消息\n",
    "3. `Merge Message Program`:   \n",
    "Merge Message Program把同一个顶点上的2条消息合并为一条消息, 输出组合后的消息. 消息的结果拼成MessageRDD(vartexid作为key, vertex message作为value)"
   ]
  },
  {
   "cell_type": "code",
   "execution_count": null,
   "metadata": {},
   "outputs": [],
   "source": []
  }
 ],
 "metadata": {
  "kernelspec": {
   "display_name": "Python 3",
   "language": "python",
   "name": "python3"
  },
  "language_info": {
   "codemirror_mode": {
    "name": "ipython",
    "version": 3
   },
   "file_extension": ".py",
   "mimetype": "text/x-python",
   "name": "python",
   "nbconvert_exporter": "python",
   "pygments_lexer": "ipython3",
   "version": "3.7.3"
  }
 },
 "nbformat": 4,
 "nbformat_minor": 2
}
