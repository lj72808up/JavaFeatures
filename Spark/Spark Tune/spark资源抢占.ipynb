{
 "cells": [
  {
   "cell_type": "markdown",
   "metadata": {},
   "source": [
    "#### 1. spark并非等到所有executor申请到后再启动\n",
    "有两个参数控制spark何时能够申请到资源\n",
    "* `spark.scheduler.minRegisteredResourcesRatio`:  \n",
    "  至少申请到多少资源后就能启动spark任务  \n",
    "  (0.8 for KUBERNETES mode; 0.8 for YARN mode; 0.0 for standalone mode and Mesos coarse-grained mode)\n",
    "* `spark.scheduler.maxRegisteredResourcesWaitingTime`:  \n",
    "  spark-submit任务后, 最多等待多长时间就启动任务. 无论申请到多少个executor, 在该超时时间达到后, spark job都会变成running状态\n",
    "\n",
    "#### 2. spark的executor默认不支持抢占\n",
    "* spark的executor启动后, 默认状态下, 即使有的executor空闲, 也不会杀死该executor来释放资源给其他应用. 为了解决资源长时间占用问题, 可以开启spark的动态分配: \n",
    "    * `spark.dynamicAllocation.enabled`:  \n",
    "        * 是否开启资源动态分配机制, 默认为false. 开启后executor以1,2,4,8..的指数形式逐步申请executor, 并在executor超时一定时间后, 杀死executor释放空间  \n",
    "        * 动态分配需要开启shuffle service,`spark.shuffle.service.enabled=true`\n",
    "        * [Dynamic Resource Allocation(Configuration and Setup)](https://spark.apache.org/docs/latest/job-scheduling.html#configuration-and-setup)"
   ]
  }
 ],
 "metadata": {
  "kernelspec": {
   "display_name": "Python 3",
   "language": "python",
   "name": "python3"
  },
  "language_info": {
   "codemirror_mode": {
    "name": "ipython",
    "version": 3
   },
   "file_extension": ".py",
   "mimetype": "text/x-python",
   "name": "python",
   "nbconvert_exporter": "python",
   "pygments_lexer": "ipython3",
   "version": "3.7.3"
  }
 },
 "nbformat": 4,
 "nbformat_minor": 2
}
