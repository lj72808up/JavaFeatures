{
 "cells": [
  {
   "cell_type": "markdown",
   "metadata": {},
   "source": [
    "#### 1. 在shell中查找java命令\n",
    "```bash\n",
    "# Find the java binary\n",
    "  # -n: 字符串长度不为0时为真\n",
    "if [ -n \"${JAVA_HOME}\" ]; then  \n",
    "  RUNNER=\"${JAVA_HOME}/bin/java\"\n",
    "else\n",
    "  if [ \"$(command -v java)\" ]; then\n",
    "    RUNNER=\"java\"\n",
    "  else\n",
    "    echo \"JAVA_HOME is not set\" >&2\n",
    "    exit 1\n",
    "  fi\n",
    "fi\n",
    "```"
   ]
  },
  {
   "cell_type": "markdown",
   "metadata": {},
   "source": [
    "#### 2. spark shell如和自定义了repl\n",
    "Main.domMain() -> SparkILoop -> ILoop"
   ]
  }
 ],
 "metadata": {
  "kernelspec": {
   "display_name": "Python 3",
   "language": "python",
   "name": "python3"
  },
  "language_info": {
   "codemirror_mode": {
    "name": "ipython",
    "version": 3
   },
   "file_extension": ".py",
   "mimetype": "text/x-python",
   "name": "python",
   "nbconvert_exporter": "python",
   "pygments_lexer": "ipython3",
   "version": "3.7.0"
  }
 },
 "nbformat": 4,
 "nbformat_minor": 2
}
