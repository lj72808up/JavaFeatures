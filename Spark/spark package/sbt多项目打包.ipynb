{
 "cells": [
  {
   "cell_type": "markdown",
   "metadata": {},
   "source": [
    "### 1. 多项目构建目录树\n",
    "1. build.sbt  \n",
    " 定义工程\n",
    "2. project/plugins.sbt  \n",
    " 定义插件, 用于打包\n",
    "3. 子工程目录树  \n",
    " 子工程类文件保持在src/main/scala下, 否则打包时识别不出类文件\n",
    "<img src=\"../img/multisbt.png\" width=\"35%\" height=\"35%\">"
   ]
  },
  {
   "cell_type": "markdown",
   "metadata": {},
   "source": [
    "#### 2. project/plugins.sbt\n",
    "```scala\n",
    "addSbtPlugin(\"com.eed3si9n\" % \"sbt-assembly\" % \"0.14.5\")\n",
    "```"
   ]
  },
  {
   "cell_type": "markdown",
   "metadata": {},
   "source": [
    "#### 3. build.sbt\n",
    "```scala\n",
    "// 完整内容\n",
    "val spark_version = \"2.1.1\"\n",
    "val sparkCore = \"org.apache.spark\" % \"spark-core_2.11\" % spark_version\n",
    "val sparkStreaming = \"org.apache.spark\" % \"spark-streaming_2.11\" % spark_version\n",
    "val sparkSql = \"org.apache.spark\" % \"spark-sql_2.11\" % spark_version\n",
    "val sparkHive = \"org.apache.spark\" % \"spark-hive_2.11\" % spark_version\n",
    "val sparkMLib = \"org.apache.spark\" % \"spark-mllib_2.11\" % spark_version\n",
    "val config = \"com.typesafe\" % \"config\" % \"1.3.2\"\n",
    "\n",
    "// 依赖,打包设置\n",
    "lazy val sparkDependencies = Seq(sparkCore,sparkStreaming,sparkSql,sparkHive,sparkMLib).map(_ % \"provided\")\n",
    "lazy val commonDependencies = Seq(config)\n",
    "lazy val assemblySettings = Seq(\n",
    "  assemblyOption in assembly := (assemblyOption in assembly).value.copy(includeScala = false),\n",
    "  assemblyMergeStrategy in assembly := {\n",
    "    case PathList(\"play\", \"core\", xs @ _*) => MergeStrategy.first\n",
    "    case x =>\n",
    "      val oldStrategy = (assemblyMergeStrategy in assembly).value\n",
    "      oldStrategy(x)\n",
    "  }\n",
    ")\n",
    "lazy val commonSettings = Seq(version := \"0.1\",\n",
    "  scalaVersion := \"2.11.8\"\n",
    ")\n",
    "\n",
    "// moudle定义,加入依赖和打包设置\n",
    "lazy val sub1 = (project in file(\"sub1\"))\n",
    "  .settings(commonSettings:_*)\n",
    "  .settings(\n",
    "    name := \"sub1\",\n",
    "    assemblySettings,\n",
    "    libraryDependencies ++= sparkDependencies,\n",
    "    libraryDependencies  ++= commonDependencies\n",
    "  )//.dependsOn(sub2)\n",
    "lazy val root = (project in file(\".\"))\n",
    "  .settings(commonSettings:_*)\n",
    "  .settings(\n",
    "    name := \"root\",\n",
    "    assemblySettings\n",
    "  ).aggregate(sub1)\n",
    "```"
   ]
  }
 ],
 "metadata": {
  "kernelspec": {
   "display_name": "Python 3",
   "language": "python",
   "name": "python3"
  },
  "language_info": {
   "codemirror_mode": {
    "name": "ipython",
    "version": 3
   },
   "file_extension": ".py",
   "mimetype": "text/x-python",
   "name": "python",
   "nbconvert_exporter": "python",
   "pygments_lexer": "ipython3",
   "version": "3.7.0"
  }
 },
 "nbformat": 4,
 "nbformat_minor": 2
}
