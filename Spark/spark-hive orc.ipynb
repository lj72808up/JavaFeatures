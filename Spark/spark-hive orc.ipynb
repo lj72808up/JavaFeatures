{
 "cells": [
  {
   "cell_type": "markdown",
   "metadata": {},
   "source": [
    "#### 1. orc+zlib 和 orc+snappy的对比\n",
    "ORC+Zlib after the columnar improvements no longer has the historic weaknesses of Zlib, so it is faster than SNAPPY to read, smaller than SNAPPY on disk and only ~10% slower than SNAPPY to write it out."
   ]
  },
  {
   "cell_type": "markdown",
   "metadata": {},
   "source": [
    "#### 2. spark使用orc+zlib存储hive表\n",
    "```sql\n",
    "create table if not exists ${distTable}(\n",
    "    featureindex string,\n",
    "    t1_primarykey string, \n",
    "    t1_clusterid string, \n",
    "    t1_xid string, \n",
    "    d1 map<string,string>, \n",
    "    t1_id string, \n",
    "    t1_zid string, \n",
    "    features string, \n",
    "    t2_primarykey string, \n",
    "    t2_clusterid string, \n",
    "    t2_xid string, \n",
    "    d2 map<string,string>, \n",
    "    t2_id string, \n",
    "    t2_zid string, \n",
    "    status string\n",
    ")\n",
    "partitioned by (save_time string)\n",
    "STORED AS ORC\n",
    "tblproperties (\"orc.compress\"=\"ZLIB\")\n",
    "```"
   ]
  },
  {
   "cell_type": "markdown",
   "metadata": {},
   "source": [
    "#### 3. 查看生成的orc文件\n",
    "1. 查看hdfs上的orc文件块信息  \n",
    "```shell  \n",
    "$ hdfs fsck hdfs://yq01-ns1/user/hive/warehouse/tmp.db/table1_hive/001319_0 -files -blocks\n",
    "```\n",
    "\n",
    "<img src=\"img/spark-orc-block.png\">\n",
    "\n",
    "2. 查看orc文件的stripe信息\n",
    "```shell\n",
    "$ hive --orcfiledump hdfs://yq01-ns1/user/hive/warehouse/tmp.db/table1_hive/001319_0 | less\n",
    "```\n",
    "\n",
    "<img src=\"img/spark-orc-stripe.png\">"
   ]
  }
 ],
 "metadata": {
  "kernelspec": {
   "display_name": "Python 3",
   "language": "python",
   "name": "python3"
  },
  "language_info": {
   "codemirror_mode": {
    "name": "ipython",
    "version": 3
   },
   "file_extension": ".py",
   "mimetype": "text/x-python",
   "name": "python",
   "nbconvert_exporter": "python",
   "pygments_lexer": "ipython3",
   "version": "3.7.0"
  }
 },
 "nbformat": 4,
 "nbformat_minor": 2
}
