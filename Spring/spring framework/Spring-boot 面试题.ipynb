{
 "cells": [
  {
   "cell_type": "markdown",
   "metadata": {},
   "source": [
    "#### 1. spring boot 是什么\n",
    "Spring Boot 提供 Spring 的引导( Boot )的功能。用各种 Starter 启动器，提供标准化的默认配置。例如：\n",
    "* spring-boot-starter-web 启动器，可以快速配置 Spring MVC 。\n",
    "* mybatis-spring-boot-starter 启动器，可以快速配置 MyBatis 。\n",
    "\n",
    "#### 2. spring boot 如何实现无代码生成和xml配置   (??)\n",
    "Spring Boot 没有引入任何形式的代码生成，它是使用的 Spring 4.0 的条件 @Conditional 注解以实现根据条件进行配置。同时使用了 Maven /Gradle 的依赖传递解析机制来实现 Spring 应用里面的自动配置。\n",
    "\n",
    "#### 3. Spring Boot 中的 Starter 是什么？\n",
    "starter 是用来对复杂项目进行依赖管理的. 它定义了一系列 pom 文件统一描述依赖\n",
    "\n",
    "#### 4. 如何大 jar 包? 如何修改启动端口   \n",
    "* 打 jar 包: 加入 spring-boot 打包插件\n",
    "* 修改启动端口: 在 application.properties 中加入 server.port=8081 属性\n",
    "\n",
    "#### 5. yaml 文件比 properties 文件的有时在哪?  \n",
    "yaml 更加结构化, 复杂配置下可读性更高\n",
    "\n",
    "#### 6. spring boot 如何管理多环境配置文件加载\n",
    "* 将 prod 和 dev 的公共配置放在 application.yaml 或 application.properties 中\n",
    "* 创建`application-{profile}.yml`或`application-{profile}.properties`文件存放不同环境特有的配置\n",
    "* 在`application.yml`或`application.properties`文件里面添加 `spring.profiles.active=xxx`来指定加载不同环境的配置. 如果不指定，则默认只使用application.yml属性文件，不会加载其他的profiles的配置\n",
    "\n",
    "#### 7. spring boot 核心注解是哪个  \n",
    "是 `@SpringBootApplication` 注解. 该注解组合了三个注解   \n",
    "* `@SpringBootConfiguration`: @Configuration 的别名. 用来使用 java config 的模式配置 bean    \n",
    "* `@EnableAutoConfiguration`   \n",
    "* `@ComponentScan`   "
   ]
  },
  {
   "cell_type": "code",
   "execution_count": null,
   "metadata": {},
   "outputs": [],
   "source": []
  }
 ],
 "metadata": {
  "kernelspec": {
   "display_name": "Python 2",
   "language": "python",
   "name": "python2"
  },
  "language_info": {
   "codemirror_mode": {
    "name": "ipython",
    "version": 2
   },
   "file_extension": ".py",
   "mimetype": "text/x-python",
   "name": "python",
   "nbconvert_exporter": "python",
   "pygments_lexer": "ipython2",
   "version": "2.7.16"
  }
 },
 "nbformat": 4,
 "nbformat_minor": 2
}
