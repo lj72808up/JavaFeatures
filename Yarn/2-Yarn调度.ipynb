{
 "cells": [
  {
   "cell_type": "markdown",
   "metadata": {},
   "source": [
    "#### 双层调度框架\n",
    "1. RespurceManager分配资源以启动ApplicationMaster  \n",
    "2. ApplicationMaster申请资源启动Task\n",
    "\n",
    "#### 基于资源预留的调度策略  \n",
    "1. 资源不够时, 为task预留资源, 等待其他应用释放资源, 直到资源充足   \n",
    "2. 与\"all or nothing\"策略不同 (mesos)  \n",
    " 资源不够时直接决绝此次申请\n",
    " \n",
    "#### 调度语义 \n",
    "* 申请任意K个Container (MapReduce,TEZ)  \n",
    "* 申请K个Container分布在K个节点上 (MPI, HBASE)\n",
    "* 主动释放资源  \n",
    "* 节点标签调度 - 复杂场景"
   ]
  },
  {
   "cell_type": "markdown",
   "metadata": {},
   "source": [
    "#### 提供多种资源调度器\n",
    "* FIFO\n",
    "* Fair Scheduler\n",
    "* Capacity Scheduler\n",
    "\n",
    "#### 多租户资源调度器\n",
    "* 支持资源按比例分配\n",
    "* 支持层级划分队列方式\n",
    "* 支持资源抢占\n",
    "\n",
    "#### 多类型资源调度\n",
    "* [采用RDF算法](https://cs.stanford.edu/~matei/papers/2011/nsdi_drf.pdf)"
   ]
  },
  {
   "cell_type": "markdown",
   "metadata": {},
   "source": [
    "### Yarn中的单队列调度器\n",
    "#### FIFO调度器\n",
    "* 所有应用都向一个队列提交任务  \n",
    "* 先提交的任务先分配资源\n",
    "* 局限性明显  \n",
    "    * 资源利用率低, 无法交叉运行作业\n",
    "    * 不够灵活, 紧急任务无法插队\n",
    "    * 不支持多租户\n",
    "    \n",
    "### Yarn中的多队列调度器\n",
    "* 有多个队列来缓存提交过来的任务\n",
    "* 每个队列可单独指定调度策略\n",
    "* 每个队列占用一定比例的集群资源\n",
    "* 多队列组织结构使用分层的树形结构\n",
    "<img src=\"img/duojiduilie2.png\" height=\"50%\" width=\"50%\" > \n",
    "* 多级队列调度框架\n",
    "    * 三级调度框架(依次选择队列,作业和任务)\n",
    "        * 选择队列常用机制  \n",
    "            最小资源利用率者优先 (used\\total)\n",
    "        * 选择作业(应用程序)常用机制\n",
    "            优先级,FIFO,公平分配等\n",
    "        * 选择任务(Container)常用机制  \n",
    "            优先级, 数据本地性, 依赖库, tag等\n",
    "            \n",
    "#### CapacityScheduler\n",
    "* 多个队列内部采用FIFO调度应用\n",
    "* 每个队列分配一定资源比例\n",
    "* 可限制每个用户使用的资源量\n",
    "\n",
    "#### FairScheduler\n",
    "* 按权重分配资源给应用, 权重越大, 可使用资源越多\n",
    "* 每个应用一个队列\n",
    "* 段作业延时小\n",
    "\n",
    "#### 标签调度\n",
    "* 为每个NodeManager设置一个标签\n",
    "* 每个队列归属于几个标签, 让队列中的作业运行在对应标签的机器上"
   ]
  }
 ],
 "metadata": {
  "kernelspec": {
   "display_name": "Python 3",
   "language": "python",
   "name": "python3"
  },
  "language_info": {
   "codemirror_mode": {
    "name": "ipython",
    "version": 3
   },
   "file_extension": ".py",
   "mimetype": "text/x-python",
   "name": "python",
   "nbconvert_exporter": "python",
   "pygments_lexer": "ipython3",
   "version": "3.6.5"
  }
 },
 "nbformat": 4,
 "nbformat_minor": 2
}
