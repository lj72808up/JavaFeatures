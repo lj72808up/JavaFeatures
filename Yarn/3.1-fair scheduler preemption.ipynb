{
 "cells": [
  {
   "cell_type": "markdown",
   "metadata": {},
   "source": [
    "#### 一. Enabling Preemption\n",
    "* YARN FairScheduler会抢占在某些队列中处于running状态的container, 如果以下三个条件均满足:\n",
    "    * 该队列申请到的资源超过其Instantaneous FairShare\n",
    "    * 有1个活多个处于饥饿状态的app\n",
    "    * 开启preemption\n",
    "* 集群利用率通常是开启preemption的先决条件, 在利用率低的集群上开启container抢占机制会引起不必要的container波动, 集群利用率通常是由vCores 或memory中使用较大的那个值\n",
    "\n",
    "* 队列可以声明成不能被强占,来突出他的高优先级\n",
    "\n",
    "* 有两种类型的饥饿 starvation\n",
    "    * FairShare Starvation\n",
    "    * MinShare Starvation"
   ]
  },
  {
   "cell_type": "markdown",
   "metadata": {},
   "source": [
    "#### 二. 两种饥饿\n",
    "* FairShare Starvation\n",
    "    1. 一个app是FairShare Starvation的, 如果以下条件均满足:\n",
    "        * app所需资源并未得到满足\n",
    "        * app的占用资源小于他的Instantaneous FairShare(整数)乘以FairShare Preemption Threshold(百分比)  \n",
    "        * app满足以上两个条件至少持续了FairShare Preemption Timeout时间   \n",
    "          FairShare Preemption Timeout默认不去配置, FairShare Preemption Threshold默认为0.5,   \n",
    "          FairShare Preemption Timeout为了延缓资源抢占的时间\n",
    "  \n",
    "    假设已配置2个参数:  FairShare Preemption Timeout=5, FairShare Preemption Threshold=0.8, 这表示如果app在5秒内还没占用到其Instantaneous FairShare的80%的资源, \n",
    "\n",
    "    2. 开启preemption, 并不能保证队列中的app获得其全部的Instantaneous FairShare, 仅仅表示在preemption timeout超时时间后, app能占用其`Instantaneous FairShare*阈值` 的资源"
   ]
  },
  {
   "cell_type": "markdown",
   "metadata": {},
   "source": [
    "* MinShare Starvation\n",
    "    1. 一个队列是MinShare Starvation的, 如果同时满足以下条件\n",
    "        * 队列中至少有一个app存在不满足的资源要求的\n",
    "        * 队列的资源占用小于其MinShare\n",
    "        * 队列的资源占用小于其MinShare持续了至少MinShare Preemption Timeout的时间\n",
    "    2. MinShare Preemption Timeout设置为了延缓进行资源抢占的时间\n"
   ]
  },
  {
   "cell_type": "markdown",
   "metadata": {},
   "source": [
    "* 一个container可以被强占, 除非以下2个条件同时满足\n",
    "    * 这个container的作业所在的queue是可以被强占的\n",
    "    * 杀死container不会使得app占用的资源小于其fair share(即不会因为被抢占而变成fairshare starv)\n",
    "    * 无论是否配置了fair share饥饿和minshare饥饿, 都只有占用资源大于其Instantaneous FairShar出的作业可以被强占"
   ]
  }
 ],
 "metadata": {
  "kernelspec": {
   "display_name": "Python 3",
   "language": "python",
   "name": "python3"
  },
  "language_info": {
   "codemirror_mode": {
    "name": "ipython",
    "version": 3
   },
   "file_extension": ".py",
   "mimetype": "text/x-python",
   "name": "python",
   "nbconvert_exporter": "python",
   "pygments_lexer": "ipython3",
   "version": "3.7.0"
  }
 },
 "nbformat": 4,
 "nbformat_minor": 2
}
