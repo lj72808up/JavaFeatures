{
 "cells": [
  {
   "cell_type": "markdown",
   "metadata": {},
   "source": [
    "#### ENTRYPOINT\n",
    "ENTRYPOINT 用来配置container运行起来后执行的进程\n",
    "\n",
    "1. ENTRYPOINT有两种模式\n",
    "    * `exec`模式 : `ENTRYPOINT [\"executable\", \"param1\", \"param2\"]`\n",
    "    * `shell`模式 : `ENTRYPOINT command param1 param2`\n",
    "    \n",
    "2. CMD and ENTRYPOINT 的交互\n",
    "    * 当container中要运行一个进程时, 需要定义Entrypoint\n",
    "    * 当定义了ENTRYPOINT后, CMD定义的内容会被作为ENTRYPOINT的参数"
   ]
  },
  {
   "cell_type": "code",
   "execution_count": null,
   "metadata": {},
   "outputs": [],
   "source": []
  }
 ],
 "metadata": {
  "kernelspec": {
   "display_name": "Python 3",
   "language": "python",
   "name": "python3"
  },
  "language_info": {
   "codemirror_mode": {
    "name": "ipython",
    "version": 3
   },
   "file_extension": ".py",
   "mimetype": "text/x-python",
   "name": "python",
   "nbconvert_exporter": "python",
   "pygments_lexer": "ipython3",
   "version": "3.7.4"
  }
 },
 "nbformat": 4,
 "nbformat_minor": 2
}
