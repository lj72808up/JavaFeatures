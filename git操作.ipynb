{
 "cells": [
  {
   "cell_type": "markdown",
   "metadata": {},
   "source": [
    "#### 1. git命令\n",
    "```bash\n",
    " 1. git rm\n",
    " 2. git mv  只把重命名操作add, 未把对源文件的修改add, commit只提交了文件的重命名, 还需要另外提交文件内容的修改\n",
    " 3. git checkout --filename 撤销对该文件修改后未提交的内容\n",
    " 4. git remote \n",
    "``` \n",
    "\n",
    "#### 2. git 本地分支\n",
    "```bash\n",
    "1. git branch testing -- 创建testing分支: 在所提交的对象上创建指针.但未切换到testing分支\n",
    "\t\t\t\t\t  -- HEAD指针指向当所在分支, 是当前分支名的一个别名\n",
    "2. git checkout testing -- 切换分支到testing,此时HEAD 就指向 testing 分支\n",
    "\n",
    "3. git commit -m 'modify [testing]'\n",
    "4. git checkout master -- 切换回master分支\n",
    "   git merge testing  -- 合并testing分支\n",
    "\n",
    "\n",
    "5. 正在testing上开发着, 要处理一个特殊需求, 在该分支上创建出一个test2分支, 并切换到test2:\n",
    "\tgit checkout -b test1  -- 相当于git branch test1 + git checkout test1\n",
    "\n",
    "6. git fetch -- 令从服务器上抓取本地没有的数据时，它并不会修改工作目录中的内容。 它只会获取数据然后让你自己合并。 \n",
    "  git pull = git fetch + git merge\n",
    "```\n",
    "\n",
    "#### 3. git远程分支\n",
    "远程分支和本地分支属于两套索引, 每次跟踪服务端的分支, 就会自动在本地创建同名分支\n",
    "```bash\n",
    "7.  git checkout [localbranch]  切换到origin/localbranch对应的本地分支\n",
    "\n",
    "8. git push origin [localbranch]:[remotebranch]  -- 将本地的localbranch推送到remotebranch, 如果没有则创建\n",
    "   git push origin test1:test1  -- 将本地的test1分支推送到远程的test1分支\n",
    "   git push origin test1  -- 将当前分支推送到远程的test1分支\n",
    "````"
   ]
  }
 ],
 "metadata": {
  "kernelspec": {
   "display_name": "Python 3",
   "language": "python",
   "name": "python3"
  },
  "language_info": {
   "codemirror_mode": {
    "name": "ipython",
    "version": 3
   },
   "file_extension": ".py",
   "mimetype": "text/x-python",
   "name": "python",
   "nbconvert_exporter": "python",
   "pygments_lexer": "ipython3",
   "version": "3.7.0"
  }
 },
 "nbformat": 4,
 "nbformat_minor": 2
}
