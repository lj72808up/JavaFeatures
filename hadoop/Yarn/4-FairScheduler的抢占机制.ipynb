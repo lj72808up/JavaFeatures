{
 "cells": [
  {
   "cell_type": "markdown",
   "metadata": {},
   "source": [
    "### Starvation and Preemption\n",
    "饥饿和抢占是一组相关的概念, 最好放在一起讨论. 如下的fairshare均指Instantaneous fairshare\n",
    "\n",
    "#### 一. enable preemption    \n",
    "fairScheduler 会抢占一些队列中的container, 如果该队列的资源使用超过了队列的Instantaneous FairShare, 且有如下两个条件发生: \n",
    "* 存在饥饿状态的应用\n",
    "* preemption是enabled状态\n",
    "\n",
    "集群在什么时候Preemption是enabled的? 档如下两个条件同时发生时:\n",
    "* `yarn.scheduler.fair.preemption`参数设置为true\n",
    "* cluster级的资源利用率超过了一个阈值, 默认是80%, 由参数`yarn.scheduler.fair.premption.cluster-utilization-threshold`设置  \n",
    "\n",
    "因为在cluster级的资源利用率很低时对container执行preemption的话会影响集群效率, cluster级的资源利用率是根据cpu core和内存使用量计算得来的.  \n",
    "当然, 队列也可以被设置为不可被抢占的, 为了让该队列会有较高的优先级\n",
    "\n",
    "#### 二. fairshare starvation\n",
    "一个applicaiton时fareshare starved的, 如果以下条件全部满足: \n",
    "* 该applicaiton有未满足的资源\n",
    "* 该application的资源占有量低于其Instantaneous fairshare\n",
    "* 该application占用的资源, 小于1个阈值* 它的Instataneous fairshare, 且超过了fairshare preemption timeout  \n",
    "  该阈值默认为0.5, 而fairshare preemption timeout默认未被设置, 因此需要显式的被设置才能让一个应用成为饥饿的\n",
    "  \n",
    "&nbsp;&nbsp;&nbsp;&nbsp;值得注意的是, 开启preemption也不能保证1个application或queue可以得到其所有的Instantaneous fairshare, 只是说在fairshare preemption timeout之后, application的资源占用可以达到`阈值*其Instantaneous fairshare`   \n",
    "&nbsp;&nbsp;&nbsp;&nbsp;如果想把一个queue的优先级提高, 可以把该queue的starvation阈值调的很高, stavation timeout的时间调的很低, 且设置为不可被抢占的  \n",
    "&nbsp;&nbsp;&nbsp;&nbsp;Instantaneous fairshare是queue级别的, 而fairshare starvation是application级别的. 这很重要, 因为可能一个队列并不是饥饿的, 但处在其中的applicaiton却是饥饿的. 一个占用资源超过其Instantaneous fairshare的application, 其container可以被任何队列的starved application占用  \n",
    "\n",
    "#### 三. minshare starvation\n",
    "一个queue是minshare starvation的, 只要如下条件都满足 : \n",
    "* 队列中存在为满足资源的application\n",
    "* 队列的资源占用率小于其minshare\n",
    "* 队列的资源占用率小于其minshare, 持续了minshare preemption timeout的时间    \n",
    "  该超时时间默认未被设置, 因此如果想要让queue可能被认为是minshare starvation的, 就需要显示的被设置  \n",
    "  \n",
    "minshare starvation是对列级别的, 一个application不可能处于minshare starvation状态\n",
    "\n",
    "#### 四. Containers to preemption\n",
    "当有多个节点同时满足被抢占的资源请求时, 优先选择在container数量最少的节点抢占. 一个container时可被抢占的, 如果以下两个条件同时满足 : \n",
    "* 该container所属的queue被设置成可被抢占的\n",
    "* 杀死该container后, 不会引起对应的application占用资源小于其fairshare  \n",
    "\n",
    "minshare并不用于决定哪个container被占用, 它只用于配置是否是starvation的. 这很重要, 值得反复重复, 无论fairshare和minshare starvation是否配置了, 只有超过其fairshare的application可被抢占. 如下表定义: \n",
    "<img src=\"img/preemption.png\">\n",
    "\n",
    "#### 五. 配置starvation的最佳实践\n",
    "配置fairshare starvation是被推荐的, 而不推荐配置minshare starvation. 因为这会引起额外的复杂度 : \n",
    "* 当queue发生minshare starvation, 队列中的container超过了minshare但没有超过fairshare的不会被抢占\n",
    "* 同一个队列中的application, fairshare-starved是相同的\n",
    "* 确保所有的minimum resources加起来后小于整体资源"
   ]
  }
 ],
 "metadata": {
  "kernelspec": {
   "display_name": "Python 3",
   "language": "python",
   "name": "python3"
  },
  "language_info": {
   "codemirror_mode": {
    "name": "ipython",
    "version": 3
   },
   "file_extension": ".py",
   "mimetype": "text/x-python",
   "name": "python",
   "nbconvert_exporter": "python",
   "pygments_lexer": "ipython3",
   "version": "3.7.0"
  }
 },
 "nbformat": 4,
 "nbformat_minor": 2
}
