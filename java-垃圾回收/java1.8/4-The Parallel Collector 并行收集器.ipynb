{
 "cells": [
  {
   "cell_type": "markdown",
   "metadata": {},
   "source": [
    "The Parallel Collector (也叫吞吐量收集器), 和 serial collector 收集器类似, 主要的不同在于使用多线程加速垃圾收集. 打开参数`-XX:+UseParallelGC`开启这个收集器, 默认情况下, minor 和 major 收集都会并行执行来进一步降低垃圾收集的消耗.\n",
    "\n",
    "\n",
    "* 一个N核的机器( N>8 ), the parallel collector 将使用$fN$个线程进行垃圾回收. 系数$f$固定, 等于$\\frac{5}{8}$\n",
    "* 一个N核的机器( N<8 ), the parallel collector 将使用核心数量个线程进行垃圾回收\n",
    "* 某些平台下, 当核心数 N>8 时, 系数可能是$\\frac{5}{16}$   \n",
    "* 在单核机器上, the parallel collector 的表现可能不如  the serial collector ( 因为并行操作下的同步, 比如synchronized ). 当应用有中型或大型的堆时, 两核心的机器上the parallel collector 表现也要比 the serial collector 更好, 多余两个核心的机器上 the parallel collector 的表现会好的会更多"
   ]
  },
  {
   "cell_type": "code",
   "execution_count": null,
   "metadata": {},
   "outputs": [],
   "source": []
  }
 ],
 "metadata": {
  "kernelspec": {
   "display_name": "Python 3",
   "language": "python",
   "name": "python3"
  },
  "language_info": {
   "codemirror_mode": {
    "name": "ipython",
    "version": 3
   },
   "file_extension": ".py",
   "mimetype": "text/x-python",
   "name": "python",
   "nbconvert_exporter": "python",
   "pygments_lexer": "ipython3",
   "version": "3.7.4"
  }
 },
 "nbformat": 4,
 "nbformat_minor": 2
}
