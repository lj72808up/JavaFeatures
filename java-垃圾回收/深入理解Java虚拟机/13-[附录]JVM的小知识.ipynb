{
 "cells": [
  {
   "cell_type": "markdown",
   "metadata": {},
   "source": [
    "### 一. 如何确定一个对象占用的内存大小\n",
    "#### 1. 一个对象在内存中的表示可以分为3部分:  \n",
    "* **对象头** :   \n",
    "  一般占用2个机器码:\n",
    "     * 32位机器对象头占64bit(8字节), \n",
    "     * 64位机器对象头占128bit(16字节)\n",
    "     * 数组型对象, 还要占用额外的8个字节表示数组长度\n",
    "* **实例数据** : \n",
    "  存储类中的各种成员变量, 不同类型的成员变量占用内存大小如下\n",
    "    * 1字节的: boolean, byte\n",
    "    * 2字节的: char, short\n",
    "    * 4字节的: int , float\n",
    "    * 8字节的: long, double\n",
    "    * 引用类型站的字节数, 和机器长度有关, 因为要引用整个机器内存, 所以:  \n",
    "        * 32bit机器下占32bit(4字节)\n",
    "        * 64位机器下占64bit(8字节)\n",
    "* **对齐填充字节(padding)**  \n",
    "   hotspot虚拟机位8字节对齐, (对象头+实例对象)占用不足8字节的, 要填充到8字节\n",
    "   \n",
    "#### 2. 对象占用内存 = 对象头 + 实例数据 + padding填充 = 8字节的倍数字节"
   ]
  },
  {
   "cell_type": "code",
   "execution_count": null,
   "metadata": {},
   "outputs": [],
   "source": []
  }
 ],
 "metadata": {
  "kernelspec": {
   "display_name": "Python 3",
   "language": "python",
   "name": "python3"
  },
  "language_info": {
   "codemirror_mode": {
    "name": "ipython",
    "version": 3
   },
   "file_extension": ".py",
   "mimetype": "text/x-python",
   "name": "python",
   "nbconvert_exporter": "python",
   "pygments_lexer": "ipython3",
   "version": "3.7.0"
  }
 },
 "nbformat": 4,
 "nbformat_minor": 2
}
