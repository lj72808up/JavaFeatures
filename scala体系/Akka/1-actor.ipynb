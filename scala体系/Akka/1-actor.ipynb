{
 "cells": [
  {
   "cell_type": "markdown",
   "metadata": {},
   "source": [
    "### Stopping actors\n",
    "\n",
    "#### 1. stop actor\n",
    "stop actor 一般调用 `ActorContext` 或 `ActorSystem` 的 stop 方法:\n",
    "* `context.stop` 用来停止自己或子actor; \n",
    "* `system.stop` 用来停止顶级 actor.   \n",
    "\n",
    "真实的停止动作是异步的, 就是说 stop 方法可能会在 actor 被停止前返回\n",
    "\n",
    "```scala\n",
    "class MyActor extends Actor {\n",
    "  val child: ActorRef = ???\n",
    "\n",
    "  def receive = {\n",
    "    case \"interrupt-child\" =>\n",
    "      context.stop(child)\n",
    "\n",
    "    case \"done\" =>\n",
    "      context.stop(self)\n",
    "  }\n",
    "}\n",
    "```\n",
    "停止 actor 分为2步骤: \n",
    "1. 挂起 mailbox 操作, 发起 stop 命令到所有他的子 actor, 然后等待子 actor 的 termination 回馈, 直到所有子 actor 回馈完毕. \n",
    "2. 最后关闭自己\n",
    "\t* 调用 `postStop` 方法\n",
    "\t* 清空 mailbox\n",
    "\t* 发送 Terminated 信号给 `DeathWatch`\n",
    "\t* 告知自己的 supervisor\n",
    "这个步骤确保 actor 系统子树有序的停止, stop 命令传播到叶子节点并等待其返回确认通知. \n",
    "\n",
    "#### 2. PoisonPill\n",
    "可以通过向 actor 发送 `akka.actor.PoisonPill` 消息来停止一个 actor. `PoisonPill` 会想普通消息一样进入 mailbox 队列, 并且在 mailbox 中的已经存在的所有消息处理后执行. 因此, 与 stop 不同的是, `PoisonPill` 会等待mailbox消息处理完毕后再停止\n",
    "```scala\n",
    "p2 ! PoisonPill\n",
    "```\n",
    "\n",
    "#### 3. Killing an Actor\n",
    "可以向 actor 发送 Kill 消息来杀死 actor, 这回导致 actor 抛出 `ActorKilledException` 异常, 因此可以被其 supervisor 检测到, 并决定是重启 actor 还是直接停掉actor (取决于监控策略) \n",
    "```scala\n",
    "context.watch(victim) // watch the Actor to receive Terminated message once it dies\n",
    "victim ! Kill\n",
    "```\n",
    "\n",
    "#### 4. 停止 actor 的推荐做法\n",
    "不建议使用 `PoisonPill` 或 `Kill` 来设计 actor 的交互操作, 而是推荐使用类似 `PleaseCleanupAndStop` 这样的消息让 actor 知道如何处理停止. `PoisonPill` 或 `Kill` 是的无法控制 actor 的停止逻辑 /\n"
   ]
  }
 ],
 "metadata": {
  "kernelspec": {
   "display_name": "Python 2",
   "language": "python",
   "name": "python2"
  },
  "language_info": {
   "codemirror_mode": {
    "name": "ipython",
    "version": 2
   },
   "file_extension": ".py",
   "mimetype": "text/x-python",
   "name": "python",
   "nbconvert_exporter": "python",
   "pygments_lexer": "ipython2",
   "version": "2.7.16"
  }
 },
 "nbformat": 4,
 "nbformat_minor": 2
}
