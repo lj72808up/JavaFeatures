{
 "cells": [
  {
   "cell_type": "markdown",
   "metadata": {},
   "source": [
    "#### 1. scala数据结构的继承层级\n",
    "1. Seq:  \n",
    "  1. Seq是有先后顺序的序列  \n",
    "  2. IndexedSeq可以通过角标快速访问任意元素  \n",
    "  3. 不可变序列如下    \n",
    "  <img src=\"img/bukebianseq.png\" height=\"70%\" width=\"70%\">\n",
    "  4. 可变序列如下\n",
    "  <img src=\"img/kebianseq.png\" height=\"70%\" width=\"70%\">"
   ]
  },
  {
   "cell_type": "markdown",
   "metadata": {},
   "source": [
    "#### 2. 不可变列表List\n",
    "1. 列表List由head和tail组成  \n",
    "  1. head: 1个元素  \n",
    "  2. tail: 一个列表  \n",
    "2. 由于列表的tail属性, 仍是一个列表, 所以列表可以自由地写称递归形式  \n",
    "3. 没有元素的列表记做`Nil`"
   ]
  },
  {
   "cell_type": "code",
   "execution_count": 2,
   "metadata": {},
   "outputs": [
    {
     "data": {
      "text/plain": [
       "\u001b[36mdigits\u001b[39m: \u001b[32mList\u001b[39m[\u001b[32mInt\u001b[39m] = \u001b[33mList\u001b[39m(\u001b[32m4\u001b[39m, \u001b[32m2\u001b[39m)\n",
       "\u001b[36mres1_1\u001b[39m: \u001b[32mList\u001b[39m[\u001b[32mInt\u001b[39m] = \u001b[33mList\u001b[39m(\u001b[32m2\u001b[39m)\n",
       "\u001b[36mres1_2\u001b[39m: \u001b[32mList\u001b[39m[\u001b[32mInt\u001b[39m] = \u001b[33mList\u001b[39m()"
      ]
     },
     "execution_count": 2,
     "metadata": {},
     "output_type": "execute_result"
    }
   ],
   "source": [
    "// 列表的tail属性\n",
    "val digits = List(4,2)\n",
    "digits.tail\n",
    "digits.tail.tail"
   ]
  },
  {
   "cell_type": "code",
   "execution_count": 3,
   "metadata": {},
   "outputs": [
    {
     "name": "stdout",
     "output_type": "stream",
     "text": [
      "15\n"
     ]
    },
    {
     "data": {
      "text/plain": [
       "defined \u001b[32mfunction\u001b[39m \u001b[36msum\u001b[39m"
      ]
     },
     "execution_count": 3,
     "metadata": {},
     "output_type": "execute_result"
    }
   ],
   "source": [
    "// 列表递归\n",
    "def  sum(lst:List[Int]):Int = lst match {\n",
    "    case Nil => 0\n",
    "    case h::t => h + sum(t)   // 此处的::, 将列表析构成head+tail\n",
    "}\n",
    "println(sum(List(9,4,2)))"
   ]
  },
  {
   "cell_type": "markdown",
   "metadata": {},
   "source": [
    "#### 3. 可变列表LinkedList\n",
    "1. 可变的LinkedList通过`next`指针迭代元素\n",
    "2. 通过`elem`属性获取当前元素"
   ]
  },
  {
   "cell_type": "code",
   "execution_count": 9,
   "metadata": {},
   "outputs": [
    {
     "name": "stdout",
     "output_type": "stream",
     "text": [
      "LinkedList(1, 0, 7, 0)\n"
     ]
    },
    {
     "data": {
      "text/plain": [
       "\u001b[36mlist\u001b[39m: \u001b[32mcollection\u001b[39m.\u001b[32mmutable\u001b[39m.\u001b[32mLinkedList\u001b[39m[\u001b[32mInt\u001b[39m] = \u001b[33mLinkedList\u001b[39m(\u001b[32m1\u001b[39m, \u001b[32m0\u001b[39m, \u001b[32m7\u001b[39m, \u001b[32m0\u001b[39m)\n",
       "\u001b[36mcur\u001b[39m: \u001b[32mcollection\u001b[39m.\u001b[32mmutable\u001b[39m.\u001b[32mLinkedList\u001b[39m[\u001b[32mInt\u001b[39m] = \u001b[33mLinkedList\u001b[39m()"
      ]
     },
     "execution_count": 9,
     "metadata": {},
     "output_type": "execute_result"
    }
   ],
   "source": [
    "var list = scala.collection.mutable.LinkedList(1,-2,7,-9)\n",
    "var cur = list  // 用cur记录迭代到的指针\n",
    "while (cur != Nil){\n",
    "    var cur_elem = cur.elem\n",
    "    if(cur_elem<0)\n",
    "        cur.elem = 0\n",
    "    cur = cur.next\n",
    "}\n",
    "println(list)"
   ]
  },
  {
   "cell_type": "markdown",
   "metadata": {},
   "source": [
    "#### 4. Stream\n",
    "1. 流是尾部`懒计算`的不可变List, 只有被用到时才计算\n",
    "2. Stram是List的懒计算版本  \n",
    "3. 一般Stram是通过List转化而来, 使用List.toStram  \n",
    "4. 使用tail对Stream的下一个元素求值,head取当前Stream的值  \n",
    "5. 使用`#::`构建无限元素的Stream\n",
    "6. 使用`take(n).force`强制获取多个值  \n",
    " 不要直接使用`force`, 这会导致循环求值, 直到内存溢出"
   ]
  },
  {
   "cell_type": "code",
   "execution_count": 26,
   "metadata": {},
   "outputs": [
    {
     "name": "stdout",
     "output_type": "stream",
     "text": [
      "Stream(1, ?)\n",
      "1\n",
      "2\n",
      "3\n",
      "4\n",
      "5\n"
     ]
    },
    {
     "data": {
      "text/plain": [
       "\u001b[36ma\u001b[39m: \u001b[32mStream\u001b[39m[\u001b[32mInt\u001b[39m] = \u001b[33mStream\u001b[39m(\n",
       "\n",
       ")"
      ]
     },
     "execution_count": 26,
     "metadata": {},
     "output_type": "execute_result"
    }
   ],
   "source": [
    "// 有限元素个数的Stream\n",
    "var a = List(1,2,3,4,5).toStream\n",
    "println(a)\n",
    "while(a != Nil){\n",
    "    println(a.head)\n",
    "    a = a.tail\n",
    "}"
   ]
  },
  {
   "cell_type": "code",
   "execution_count": 5,
   "metadata": {},
   "outputs": [
    {
     "name": "stdout",
     "output_type": "stream",
     "text": [
      "Stream(1, ?)\n",
      "Stream(4, ?)\n",
      "Stream(9, ?)\n",
      "Stream(1, 4, 9)\n"
     ]
    },
    {
     "data": {
      "text/plain": [
       "defined \u001b[32mfunction\u001b[39m \u001b[36mnumFrom\u001b[39m\n",
       "\u001b[36msquares\u001b[39m: \u001b[32mStream\u001b[39m[\u001b[32mInt\u001b[39m] = \u001b[33mStream\u001b[39m(\n",
       "  \u001b[32m1\u001b[39m,\n",
       "  \u001b[32m4\u001b[39m,\n",
       "  \u001b[32m9\u001b[39m,\n",
       "  \u001b[32m16\u001b[39m,\n",
       "  \u001b[32m25\u001b[39m,\n",
       "  \u001b[32m36\u001b[39m,\n",
       "  \u001b[32m49\u001b[39m,\n",
       "  \u001b[32m64\u001b[39m,\n",
       "  \u001b[32m81\u001b[39m,\n",
       "  \u001b[32m100\u001b[39m,\n",
       "  \u001b[32m121\u001b[39m,\n",
       "\u001b[33m...\u001b[39m"
      ]
     },
     "execution_count": 5,
     "metadata": {},
     "output_type": "execute_result"
    }
   ],
   "source": [
    "// 无限元素个数的Stream\n",
    "def numFrom(n:Int):Stream[Int] = n #:: numFrom(n+1)\n",
    "val squares = numFrom(1).map(x=>x*x)\n",
    "println(squares)\n",
    "println(squares.tail)\n",
    "println(squares.tail.tail)\n",
    "println(squares.take(3).force)"
   ]
  }
 ],
 "metadata": {
  "kernelspec": {
   "display_name": "Scala",
   "language": "scala",
   "name": "scala"
  },
  "language_info": {
   "codemirror_mode": "text/x-scala",
   "file_extension": ".scala",
   "mimetype": "text/x-scala",
   "name": "scala211",
   "nbconvert_exporter": "script",
   "pygments_lexer": "scala",
   "version": "2.11.11"
  }
 },
 "nbformat": 4,
 "nbformat_minor": 2
}
