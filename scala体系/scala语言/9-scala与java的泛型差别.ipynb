{
 "cells": [
  {
   "cell_type": "markdown",
   "metadata": {},
   "source": [
    "#### 一. First, a little background\n",
    "1. 数组是协变的  \n",
    "面向对象语言是多态的(polymorphism). java中,`Integer[]`是`Number[]`的子类, 他们都是`Object[]`的子类. 即java中的数组默认是协变的.  \n",
    "除了协变, 还有3个描述关系的术语:\n",
    "    1. **covariance协变 :**   给定A <: B(表示A是B的子类),存在`T[A]` <: `T[B]`\n",
    "    2. **contravariant逆变** :   给定A <: B, 存在 `T[B]` <: `T[A]`\n",
    "    3. **invariant不变**: 给定A <: B,`T[A]`与`T[B]`不存在关系     \n",
    "由于数组是协变的, 所以数组满足多态\n",
    "\n",
    "2. 泛型不是协变的   \n",
    "jdk1.5以后引入了泛型. 泛型允许任何的类拥有类型标签(type tag), 这和数组一样(`int[]`数组中只能存在int型变量); 与数组不同的是, 泛型不是协变的. 所以在java中, `MyClass<String>`不是`MyClass<Object>`的子类, 即泛型没有数组一样的多态特性, 也不能把`List<String>`传进`List<Object>`的方法中. 这使得不得不进行一些丑陋的类型强转, 这在运行时是很危险的"
   ]
  },
  {
   "cell_type": "markdown",
   "metadata": {},
   "source": [
    "#### 二. 通配符(wildcard)绑定治愈\n",
    "1. 通配符绑定实现多态  \n",
    "为了实现泛型多态(协变,逆变),可以使用通配符绑定. java中的通配符上下界绑定有2种:\n",
    "```java\n",
    "\n",
    "```\n",
    "null被看做一切类的子类实例"
   ]
  },
  {
   "cell_type": "code",
   "execution_count": null,
   "metadata": {},
   "outputs": [],
   "source": []
  }
 ],
 "metadata": {
  "kernelspec": {
   "display_name": "Python 3",
   "language": "python",
   "name": "python3"
  },
  "language_info": {
   "codemirror_mode": {
    "name": "ipython",
    "version": 3
   },
   "file_extension": ".py",
   "mimetype": "text/x-python",
   "name": "python",
   "nbconvert_exporter": "python",
   "pygments_lexer": "ipython3",
   "version": "3.7.0"
  }
 },
 "nbformat": 4,
 "nbformat_minor": 2
}
