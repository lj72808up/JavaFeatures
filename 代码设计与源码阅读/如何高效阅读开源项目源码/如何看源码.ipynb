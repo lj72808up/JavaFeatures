{
 "cells": [
  {
   "cell_type": "markdown",
   "metadata": {},
   "source": [
    "## Intelij Idea快捷键\n",
    "#### 1. 关闭输入法的快捷键\n",
    "<img src=\"img/inputshutdown.png\" width=\"60%\">\n",
    "\n",
    "#### 2. idea 快捷键\n",
    "1. 跳到接口的某个方法的实现方法   \n",
    "在接口的方法上按`ctrl+alt+鼠标点击(B)`\n",
    "2. 跳到某个接口的实现类  \n",
    "在接口上按`ctrl+alt+鼠标点击(B)`  \n",
    "3. 查看类的UML   \n",
    "`右键->Diagrams-->Show Diagram(或Show Diagram Popup)`\n",
    "4. 快速浏览某个类的结构(显示有哪些方法变量)  \n",
    "    * `ctrl+f12`: 悬浮的显示\n",
    "    * `ALT+7`: 调出Structure面板, 显示内容和`ctrl+f12`一致\n",
    "5. 为代码加书签  \n",
    "   IDEA 书签分为两种:\n",
    "    * 匿名书签，可以生成无数个，使用快捷键 `F11` 快速生成。\n",
    "    * 标记书签，可以用数字或字母标记书签，总共只能生成 10 个数字以及 26 个字母的标记书签，使用快捷键 `Ctrl+F11`生成。\n",
    "    * `ALT+2`可以打开书签面板, 里面显示匿名标签和标技书签\n",
    "6. `ALT+F7`: 以面板形式查看哪些地方调用了这个方法\n",
    "7. 某些类属性或方法内的变量是怎么被修改的, 可以从Analyse视图查看\n",
    "<img src=\"img/analysefield.png\" width=\"40%\">\n",
    "8. `CTRL+ALT+H` : 以面板方式, 查看某个方法的调用链"
   ]
  },
  {
   "cell_type": "markdown",
   "metadata": {},
   "source": [
    "## UML图\n",
    "\n",
    "#### 1. 活动图\n",
    "<img src=\"img/uml1.png\">\n",
    "\n",
    "<img src=\"img/uml2.png\" width=\"90%\">\n",
    "\n",
    "\n",
    "#### 2. 顺序图(序列图, 时序图)\n",
    "<img src=\"img/uml3.png\" width=\"80%\">"
   ]
  }
 ],
 "metadata": {
  "kernelspec": {
   "display_name": "Python 3",
   "language": "python",
   "name": "python3"
  },
  "language_info": {
   "codemirror_mode": {
    "name": "ipython",
    "version": 3
   },
   "file_extension": ".py",
   "mimetype": "text/x-python",
   "name": "python",
   "nbconvert_exporter": "python",
   "pygments_lexer": "ipython3",
   "version": "3.7.4"
  }
 },
 "nbformat": 4,
 "nbformat_minor": 2
}
