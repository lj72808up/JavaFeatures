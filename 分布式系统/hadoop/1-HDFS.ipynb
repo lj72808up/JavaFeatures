{
 "cells": [
  {
   "cell_type": "markdown",
   "metadata": {},
   "source": [
    "### [HDFS论文](https://static.googleusercontent.com/media/research.google.com/zh-CN//archive/gfs-sosp2003.pdf)"
   ]
  },
  {
   "cell_type": "markdown",
   "metadata": {},
   "source": [
    "### 一. HDFS文件系统的假设和目标\n",
    "#### 1. 硬件失败是正常的\n",
    "* hdfs认为Hardware Failure属于正常情况而非一个exeption; 一些组件会偶尔失效\n",
    "* 因此,hdfs的目标是能发现这些硬件错误, 并自动快速的从中恢复过来\n",
    "\n",
    "#### 2. 流式文件访问   \n",
    "* HDFS是为批处理提供的文件系统, 而不是为了提供一个与用户交互的文件系统; 因此, HDFS的目标是高数据吞吐,不是低数据访问延迟\n",
    "\n",
    "#### 3. 简单一致性模式\n",
    "* HDFS上的文件一次写多次读. 文件已经创建完毕, 不能再被修改, 只能在文件末尾追加内容\n",
    "\n",
    "#### 4. Moving Computation is Cheaper than Moving Data\n",
    "* 把计算的执行运行在离数据存储的机器较近的节点, 比移动数据要更加高效.\n",
    "* HDFS提供了这样的接口, 把应用发往数据存储较近的节点"
   ]
  },
  {
   "cell_type": "markdown",
   "metadata": {},
   "source": [
    "### 二. HDFS架构\n",
    "\n",
    "#### 1. NameNode和DataNode\n",
    "* HDFS是master/slave架构.namenode是master,datanode是slave\n",
    "* NameNode和DataNode的文件职责\n",
    "    * NameNode: 完成文件系统命名空间(文件树)的操作, 比如:打开,关闭,重命名文件/文件夹 \n",
    "    * DataNode: 作为处理读写的服务端, 返回给客户端response.\n",
    "        主要完成读,写,block的创建,删除,复制副本\n",
    "* NameNode\n",
    "    * NameNode是仲裁者的角色, 并且是hdfs所有原数据的仓库\n",
    "    * HDFS文件的数据从来不经过NameNode\n",
    "    * 文件系统命名空间(文件树)的任何变化都会被记录在Namenode中\n",
    "\n",
    "#### 2. 数据副本"
   ]
  },
  {
   "cell_type": "markdown",
   "metadata": {},
   "source": [
    "\n",
    "\n",
    "#### 2. hdfs文件系统对比磁盘文件系统\n",
    "* 文件拆接到不同扇区放到应哦按上\n",
    "* 文件拆解成不同Block放到不同机器上\n",
    "\n",
    "#### 3. 免密码登录的作用:   \n",
    "NameNode可以通过ssh到datanode(slave文件中配置的), 执行hadoop-deamon.sh start datanode启动DataNode\n",
    "    \n",
    "#### 4. haddop一直处于safe mode的问题?  \n",
    " block汇报数量达不到namenode的要求, 说明有block丢失了\n",
    " \n",
    "#### 5. 什么是safe mode?    \n",
    " * Datanode启动后, 需要向namenode汇报自己持有的block数, 和namenode自己记录的总block数比较, 达到0.9999后才可以启动集群\n",
    " * checkpoint   \n",
    "    * hdfs上的操作记录日志editlog, 到达一个checkpoint后, 合并fsimage与editlog形成新的fsimage\n",
    "    * secondary namenode原本是为了合并fsimage和editlog,   \n",
    "    * 现在由standby namenode做这部分工作, 而且作为另一个热备\n",
    " \n",
    "#### 6. fsimage中记录的什么  \n",
    "记录的文件目录树\n",
    "\n",
    "#### 7. 共享存储 jornal node (paxos实现)\n",
    "* jornal node只记录\n",
    "* 什么算create成功?\n",
    "* 先写namenode, 再写jornalnode\n",
    "    \n",
    "#### 8. federation\n",
    "* federation的作用, 把整个文件系统的文件目录树劈开, 分给不同的namenode管理\n",
    "* 所有的datanode向所有的namenode汇报, 但是datanode只把属于某个namenode的block信息汇报给该namenode\n"
   ]
  },
  {
   "cell_type": "markdown",
   "metadata": {},
   "source": [
    "#### 9. Block\n",
    "只有namenode知道文件到block的映射\n",
    "datanode不知道这个block属于哪一个文件, datanode写的是名为\"blk_blockid\"的文件"
   ]
  }
 ],
 "metadata": {
  "kernelspec": {
   "display_name": "Python 3",
   "language": "python",
   "name": "python3"
  },
  "language_info": {
   "codemirror_mode": {
    "name": "ipython",
    "version": 3
   },
   "file_extension": ".py",
   "mimetype": "text/x-python",
   "name": "python",
   "nbconvert_exporter": "python",
   "pygments_lexer": "ipython3",
   "version": "3.6.5"
  }
 },
 "nbformat": 4,
 "nbformat_minor": 2
}
