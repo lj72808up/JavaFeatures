{
 "cells": [
  {
   "cell_type": "markdown",
   "metadata": {},
   "source": [
    "<img src=\"img/yarn_architecture.png\">"
   ]
  },
  {
   "cell_type": "markdown",
   "metadata": {},
   "source": [
    "### ResourceManager\n",
    "1. 处理客户端请求  \n",
    "2. 启动,监控ApplicationMaster  \n",
    "3. 监控NodeManager  \n",
    "4. 分配资源,调度"
   ]
  },
  {
   "cell_type": "markdown",
   "metadata": {},
   "source": [
    "### NodeManager\n",
    "1. 每个节点有一个, 负责所在节点的资源管理和使用  \n",
    "2. 配置所在节点可使用的内存,CPU  \n",
    " 默认值: 8GB,32CPU  \n",
    "3. 处理来自ResourceManager和ApplicationMaster的命令 "
   ]
  },
  {
   "cell_type": "markdown",
   "metadata": {},
   "source": [
    "### Container  \n",
    "1. 代表任务运行环境  \n",
    "2. 每个节点可启动多个container"
   ]
  },
  {
   "cell_type": "markdown",
   "metadata": {},
   "source": [
    "### ApplicationMaster  \n",
    "1. Yarn应用由2部分组成: Client和ApplicationMaster  \n",
    "2. Client:  \n",
    "    * 负责从ResourceManager获取ApplicationMaster ID  \n",
    "    * 将ApplicationMaster程序,启动ApplicationMaster所需各种文件资源,jar包,环境变量、启动命令,运行ApplicationMaster所需的内存CPU等, 发往ResourceManager  \n",
    "3. ApplicationMaster  \n",
    "    * ResourceManager会把Client提交的ApplicaitonMaster运行到某个节点上. ApplicationMaster向ResourceManager汇报所在节点的host,tracking url, rpc端口等信息  \n",
    "    * 向ResourceManager申请申请一些列运行的Container  \n",
    "    * 向对应节点的NodeManager申请开启Container\n",
    "    \n",
    "[编写一个Yarn应用](https://hadoop.apache.org/docs/current/hadoop-yarn/hadoop-yarn-site/WritingYarnApplications.html)"
   ]
  }
 ],
 "metadata": {
  "kernelspec": {
   "display_name": "Python 3",
   "language": "python",
   "name": "python3"
  },
  "language_info": {
   "codemirror_mode": {
    "name": "ipython",
    "version": 3
   },
   "file_extension": ".py",
   "mimetype": "text/x-python",
   "name": "python",
   "nbconvert_exporter": "python",
   "pygments_lexer": "ipython3",
   "version": "3.6.5"
  }
 },
 "nbformat": 4,
 "nbformat_minor": 2
}
