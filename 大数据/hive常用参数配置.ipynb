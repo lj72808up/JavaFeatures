{
 "cells": [
  {
   "cell_type": "markdown",
   "metadata": {},
   "source": [
    "#### hive cli内部制定\n",
    "```bash\n",
    "# 插入数据时, 不用把指定分区字段的值, 按照普通字段一样插入, 自动将数据append到目标分区下\n",
    "set hive.exec.dynamic.partition=true;   \n",
    "# 所有字段都可以作为动态分区. (默认为strict,必须至少指定一个分区值)\n",
    "set hive.exec.dynamic.partition.mode=nonstrict; \n",
    "# yarn任务优先级为高\n",
    "SET mapreduce.job.priority=HIGH;        \n",
    "# 导出数据时指定表头\n",
    "set hive.cli.print.header=true;         \n",
    "\n",
    "set mapreduce.map.memory.mb=10240;\n",
    "set mapreduce.map.java.opts=-Xmx9216m;      # 90%的mapreduce.map.memory.mb\n",
    " \n",
    "set mapreduce.reduce.memory.mb=10240;\n",
    "set mapreduce.reduce.java.opts=-Xmx9216m;   # 90%的mapreduce.reduce.memory.mb\n",
    "\n",
    "```\n",
    "\n",
    "#### hive cli启动指定\n",
    "```bash\n",
    "hive --hiveconf mapreduce.job.priority=HIGH  \n",
    "     --hiveconf mapreduce.map.memory.mb=10240\n",
    "     --hiveconf mapreduce.map.java.opts=-Xmx9216m \n",
    "     --hiveconf mapreduce.reduce.memory.mb=10240 \n",
    "     --hiveconf mapreduce.reduce.java.opts=-Xmx9216m \n",
    "     --hiveconf hive.cli.print.header=true\n",
    "```\n",
    "\n",
    "#### hive 开启map 端聚合\n",
    "```bash\n",
    "set hive.map.aggr=true;\n",
    "set mapreduce.reduce.shuffle.memory.limit.percent=0.10;\n",
    "set mapreduce.map.memory.mb=5120;\n",
    "set mapreduce.map.java.opts=-Xmx4096m;\n",
    "set mapred.reduce.tasks = 200;  # 加速处理用的\n",
    "```"
   ]
  }
 ],
 "metadata": {
  "kernelspec": {
   "display_name": "Python 3 (ipykernel)",
   "language": "python",
   "name": "python3"
  },
  "language_info": {
   "codemirror_mode": {
    "name": "ipython",
    "version": 3
   },
   "file_extension": ".py",
   "mimetype": "text/x-python",
   "name": "python",
   "nbconvert_exporter": "python",
   "pygments_lexer": "ipython3",
   "version": "3.9.12"
  }
 },
 "nbformat": 4,
 "nbformat_minor": 2
}
