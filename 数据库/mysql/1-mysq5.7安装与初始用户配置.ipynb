{
 "cells": [
  {
   "cell_type": "markdown",
   "metadata": {},
   "source": [
    "#### 1. 安装\n",
    "```bash\n",
    "sudo apt-get update \n",
    "sudo apt-get install mysql-server\n",
    "\n",
    "service mysql start\n",
    "```\n",
    "\n",
    "#### 2. 用默认的root账号登录\n",
    "```bash\n",
    "su root     # ubuntu用户切换成root\n",
    "mysql -u root # 用root账号进入mysql\n",
    "```\n",
    "\n",
    "#### 3. 创建一个账号并授权\n",
    "```mysql\n",
    "CREATE USER 'username'@'host' IDENTIFIED BY 'password';\n",
    "```\n",
    "说明：\n",
    "* username：你将创建的用户名\n",
    "* host：指定该用户在哪个主机上可以登陆，如果是本地用户可用localhost，如果想让该用户可以从任意远程主机登陆，可以使用通配符%\n",
    "* password：该用户的登陆密码，密码可以为空，如果为空则该用户可以不需要密码登陆服务器  \n",
    "\n",
    "例子： \n",
    "```mysql\n",
    "CREATE USER 'dog'@'localhost' IDENTIFIED BY '123456';\n",
    "CREATE USER 'pig'@'192.168.1.101_' IDENDIFIED BY '123456';\n",
    "CREATE USER 'pig'@'%' IDENTIFIED BY '123456';\n",
    "CREATE USER 'pig'@'%' IDENTIFIED BY '';\n",
    "CREATE USER 'pig'@'%';\n",
    "```\n",
    "\n",
    "#### 4. 授权:\n",
    "命令:\n",
    "```mysql\n",
    "GRANT privileges ON databasename.tablename TO 'username'@'host'\n",
    "```\n",
    "说明:  \n",
    "* privileges：用户的操作权限，如SELECT，INSERT，UPDATE等，如果要授予所的权限则使用ALL\n",
    "* databasename：数据库名\n",
    "* tablename：表名，如果要授予该用户对所有数据库和表的相应操作权限则可用\\*表示，如`*.*`\n",
    "\n",
    "例子:\n",
    "```mysql\n",
    "GRANT SELECT, INSERT ON test.user TO 'pig'@'%';\n",
    "GRANT ALL ON *.* TO 'pig'@'%';\n",
    "```\n",
    "\n",
    "注意:  \n",
    "用以上命令授权的用户不能给其它用户授权，如果想让该用户可以授权，用以下命令:\n",
    "```mysql\n",
    "GRANT privileges ON databasename.tablename TO 'username'@'host' WITH GRANT OPTION;\n",
    "```"
   ]
  },
  {
   "cell_type": "code",
   "execution_count": null,
   "metadata": {},
   "outputs": [],
   "source": []
  }
 ],
 "metadata": {
  "kernelspec": {
   "display_name": "Python 3",
   "language": "python",
   "name": "python3"
  },
  "language_info": {
   "codemirror_mode": {
    "name": "ipython",
    "version": 3
   },
   "file_extension": ".py",
   "mimetype": "text/x-python",
   "name": "python",
   "nbconvert_exporter": "python",
   "pygments_lexer": "ipython3",
   "version": "3.7.0"
  }
 },
 "nbformat": 4,
 "nbformat_minor": 2
}
