{
 "cells": [
  {
   "cell_type": "markdown",
   "metadata": {},
   "source": [
    "#### 1. Mysq中所有的时间类型\n",
    "* `DATE`: 年-月-日 (0000-00-00)\n",
    "* `TIME`: 时:分:秒 (00:00:00)\n",
    "* `DATETIME`: 年-月-日 时:分:秒  (0000-00-00 00:00:00)\n",
    "* `TIMESTAMP` : 年-月-日 时:分:秒(0000-00-00 00:00:00)\n",
    "* `YEAR` : 年(0000)\n",
    "\n",
    "\n",
    "#### 2. DATETIME类型与TIMESTAMP类型\n",
    "* `TIMESTAMP`\n",
    "    * `TIMESTAMP`和时区相关，更能反映当前时间。\n",
    "        * 当插入日期时，会先转换将本地时区转换成UTC后再存储；\n",
    "        * 当查询日期时，会将存储的UTC时间转换为本地时区后再显示。所以不同时区的人看到的同一时间是  不一样的。\n",
    "    * `TIMESTAMP`表示的时间范围较短, 最大到`2038`年的某个时刻\n",
    "* `DATETIME`\n",
    "    * 存储的都是不带时区的时间\n",
    "    * 表示的时间范围更大. 最大到`9999-12-31 23:59:59`"
   ]
  }
 ],
 "metadata": {
  "kernelspec": {
   "display_name": "Python 3",
   "language": "python",
   "name": "python3"
  },
  "language_info": {
   "codemirror_mode": {
    "name": "ipython",
    "version": 3
   },
   "file_extension": ".py",
   "mimetype": "text/x-python",
   "name": "python",
   "nbconvert_exporter": "python",
   "pygments_lexer": "ipython3",
   "version": "3.7.4"
  }
 },
 "nbformat": 4,
 "nbformat_minor": 2
}
