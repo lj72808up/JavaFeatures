{
 "cells": [
  {
   "cell_type": "markdown",
   "metadata": {},
   "source": [
    "### 一. 优化总览: \n",
    "#### 1.1 Database级别的优化: \n",
    "1. 表结构是否合适?    \n",
    "    比如应用频繁的更新很多张有很少column的表, 但经过分析得知, 其实应用可以只更新几张有很多column的表   \n",
    "2. 索引是否正确达到极速查询的目的   \n",
    "3. 表是否采用了何时的行存储格式? 这依赖mysql的存储迎请选择   \n",
    "    比如: 采用表压缩可以降低磁盘占用, 减少磁盘IO. 表压缩适用于所有的InnoDB表, 但只适用于read-only的MyISAM表\n",
    "\n",
    "4. 合适的锁策略(lock strategy)     \n",
    "    InnoDB存储引擎处理了绝大多数情况的锁事件  \n",
    "\n",
    "5. 用于cache的内存大小设置的是否合理?    \n",
    "    应该足够大来缓存经常访问的数据, 同时又不至于太大超多物理内存而产生缺页.    \n",
    "    主要配置的内存区域为: InnoDB下的buffer pool, MyISAM下的key cache, 和mysql的query cache.\n",
    "\n",
    "#### 1.2 硬件层级的优化\n",
    "随着数据库越来越繁忙, 最终都会抵达硬件的极限; 系统瓶颈一般来自这些资源: \n",
    "1. 磁盘:   \n",
    "    磁盘查找时间(disk seek): 找到一个数据偏所花的时间, 现代磁盘一般在10ms左右    \n",
    "    磁盘读写时间: 现代磁盘一般在10~20mb每秒. 可以会用多个磁盘并行读写的方式优化    \n",
    "2. CPU频率:     \n",
    "    对于大表的计算, 高频率带来高性能; 如果表很小, CPU频率往往不是瓶颈\n",
    "3. 内存带宽"
   ]
  }
 ],
 "metadata": {
  "kernelspec": {
   "display_name": "Python 3",
   "language": "python",
   "name": "python3"
  },
  "language_info": {
   "codemirror_mode": {
    "name": "ipython",
    "version": 3
   },
   "file_extension": ".py",
   "mimetype": "text/x-python",
   "name": "python",
   "nbconvert_exporter": "python",
   "pygments_lexer": "ipython3",
   "version": "3.7.4"
  }
 },
 "nbformat": 4,
 "nbformat_minor": 2
}
