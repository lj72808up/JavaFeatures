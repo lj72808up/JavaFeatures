{
 "cells": [
  {
   "cell_type": "markdown",
   "metadata": {},
   "source": [
    "#### 一. 概览\n",
    "操作系统检测到一个混乱的 TCP 连接(`Disrupted TCP connection`)通常需要很长的一段时间(linux上默认配置为11分钟); `AMQP 0-9-1`提供了一种心跳机制,从而实现: \n",
    "* 让应用层可以迅速的发现 TCP 连接混乱\n",
    "* 抵御网络设备关闭空闲的 TCP 连接(一段时间没有收发消息)  \n",
    "\n",
    "`TCP keepalives`是 TCP 栈的特性, 实现了类似的功能. `TCP keepalives` 可以和 `Heartbeat` 配合使用\n",
    "\n",
    "#### 二. Heartbeat Timeout Value\n",
    "* `heartbeat timeout`值定义了在经过多长时间后, 被监控的 `RabbitMQ` 和客户端之间的 TCP 连接不可达\n",
    "* `heartbeat timeout = 60` 默认值, 单位是秒; 如果将这个值配置成0, 说明客户端不开启心跳"
   ]
  },
  {
   "cell_type": "code",
   "execution_count": null,
   "metadata": {},
   "outputs": [],
   "source": []
  }
 ],
 "metadata": {
  "kernelspec": {
   "display_name": "Python 3",
   "language": "python",
   "name": "python3"
  },
  "language_info": {
   "codemirror_mode": {
    "name": "ipython",
    "version": 3
   },
   "file_extension": ".py",
   "mimetype": "text/x-python",
   "name": "python",
   "nbconvert_exporter": "python",
   "pygments_lexer": "ipython3",
   "version": "3.7.4"
  }
 },
 "nbformat": 4,
 "nbformat_minor": 2
}
