{
 "cells": [
  {
   "cell_type": "markdown",
   "metadata": {},
   "source": [
    "#### 一. 同步异步与阻塞非阻塞的区分\n",
    "1. 同步异步: 从2个任务的执行顺序上区分  \n",
    "    * 同步: 指一个任务, 只有当另一个任务返回后才能继续执行本任务\n",
    "    * 异步: 指一个任务只是发起一个通知告诉另一个任务可以执行了, 然后就继续执行自身的任务\n",
    "    \n",
    " 同步可以保证2个任务的执行顺序, 而异步不能\n",
    " \n",
    " \n",
    "2. 阻塞和非阻塞: 从1个线程等待另一个线程返回时的状态区分\n",
    "    * 阻塞: 一个线程如果在等待另一个线程返回时, 自身处于挂起状态, 就是阻塞的  \n",
    "    * 非阻塞: 反之则是非阻塞\n",
    "    \n",
    "    \n",
    "3. 同步阻塞和同步非阻塞  \n",
    " 同步表示必须保证任务顺序, 阻塞表示线程等待另一个线程时是否会被挂起, 因此:\n",
    "    * 同步非阻塞: 一个线程必须等待一个方法调用完毕才能继续执行接下来的任务, 且在等待过程中还可以执行其他方法, 则是同步非阻塞的\n",
    "    * 同步阻塞:  一个线程必须等待一个方法调用完毕才能继续执行接下来的任务, 但是等待过程中自己处于挂起状态, 则是同步阻塞的"
   ]
  },
  {
   "cell_type": "code",
   "execution_count": null,
   "metadata": {},
   "outputs": [],
   "source": []
  }
 ],
 "metadata": {
  "kernelspec": {
   "display_name": "Python 3",
   "language": "python",
   "name": "python3"
  },
  "language_info": {
   "codemirror_mode": {
    "name": "ipython",
    "version": 3
   },
   "file_extension": ".py",
   "mimetype": "text/x-python",
   "name": "python",
   "nbconvert_exporter": "python",
   "pygments_lexer": "ipython3",
   "version": "3.7.0"
  }
 },
 "nbformat": 4,
 "nbformat_minor": 2
}
