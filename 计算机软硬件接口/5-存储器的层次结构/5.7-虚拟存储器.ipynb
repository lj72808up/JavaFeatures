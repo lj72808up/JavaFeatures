{
 "cells": [
  {
   "cell_type": "markdown",
   "metadata": {},
   "source": [
    "#### 一. 什么是虚拟存储器\n",
    "1. 虚拟存储器  \n",
    "  虚拟存储器是一种, 使用内存作为磁盘缓存的技术. 其构造书要有2个动机:\n",
    "    * 在云计算中, 允许多个虚拟机共享主存  \n",
    "    * 消除主存的容量限制对程序设计造成的影响  \n",
    "    \n",
    " 现在第一条是主要动机\n",
    " \n",
    " \n",
    "2. 虚拟地址和物理地址\n",
    "    * 虚拟地址 : 每个进程自己的地址空间\n",
    "    * 物理地址 : 主存的地址\n",
    "    \n",
    " 虚拟存储器实现了虚拟地址到物理地址的转化, 是对每个进程的地址空间的保护(确保进程之间不会无意的互相干扰), 也把操作系统和用户的进程隔离开来(分为了内核空间和用户空间)\n",
    " \n",
    "\n",
    "3. 虚拟存储器把程序员的负担解脱出来  \n",
    "   虚拟存储器, 自动的管理内存和磁盘的两级存储器层次结构. \n",
    "   \n",
    "   \n",
    "4. 地址转换   \n",
    "  虚拟存储器和cache的工作原理一样, 但由于历史原因使用了不同的术语. 虚拟存储器中, cache块被称为页(page), cache访问缺失被称为\"缺页\".cpu产生的虚拟地址使用地址转换后形成物理地址, 这个物理地址就用来访问内存."
   ]
  },
  {
   "cell_type": "code",
   "execution_count": null,
   "metadata": {},
   "outputs": [],
   "source": []
  }
 ],
 "metadata": {
  "kernelspec": {
   "display_name": "Python 3",
   "language": "python",
   "name": "python3"
  },
  "language_info": {
   "codemirror_mode": {
    "name": "ipython",
    "version": 3
   },
   "file_extension": ".py",
   "mimetype": "text/x-python",
   "name": "python",
   "nbconvert_exporter": "python",
   "pygments_lexer": "ipython3",
   "version": "3.7.0"
  }
 },
 "nbformat": 4,
 "nbformat_minor": 2
}
