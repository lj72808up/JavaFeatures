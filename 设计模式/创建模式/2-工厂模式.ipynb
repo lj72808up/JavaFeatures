{
 "cells": [
  {
   "cell_type": "markdown",
   "metadata": {},
   "source": [
    "[https://mp.weixin.qq.com/s/VIQIyg_aWSKx--syBwMLdg](https://mp.weixin.qq.com/s/VIQIyg_aWSKx--syBwMLdg)"
   ]
  },
  {
   "attachments": {},
   "cell_type": "markdown",
   "metadata": {},
   "source": [
    "#### 1. 为什么需要工厂模式\n",
    "非工厂模式:  \n",
    "   面向对象编程的方式, 一旦依赖了某个类的方法, 想要在换一套实现变得不可能. 所谓\"面向扩展开放, 面向修改封闭\"(如下, 不能修改Service中`Dao dao = new JpaDao`这行, 也不能直接修改JpaDao这个类), 因此, 我们需要一种把对象的使用和对象的创建分离开来的方法\n",
    "<img src=\"../img/factory1.png\" width=\"90%\">\n",
    "\n",
    "#### 2.简单工厂模式(静态工厂模式)  \n",
    "工厂模式变为了面向接口编程, 简单工厂, 只是需要的对象提升成接口, 工厂模式下, 工厂类也有自己的接口   \n",
    "**java的静态方法不能被覆盖, 重写**, 因此该工厂类不能被扩展\n",
    "<img src=\"../img/factory2.png\" width=\"90%\">\n",
    "为了让工厂能够创建出来多个Dao,想到可以利用传入类名+反射的技巧, 来替代工厂类中直接new对象, 使其可以产生各种不同对象, 修改Factory  \n",
    "<img src=\"../img/factory3.png\" width=\"90%\">\n",
    "\n",
    "#### 3. 工厂模式\n",
    "简单工厂模式只能创建一个对象; 当要创建多个对象的时候, 就需要使用普通工厂模式; 我们为每个对象设置一个工厂类, 对象的生成由所属工厂完成, 最后把所有工厂类抽象出一个工厂接口\n",
    "<img src=\"../img/factory4.png\" width=\"90%\">\n",
    "\n",
    "#### 4. 抽象工厂模式 (可以产生同组对象的工厂模式)\n",
    "<img src=\"../img/factory5.png\" width=\"90%\">\n",
    "<img src=\"../img/factory6.png\" width=\"90%\">"
   ]
  },
  {
   "cell_type": "code",
   "execution_count": null,
   "metadata": {},
   "outputs": [],
   "source": []
  }
 ],
 "metadata": {
  "kernelspec": {
   "display_name": "Python 3",
   "language": "python",
   "name": "python3"
  },
  "language_info": {
   "codemirror_mode": {
    "name": "ipython",
    "version": 3
   },
   "file_extension": ".py",
   "mimetype": "text/x-python",
   "name": "python",
   "nbconvert_exporter": "python",
   "pygments_lexer": "ipython3",
   "version": "3.7.0"
  }
 },
 "nbformat": 4,
 "nbformat_minor": 2
}
