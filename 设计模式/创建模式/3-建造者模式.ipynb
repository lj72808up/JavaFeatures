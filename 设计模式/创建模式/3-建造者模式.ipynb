{
 "cells": [
  {
   "cell_type": "markdown",
   "metadata": {},
   "source": [
    "[reference](https://mp.weixin.qq.com/s?__biz=MzAxMjEwMzQ5MA==&mid=2448888494&idx=1&sn=9c40171e5dfb42563bb1b29dcc44dcb1&chksm=8fb54883b8c2c195dc1cd9e3cd905fb317bab4106bc989314049b7eb2ecf5bd59f1f38a76f27&mpshare=1&scene=24&srcid=10185SIOWKmadEbwngNRaNeJ&sharer_sharetime=1571333546577&sharer_shareid=aee7ddb5e98ecf4c7211b17337c7846f&key=79a78721542791213e765ead77b8e5a1bd0fa1961ec29ab97a7889dee689df6e58fa9cf56f2c248d45a9d43660e694950e4546605d1ca7530f0399bc448dfc06e3c04d127da641b844efc3d51e0c5d77&ascene=14&uin=MTk5NDMyOTc1&devicetype=Windows+10&version=62070152&lang=zh_CN&pass_ticket=pchWxoir9vVXqyUfmSxwdjztmLRsvBrevyJXhICcWNs%3D)"
   ]
  },
  {
   "cell_type": "markdown",
   "metadata": {},
   "source": [
    "#### 1. 一个组装电脑的例子, 看工厂模式和建造者模式  \n",
    "* 之前在讲工厂模式的时候说过，工厂模式主要是用来生产**一个完整的产品**的。也就是说，用工厂模式创建出来的对象，就是一个最终的产品了。虽然抽象工厂模式可以一下子创建多个产品，但是这多个产品其本身就是一个完整的最终的产品，直接就可以使用了，无非是抽象工厂模式创建的这些个产品之类有一些关联，属于同一个类型的东西。  \n",
    "* 但是我们的这个需求中，**对于电脑而言**，并不是需要创建出内存/CPU这些对象，而是需要创建出将他们组合后构成的一个完整的电脑对象。当然你也可以使用工厂模式来创建这些个零件，但是，之后你也还需要自己去对这些零部件进行组装，也就是说，你还是需要对这个对象的组成细节了解清楚，否则，你还是无法创建出一个完整的对象。另外，还会出现多一个零件，少一个零件的问题，会增加客户端的复杂度。  \n",
    "* 于是，我们今天要讲的主角——建造者模式就闪亮登场了。\n",
    "\n",
    "#### 2. 什么是建造者模式  \n",
    "* 建造者模式解决什么问题  \n",
    "  建造者模式要解决的场景就是这个需求，致力于将一系列琐碎的零部件组装成一个完整的对象，而这其中具体的组装细节客户端是不需要知道的。\n",
    "```\n",
    "在建造者模式中，有一个抽象接口，里面会定义一系列对象零部件的装配的方法（组装内存、CPU、鼠标等这些个零件）。然后会有一个组装的人（比如电脑卖家），对这些个零部件进行组装，最后给客户端返回一个完整的对象。就比如上面组装电脑的例子。\n",
    "```\n",
    "* 建造者模式构建对象的方法\n",
    "    1. 首先, 有一个抽象接口, 负责提供**要构造这个对象, 先完成什么零件**的语义, 子类具体实现创建什么零件\n",
    "    <img src=\"../img/builder11.png\" width=\"100%\">\n",
    "    2. 然后, 有一个装配者, 将这些硬件组装成一个对象返回出去\n",
    "    <img src=\"../img/builder2.png\" width=\"100%\">\n",
    "    \n",
    "    3. 最后, 客户端直接调用装配者的方法返回这个对象\n",
    "    <img src=\"../img/builder3.png\" width=\"100%\">"
   ]
  },
  {
   "cell_type": "code",
   "execution_count": null,
   "metadata": {},
   "outputs": [],
   "source": []
  }
 ],
 "metadata": {
  "kernelspec": {
   "display_name": "Python 3",
   "language": "python",
   "name": "python3"
  },
  "language_info": {
   "codemirror_mode": {
    "name": "ipython",
    "version": 3
   },
   "file_extension": ".py",
   "mimetype": "text/x-python",
   "name": "python",
   "nbconvert_exporter": "python",
   "pygments_lexer": "ipython3",
   "version": "3.7.0"
  }
 },
 "nbformat": 4,
 "nbformat_minor": 2
}
