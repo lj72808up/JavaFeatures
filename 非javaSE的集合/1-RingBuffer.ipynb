{
 "cells": [
  {
   "cell_type": "markdown",
   "metadata": {},
   "source": [
    "## 四. RingBuffer\n",
    "#### 1. wrapping around  \n",
    "&nbsp;&nbsp;&nbsp;&nbsp;Ring Buffer是一个数组, 可以被用作队列(有界队列). 包含一个read position和一个write position, 分别表示下次从该位置读数据和下次再该位置写数据. 当write position到达数组的末尾时,置回为0, read position也一样, 这种position到达数组末尾就置回0的操作称作\"wrapping around\", 该操作把一个array变成RingBuffer\n",
    "\n",
    "#### 2. free space和used space  \n",
    "1. 当write position没有发生\"wrapping around\"时    \n",
    "     used space=\"write position\"和\"read position\"之间的区域    \n",
    "     剩下的为free space\n",
    "\n",
    "2. 当write position发生\"wrapping around\"时   \n",
    "     free space=\"write position\"和\"read position\"之间的区域  \n",
    "     剩下的是used space\n",
    "<img src=\"img/ringbuffer.png\" width=\"80%\" height=\"80%\">\n",
    "\n",
    "#### 3. RingBuffer实现  \n",
    "* Ring Buffers Are Fast\n",
    "    *  Ring Buffers易于实现开发快, 表现良好速度快\n",
    "* Ring Buffer Use Cases\n",
    "    * ring buffer通常有两种应用, 像真实队列一样使用; 或是用来产生数据, 供消费者消费(通过流式数据的途径)\n",
    "    * ringbuffer特别有用, 在要求有硬上限的情况下 (多少数据可以存储在ringbuffer/queue中)\n",
    "    * 如果想要一个无界队列, 可以选择linked list, 或是可resizeable的ringbuffer\n",
    "* ringbuffer有很多实现方式, 其中最简单的两种: \n",
    "    - Using a fill count\n",
    "    - Using a flip marker\n",
    "\n",
    "#### 4. fill count实现\n",
    "* fill count方式使用3个标记: capacity, write position和fill count; fillcount表示ring buffer中存在多少可用元素.  \n",
    "* 插入数据时, 先查看fill count是否已满, 如果未满则插入, 并把write position向后移动  \n",
    "* 读取数据时, 先查看fill count是否为0, 如果不为0, 则从`write position减fill count`的位置开始读取数据  \n",
    "* 如下使用available变量表示fill count\n",
    "\n",
    "#### 5. Flip Marker实现"
   ]
  },
  {
   "cell_type": "code",
   "execution_count": null,
   "metadata": {},
   "outputs": [],
   "source": []
  }
 ],
 "metadata": {
  "kernelspec": {
   "display_name": "Python 3",
   "language": "python",
   "name": "python3"
  },
  "language_info": {
   "codemirror_mode": {
    "name": "ipython",
    "version": 3
   },
   "file_extension": ".py",
   "mimetype": "text/x-python",
   "name": "python",
   "nbconvert_exporter": "python",
   "pygments_lexer": "ipython3",
   "version": "3.7.3"
  }
 },
 "nbformat": 4,
 "nbformat_minor": 2
}
