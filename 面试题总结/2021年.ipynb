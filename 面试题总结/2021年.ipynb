{
 "cells": [
  {
   "cell_type": "markdown",
   "metadata": {},
   "source": [
    "#### 美团\n",
    "1. 介绍 actor 模型是什么    \n",
    "一般有2种方式在线程之间通信, java 的 线程之间共享内存变量, 或者像 actor 模型这种消息传递进行. 前者面临的最大问题就是数据条件竞争, 需要处理各种锁处理同步. 而 actor 模型中, 每个 actor 基于消息传递, 是无锁模型. 而每个 actor 内部是单线程运行的  . 其次, actor 模型是异步的, 每个Actor都有一个专用的 MailBox 来接收消息，消息是投递到 mailbox 中的, 实现了 actor 之间的解耦, 这样, 发送消息和接收消息都不会互相阻塞. 其次, actor 是容错的,  传统线程模型, 一旦报错线程自然死亡, 所以要手动 catch 每种异常. 而 actor 可以任其崩溃, 由 actor 管理者来决定重新启动新的 actor 或是记录日志. (有点像线程池, 线程数量一但崩溃到小于 coreSize, 就会自动补位一个线程).    \n",
    "\n",
    "1. 链表内指定区间反转 (m,n);\n",
    "2. 系统稳定性指标,  平时关注的机器指标  \n",
    "  (1) 系统的 pv , uv   \n",
    "  (2) cpu 空闲率, 使用率\n",
    "  (3) jvm 各代的 gc 次数\n",
    "  (4) jvm 各代的 gc 时间   \n",
    "    http://learn.lianglianglee.com/%E4%B8%93%E6%A0%8F/%E5%88%86%E5%B8%83%E5%BC%8F%E6%8A%80%E6%9C%AF%E5%8E%9F%E7%90%86%E4%B8%8E%E5%AE%9E%E6%88%9845%E8%AE%B2-%E5%AE%8C/49%20%E7%BA%BF%E4%B8%8A%E6%9C%8D%E5%8A%A1%E6%9C%89%E5%93%AA%E4%BA%9B%E7%A8%B3%E5%AE%9A%E6%80%A7%E6%8C%87%E6%A0%87%EF%BC%9F.md      \n",
    "3. ArrayList 的扩容, 复制数组使用的是 System.copy, JNI 直接复制的内存   \n",
    "4. LinkedList 和 arrayList 在指定位置添加,都是 O(n)\n",
    "5. mysql 优化的手段 \n",
    "6. mysql explain 输出一般看什么列  \n",
    "  * key: 使用的是什么索引  \n",
    "  * rows:  扫描了多少行  \n",
    "7. mysql 的 buffer pool\n",
    "8. 说明白什么是 actor "
   ]
  },
  {
   "cell_type": "markdown",
   "metadata": {},
   "source": [
    "#### 老虎 \n",
    "1) MVCC 在 undo 段里怎么实现的 (弱化)   \n",
    "2) mysql 的 unique index 允许空值吗?     \n",
    "   允许多个空值存在, 因为 null 表示未知, 不能说是键值重复\n",
    "2) rabbitmq 如何保证 exactly once 语义     \n",
    "3) 如何保证 接口幂等性     \n",
    "4) 写一个 synchronized 的单例     \n",
    "   双重锁检验怎么进行的     \n",
    "5) hashTable 头插和尾插的区别       \n",
    "6) hashTable 的哈心算法在"
   ]
  }
 ],
 "metadata": {
  "kernelspec": {
   "display_name": "Python 2",
   "language": "python",
   "name": "python2"
  },
  "language_info": {
   "codemirror_mode": {
    "name": "ipython",
    "version": 2
   },
   "file_extension": ".py",
   "mimetype": "text/x-python",
   "name": "python",
   "nbconvert_exporter": "python",
   "pygments_lexer": "ipython2",
   "version": "2.7.16"
  }
 },
 "nbformat": 4,
 "nbformat_minor": 2
}
